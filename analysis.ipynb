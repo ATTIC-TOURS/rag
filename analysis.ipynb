{
 "cells": [
  {
   "cell_type": "code",
   "execution_count": 1,
   "id": "3e1e6012",
   "metadata": {},
   "outputs": [],
   "source": [
    "import pandas as pd"
   ]
  },
  {
   "cell_type": "code",
   "execution_count": 20,
   "id": "3253b26e",
   "metadata": {},
   "outputs": [],
   "source": [
    "experiments = pd.read_csv('rag_experiment_results.csv')"
   ]
  },
  {
   "cell_type": "code",
   "execution_count": 21,
   "id": "96d46935",
   "metadata": {},
   "outputs": [
    {
     "data": {
      "text/html": [
       "<div>\n",
       "<style scoped>\n",
       "    .dataframe tbody tr th:only-of-type {\n",
       "        vertical-align: middle;\n",
       "    }\n",
       "\n",
       "    .dataframe tbody tr th {\n",
       "        vertical-align: top;\n",
       "    }\n",
       "\n",
       "    .dataframe thead th {\n",
       "        text-align: right;\n",
       "    }\n",
       "</style>\n",
       "<table border=\"1\" class=\"dataframe\">\n",
       "  <thead>\n",
       "    <tr style=\"text-align: right;\">\n",
       "      <th></th>\n",
       "      <th>index_name</th>\n",
       "      <th>embeddings_model_name</th>\n",
       "      <th>llm_model_name</th>\n",
       "      <th>similarity_top_k</th>\n",
       "      <th>alpha</th>\n",
       "      <th>prompt_template</th>\n",
       "      <th>cross_encoder_model</th>\n",
       "      <th>rerank_top_n</th>\n",
       "      <th>llm_provider</th>\n",
       "      <th>openai_api_key</th>\n",
       "      <th>faithfulness</th>\n",
       "      <th>answer_relevancy</th>\n",
       "      <th>context_precision</th>\n",
       "      <th>context_recall</th>\n",
       "      <th>avg_latency_sec</th>\n",
       "      <th>latency_95th_sec</th>\n",
       "    </tr>\n",
       "  </thead>\n",
       "  <tbody>\n",
       "    <tr>\n",
       "      <th>0</th>\n",
       "      <td>Requirements</td>\n",
       "      <td>intfloat/multilingual-e5-base</td>\n",
       "      <td>gemma3:1b</td>\n",
       "      <td>3</td>\n",
       "      <td>0.8</td>\n",
       "      <td>metadata={'prompt_type': &lt;PromptType.CUSTOM: '...</td>\n",
       "      <td>cross-encoder/ms-marco-MiniLM-L-2-v2</td>\n",
       "      <td>2</td>\n",
       "      <td>ollama</td>\n",
       "      <td>sk-proj-rOAs2f_I7uQglhzUvuyuq5IoAR6YcAgKtOL5dL...</td>\n",
       "      <td>1.0</td>\n",
       "      <td>0.0</td>\n",
       "      <td>1.0</td>\n",
       "      <td>1.0</td>\n",
       "      <td>253.53478</td>\n",
       "      <td>253.53478</td>\n",
       "    </tr>\n",
       "  </tbody>\n",
       "</table>\n",
       "</div>"
      ],
      "text/plain": [
       "     index_name          embeddings_model_name llm_model_name  \\\n",
       "0  Requirements  intfloat/multilingual-e5-base      gemma3:1b   \n",
       "\n",
       "   similarity_top_k  alpha                                    prompt_template  \\\n",
       "0                 3    0.8  metadata={'prompt_type': <PromptType.CUSTOM: '...   \n",
       "\n",
       "                    cross_encoder_model  rerank_top_n llm_provider  \\\n",
       "0  cross-encoder/ms-marco-MiniLM-L-2-v2             2       ollama   \n",
       "\n",
       "                                      openai_api_key  faithfulness  \\\n",
       "0  sk-proj-rOAs2f_I7uQglhzUvuyuq5IoAR6YcAgKtOL5dL...           1.0   \n",
       "\n",
       "   answer_relevancy  context_precision  context_recall  avg_latency_sec  \\\n",
       "0               0.0                1.0             1.0        253.53478   \n",
       "\n",
       "   latency_95th_sec  \n",
       "0         253.53478  "
      ]
     },
     "execution_count": 21,
     "metadata": {},
     "output_type": "execute_result"
    }
   ],
   "source": [
    "experiments"
   ]
  },
  {
   "cell_type": "code",
   "execution_count": 18,
   "id": "f590ed4b",
   "metadata": {},
   "outputs": [
    {
     "data": {
      "text/plain": [
       "{'similarity_top_k': 3.0,\n",
       " 'alpha': 0.8,\n",
       " 'rerank_top_n': 2.0,\n",
       " 'avg_latency_sec': 99.4121150970459,\n",
       " 'latency_95th_sec': 99.4121150970459}"
      ]
     },
     "execution_count": 18,
     "metadata": {},
     "output_type": "execute_result"
    }
   ],
   "source": [
    "experiments.describe().loc['mean'].to_dict()"
   ]
  },
  {
   "cell_type": "code",
   "execution_count": 5,
   "id": "750edcad",
   "metadata": {},
   "outputs": [
    {
     "ename": "AttributeError",
     "evalue": "'DataFrame' object has no attribute 'summarize'",
     "output_type": "error",
     "traceback": [
      "\u001b[0;31m---------------------------------------------------------------------------\u001b[0m",
      "\u001b[0;31mAttributeError\u001b[0m                            Traceback (most recent call last)",
      "\u001b[0;32m/var/folders/0r/dktk9n0551j0gkccz4k6246h0000gn/T/ipykernel_54917/3534521389.py\u001b[0m in \u001b[0;36m?\u001b[0;34m()\u001b[0m\n\u001b[0;32m----> 1\u001b[0;31m \u001b[0mexperiments\u001b[0m\u001b[0;34m.\u001b[0m\u001b[0msummarize\u001b[0m\u001b[0;34m(\u001b[0m\u001b[0;34m)\u001b[0m\u001b[0;34m\u001b[0m\u001b[0;34m\u001b[0m\u001b[0m\n\u001b[0m",
      "\u001b[0;32m~/.pyenv/versions/rag310/lib/python3.10/site-packages/pandas/core/generic.py\u001b[0m in \u001b[0;36m?\u001b[0;34m(self, name)\u001b[0m\n\u001b[1;32m   6295\u001b[0m             \u001b[0;32mand\u001b[0m \u001b[0mname\u001b[0m \u001b[0;32mnot\u001b[0m \u001b[0;32min\u001b[0m \u001b[0mself\u001b[0m\u001b[0;34m.\u001b[0m\u001b[0m_accessors\u001b[0m\u001b[0;34m\u001b[0m\u001b[0;34m\u001b[0m\u001b[0m\n\u001b[1;32m   6296\u001b[0m             \u001b[0;32mand\u001b[0m \u001b[0mself\u001b[0m\u001b[0;34m.\u001b[0m\u001b[0m_info_axis\u001b[0m\u001b[0;34m.\u001b[0m\u001b[0m_can_hold_identifiers_and_holds_name\u001b[0m\u001b[0;34m(\u001b[0m\u001b[0mname\u001b[0m\u001b[0;34m)\u001b[0m\u001b[0;34m\u001b[0m\u001b[0;34m\u001b[0m\u001b[0m\n\u001b[1;32m   6297\u001b[0m         ):\n\u001b[1;32m   6298\u001b[0m             \u001b[0;32mreturn\u001b[0m \u001b[0mself\u001b[0m\u001b[0;34m[\u001b[0m\u001b[0mname\u001b[0m\u001b[0;34m]\u001b[0m\u001b[0;34m\u001b[0m\u001b[0;34m\u001b[0m\u001b[0m\n\u001b[0;32m-> 6299\u001b[0;31m         \u001b[0;32mreturn\u001b[0m \u001b[0mobject\u001b[0m\u001b[0;34m.\u001b[0m\u001b[0m__getattribute__\u001b[0m\u001b[0;34m(\u001b[0m\u001b[0mself\u001b[0m\u001b[0;34m,\u001b[0m \u001b[0mname\u001b[0m\u001b[0;34m)\u001b[0m\u001b[0;34m\u001b[0m\u001b[0;34m\u001b[0m\u001b[0m\n\u001b[0m",
      "\u001b[0;31mAttributeError\u001b[0m: 'DataFrame' object has no attribute 'summarize'"
     ]
    }
   ],
   "source": [
    "experiments.summarize()"
   ]
  }
 ],
 "metadata": {
  "kernelspec": {
   "display_name": "rag310",
   "language": "python",
   "name": "python3"
  },
  "language_info": {
   "codemirror_mode": {
    "name": "ipython",
    "version": 3
   },
   "file_extension": ".py",
   "mimetype": "text/x-python",
   "name": "python",
   "nbconvert_exporter": "python",
   "pygments_lexer": "ipython3",
   "version": "3.10.15"
  }
 },
 "nbformat": 4,
 "nbformat_minor": 5
}
