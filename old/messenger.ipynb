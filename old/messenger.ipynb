{
 "cells": [
  {
   "cell_type": "code",
   "execution_count": 1,
   "metadata": {},
   "outputs": [],
   "source": [
    "import pandas as pd"
   ]
  },
  {
   "cell_type": "code",
   "execution_count": 2,
   "metadata": {},
   "outputs": [],
   "source": [
    "DATA_PATH = \"./dataset/data_annotation/messenger_data.xlsx\""
   ]
  },
  {
   "cell_type": "code",
   "execution_count": 3,
   "metadata": {},
   "outputs": [],
   "source": [
    "messenger_data = pd.read_excel(DATA_PATH)"
   ]
  },
  {
   "cell_type": "code",
   "execution_count": 4,
   "metadata": {},
   "outputs": [
    {
     "data": {
      "text/html": [
       "<div>\n",
       "<style scoped>\n",
       "    .dataframe tbody tr th:only-of-type {\n",
       "        vertical-align: middle;\n",
       "    }\n",
       "\n",
       "    .dataframe tbody tr th {\n",
       "        vertical-align: top;\n",
       "    }\n",
       "\n",
       "    .dataframe thead th {\n",
       "        text-align: right;\n",
       "    }\n",
       "</style>\n",
       "<table border=\"1\" class=\"dataframe\">\n",
       "  <thead>\n",
       "    <tr style=\"text-align: right;\">\n",
       "      <th></th>\n",
       "      <th>Column1</th>\n",
       "      <th>Question</th>\n",
       "      <th>categories</th>\n",
       "    </tr>\n",
       "  </thead>\n",
       "  <tbody>\n",
       "    <tr>\n",
       "      <th>0</th>\n",
       "      <td>0</td>\n",
       "      <td>pwede po ba mag tour .. for 3months</td>\n",
       "      <td>requirements</td>\n",
       "    </tr>\n",
       "    <tr>\n",
       "      <th>1</th>\n",
       "      <td>1</td>\n",
       "      <td>You can now message and call each other and se...</td>\n",
       "      <td>NaN</td>\n",
       "    </tr>\n",
       "    <tr>\n",
       "      <th>2</th>\n",
       "      <td>2</td>\n",
       "      <td>pwede po pasend ng requirement for Japan Visa ...</td>\n",
       "      <td>requirements</td>\n",
       "    </tr>\n",
       "    <tr>\n",
       "      <th>3</th>\n",
       "      <td>3</td>\n",
       "      <td>You can now message and call each other and se...</td>\n",
       "      <td>NaN</td>\n",
       "    </tr>\n",
       "    <tr>\n",
       "      <th>4</th>\n",
       "      <td>4</td>\n",
       "      <td>Hi Good day. Question lang \\n\\nPwede ba mag ap...</td>\n",
       "      <td>requirements</td>\n",
       "    </tr>\n",
       "    <tr>\n",
       "      <th>...</th>\n",
       "      <td>...</td>\n",
       "      <td>...</td>\n",
       "      <td>...</td>\n",
       "    </tr>\n",
       "    <tr>\n",
       "      <th>1705</th>\n",
       "      <td>1705</td>\n",
       "      <td>Hi!! Ask ko lang po pwede po ba ma multiple vi...</td>\n",
       "      <td>NaN</td>\n",
       "    </tr>\n",
       "    <tr>\n",
       "      <th>1706</th>\n",
       "      <td>1706</td>\n",
       "      <td>Sige po ano oras po ba open niyo sa sm fairview</td>\n",
       "      <td>NaN</td>\n",
       "    </tr>\n",
       "    <tr>\n",
       "      <th>1707</th>\n",
       "      <td>1707</td>\n",
       "      <td>Sige po salamat, eh may nagpapa ask din po paa...</td>\n",
       "      <td>NaN</td>\n",
       "    </tr>\n",
       "    <tr>\n",
       "      <th>1708</th>\n",
       "      <td>1708</td>\n",
       "      <td>Ask ko lang po sana yung kuya ko po kasi iinvi...</td>\n",
       "      <td>NaN</td>\n",
       "    </tr>\n",
       "    <tr>\n",
       "      <th>1709</th>\n",
       "      <td>1709</td>\n",
       "      <td>You can now message and call each other and se...</td>\n",
       "      <td>NaN</td>\n",
       "    </tr>\n",
       "  </tbody>\n",
       "</table>\n",
       "<p>1710 rows × 3 columns</p>\n",
       "</div>"
      ],
      "text/plain": [
       "      Column1                                           Question    categories\n",
       "0           0                pwede po ba mag tour .. for 3months  requirements\n",
       "1           1  You can now message and call each other and se...           NaN\n",
       "2           2  pwede po pasend ng requirement for Japan Visa ...  requirements\n",
       "3           3  You can now message and call each other and se...           NaN\n",
       "4           4  Hi Good day. Question lang \\n\\nPwede ba mag ap...  requirements\n",
       "...       ...                                                ...           ...\n",
       "1705     1705  Hi!! Ask ko lang po pwede po ba ma multiple vi...           NaN\n",
       "1706     1706    Sige po ano oras po ba open niyo sa sm fairview           NaN\n",
       "1707     1707  Sige po salamat, eh may nagpapa ask din po paa...           NaN\n",
       "1708     1708  Ask ko lang po sana yung kuya ko po kasi iinvi...           NaN\n",
       "1709     1709  You can now message and call each other and se...           NaN\n",
       "\n",
       "[1710 rows x 3 columns]"
      ]
     },
     "execution_count": 4,
     "metadata": {},
     "output_type": "execute_result"
    }
   ],
   "source": [
    "messenger_data"
   ]
  },
  {
   "cell_type": "code",
   "execution_count": 7,
   "metadata": {},
   "outputs": [],
   "source": [
    "columns = [\"Question\", \"categories\"]"
   ]
  },
  {
   "cell_type": "code",
   "execution_count": 8,
   "metadata": {},
   "outputs": [],
   "source": [
    "messenger_data = messenger_data[columns]"
   ]
  },
  {
   "cell_type": "code",
   "execution_count": 12,
   "metadata": {},
   "outputs": [
    {
     "name": "stdout",
     "output_type": "stream",
     "text": [
      "<class 'pandas.core.frame.DataFrame'>\n",
      "RangeIndex: 1710 entries, 0 to 1709\n",
      "Data columns (total 2 columns):\n",
      " #   Column      Non-Null Count  Dtype \n",
      "---  ------      --------------  ----- \n",
      " 0   Question    1710 non-null   object\n",
      " 1   categories  24 non-null     object\n",
      "dtypes: object(2)\n",
      "memory usage: 26.8+ KB\n"
     ]
    }
   ],
   "source": [
    "messenger_data.info()"
   ]
  },
  {
   "cell_type": "code",
   "execution_count": 13,
   "metadata": {},
   "outputs": [
    {
     "name": "stderr",
     "output_type": "stream",
     "text": [
      "/var/folders/0r/dktk9n0551j0gkccz4k6246h0000gn/T/ipykernel_2300/3900708756.py:1: SettingWithCopyWarning: \n",
      "A value is trying to be set on a copy of a slice from a DataFrame.\n",
      "Try using .loc[row_indexer,col_indexer] = value instead\n",
      "\n",
      "See the caveats in the documentation: https://pandas.pydata.org/pandas-docs/stable/user_guide/indexing.html#returning-a-view-versus-a-copy\n",
      "  messenger_data[\"categories\"] = messenger_data[\"categories\"].fillna(\"not applicable\")\n"
     ]
    }
   ],
   "source": [
    "messenger_data[\"categories\"] = messenger_data[\"categories\"].fillna(\"not applicable\")"
   ]
  },
  {
   "cell_type": "code",
   "execution_count": 14,
   "metadata": {},
   "outputs": [
    {
     "name": "stdout",
     "output_type": "stream",
     "text": [
      "<class 'pandas.core.frame.DataFrame'>\n",
      "RangeIndex: 1710 entries, 0 to 1709\n",
      "Data columns (total 2 columns):\n",
      " #   Column      Non-Null Count  Dtype \n",
      "---  ------      --------------  ----- \n",
      " 0   Question    1710 non-null   object\n",
      " 1   categories  1710 non-null   object\n",
      "dtypes: object(2)\n",
      "memory usage: 26.8+ KB\n"
     ]
    }
   ],
   "source": [
    "messenger_data.info()"
   ]
  },
  {
   "cell_type": "code",
   "execution_count": 16,
   "metadata": {},
   "outputs": [
    {
     "data": {
      "text/plain": [
       "categories\n",
       "not applicable    0.985965\n",
       "requirements      0.012281\n",
       "inquire           0.001170\n",
       "transit           0.000585\n",
       "Name: proportion, dtype: float64"
      ]
     },
     "execution_count": 16,
     "metadata": {},
     "output_type": "execute_result"
    }
   ],
   "source": [
    "messenger_data[\"categories\"].value_counts(normalize=True)"
   ]
  },
  {
   "cell_type": "markdown",
   "metadata": {},
   "source": [
    "## FAQs for requirements"
   ]
  },
  {
   "cell_type": "code",
   "execution_count": 17,
   "metadata": {},
   "outputs": [],
   "source": [
    "CATEGORY = messenger_data[\"categories\"]"
   ]
  },
  {
   "cell_type": "code",
   "execution_count": 19,
   "metadata": {},
   "outputs": [],
   "source": [
    "faqs = messenger_data[CATEGORY == \"requirements\"]"
   ]
  },
  {
   "cell_type": "code",
   "execution_count": 20,
   "metadata": {},
   "outputs": [
    {
     "data": {
      "text/html": [
       "<div>\n",
       "<style scoped>\n",
       "    .dataframe tbody tr th:only-of-type {\n",
       "        vertical-align: middle;\n",
       "    }\n",
       "\n",
       "    .dataframe tbody tr th {\n",
       "        vertical-align: top;\n",
       "    }\n",
       "\n",
       "    .dataframe thead th {\n",
       "        text-align: right;\n",
       "    }\n",
       "</style>\n",
       "<table border=\"1\" class=\"dataframe\">\n",
       "  <thead>\n",
       "    <tr style=\"text-align: right;\">\n",
       "      <th></th>\n",
       "      <th>Question</th>\n",
       "      <th>categories</th>\n",
       "    </tr>\n",
       "  </thead>\n",
       "  <tbody>\n",
       "    <tr>\n",
       "      <th>0</th>\n",
       "      <td>pwede po ba mag tour .. for 3months</td>\n",
       "      <td>requirements</td>\n",
       "    </tr>\n",
       "    <tr>\n",
       "      <th>2</th>\n",
       "      <td>pwede po pasend ng requirement for Japan Visa ...</td>\n",
       "      <td>requirements</td>\n",
       "    </tr>\n",
       "    <tr>\n",
       "      <th>4</th>\n",
       "      <td>Hi Good day. Question lang \\n\\nPwede ba mag ap...</td>\n",
       "      <td>requirements</td>\n",
       "    </tr>\n",
       "    <tr>\n",
       "      <th>7</th>\n",
       "      <td>Okay sige gawa kami now :) Dito nalang ba send...</td>\n",
       "      <td>requirements</td>\n",
       "    </tr>\n",
       "    <tr>\n",
       "      <th>8</th>\n",
       "      <td>Address ba sa japan embassy ?</td>\n",
       "      <td>requirements</td>\n",
       "    </tr>\n",
       "    <tr>\n",
       "      <th>9</th>\n",
       "      <td>Sige gawa kami letter hand written nalang niya...</td>\n",
       "      <td>requirements</td>\n",
       "    </tr>\n",
       "    <tr>\n",
       "      <th>10</th>\n",
       "      <td>Ok po :) Pwede kaya gawa nalang si fiance ko n...</td>\n",
       "      <td>requirements</td>\n",
       "    </tr>\n",
       "    <tr>\n",
       "      <th>13</th>\n",
       "      <td>ask ko lang po, nagpasa po ako ng visa applica...</td>\n",
       "      <td>requirements</td>\n",
       "    </tr>\n",
       "    <tr>\n",
       "      <th>16</th>\n",
       "      <td>At Ask ko nadin po kung anu din po ang require...</td>\n",
       "      <td>requirements</td>\n",
       "    </tr>\n",
       "    <tr>\n",
       "      <th>17</th>\n",
       "      <td>Hi need ko pa po ba ng AOS ?</td>\n",
       "      <td>requirements</td>\n",
       "    </tr>\n",
       "    <tr>\n",
       "      <th>18</th>\n",
       "      <td>Ask ko lang po anu po mga need kapag visit lan...</td>\n",
       "      <td>requirements</td>\n",
       "    </tr>\n",
       "    <tr>\n",
       "      <th>20</th>\n",
       "      <td>Kakauwi ko lng nung April 24.for visiting visa...</td>\n",
       "      <td>requirements</td>\n",
       "    </tr>\n",
       "    <tr>\n",
       "      <th>22</th>\n",
       "      <td>I understand if someone is paying for your tri...</td>\n",
       "      <td>requirements</td>\n",
       "    </tr>\n",
       "    <tr>\n",
       "      <th>24</th>\n",
       "      <td>Pwedi pobang mag tanong bout sa ticket</td>\n",
       "      <td>requirements</td>\n",
       "    </tr>\n",
       "    <tr>\n",
       "      <th>25</th>\n",
       "      <td>pwede po ba maam makahingi ng email nyo po?</td>\n",
       "      <td>requirements</td>\n",
       "    </tr>\n",
       "    <tr>\n",
       "      <th>27</th>\n",
       "      <td>Good evening, may i ask if you do accept ojt/i...</td>\n",
       "      <td>requirements</td>\n",
       "    </tr>\n",
       "    <tr>\n",
       "      <th>28</th>\n",
       "      <td>good am po how much po process ng jspsm visa m...</td>\n",
       "      <td>requirements</td>\n",
       "    </tr>\n",
       "    <tr>\n",
       "      <th>29</th>\n",
       "      <td>good evening ask lang po kung may invitaion as...</td>\n",
       "      <td>requirements</td>\n",
       "    </tr>\n",
       "    <tr>\n",
       "      <th>42</th>\n",
       "      <td>mam sa visiting visa ano po ang requirements?\\...</td>\n",
       "      <td>requirements</td>\n",
       "    </tr>\n",
       "    <tr>\n",
       "      <th>43</th>\n",
       "      <td>ano po ba ang gagamitin namin visa\\ntourist po...</td>\n",
       "      <td>requirements</td>\n",
       "    </tr>\n",
       "    <tr>\n",
       "      <th>44</th>\n",
       "      <td>ako po dating me resident visa na\\nbabalik lng...</td>\n",
       "      <td>requirements</td>\n",
       "    </tr>\n",
       "  </tbody>\n",
       "</table>\n",
       "</div>"
      ],
      "text/plain": [
       "                                             Question    categories\n",
       "0                 pwede po ba mag tour .. for 3months  requirements\n",
       "2   pwede po pasend ng requirement for Japan Visa ...  requirements\n",
       "4   Hi Good day. Question lang \\n\\nPwede ba mag ap...  requirements\n",
       "7   Okay sige gawa kami now :) Dito nalang ba send...  requirements\n",
       "8                       Address ba sa japan embassy ?  requirements\n",
       "9   Sige gawa kami letter hand written nalang niya...  requirements\n",
       "10  Ok po :) Pwede kaya gawa nalang si fiance ko n...  requirements\n",
       "13  ask ko lang po, nagpasa po ako ng visa applica...  requirements\n",
       "16  At Ask ko nadin po kung anu din po ang require...  requirements\n",
       "17                       Hi need ko pa po ba ng AOS ?  requirements\n",
       "18  Ask ko lang po anu po mga need kapag visit lan...  requirements\n",
       "20  Kakauwi ko lng nung April 24.for visiting visa...  requirements\n",
       "22  I understand if someone is paying for your tri...  requirements\n",
       "24             Pwedi pobang mag tanong bout sa ticket  requirements\n",
       "25        pwede po ba maam makahingi ng email nyo po?  requirements\n",
       "27  Good evening, may i ask if you do accept ojt/i...  requirements\n",
       "28  good am po how much po process ng jspsm visa m...  requirements\n",
       "29  good evening ask lang po kung may invitaion as...  requirements\n",
       "42  mam sa visiting visa ano po ang requirements?\\...  requirements\n",
       "43  ano po ba ang gagamitin namin visa\\ntourist po...  requirements\n",
       "44  ako po dating me resident visa na\\nbabalik lng...  requirements"
      ]
     },
     "execution_count": 20,
     "metadata": {},
     "output_type": "execute_result"
    }
   ],
   "source": [
    "faqs"
   ]
  },
  {
   "cell_type": "code",
   "execution_count": 22,
   "metadata": {},
   "outputs": [],
   "source": [
    "questions = faqs[\"Question\"]"
   ]
  },
  {
   "cell_type": "code",
   "execution_count": 23,
   "metadata": {},
   "outputs": [],
   "source": [
    "questions.to_excel(\"./dataset/data_annotation/freq_questions.xlsx\")"
   ]
  }
 ],
 "metadata": {
  "kernelspec": {
   "display_name": ".venv",
   "language": "python",
   "name": "python3"
  },
  "language_info": {
   "codemirror_mode": {
    "name": "ipython",
    "version": 3
   },
   "file_extension": ".py",
   "mimetype": "text/x-python",
   "name": "python",
   "nbconvert_exporter": "python",
   "pygments_lexer": "ipython3",
   "version": "3.11.1"
  }
 },
 "nbformat": 4,
 "nbformat_minor": 2
}
