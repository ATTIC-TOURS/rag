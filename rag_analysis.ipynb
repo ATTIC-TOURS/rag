{
 "cells": [
  {
   "cell_type": "code",
   "execution_count": 1,
   "id": "3e1e6012",
   "metadata": {},
   "outputs": [],
   "source": [
    "import pandas as pd"
   ]
  },
  {
   "cell_type": "code",
   "execution_count": 2,
   "id": "3253b26e",
   "metadata": {},
   "outputs": [],
   "source": [
    "experiments = pd.read_csv('rag_experiment_results.csv')"
   ]
  },
  {
   "cell_type": "code",
   "execution_count": 3,
   "id": "96d46935",
   "metadata": {},
   "outputs": [
    {
     "data": {
      "text/html": [
       "<div>\n",
       "<style scoped>\n",
       "    .dataframe tbody tr th:only-of-type {\n",
       "        vertical-align: middle;\n",
       "    }\n",
       "\n",
       "    .dataframe tbody tr th {\n",
       "        vertical-align: top;\n",
       "    }\n",
       "\n",
       "    .dataframe thead th {\n",
       "        text-align: right;\n",
       "    }\n",
       "</style>\n",
       "<table border=\"1\" class=\"dataframe\">\n",
       "  <thead>\n",
       "    <tr style=\"text-align: right;\">\n",
       "      <th></th>\n",
       "      <th>index_name</th>\n",
       "      <th>embeddings_model_name</th>\n",
       "      <th>llm_model_name</th>\n",
       "      <th>similarity_top_k</th>\n",
       "      <th>alpha</th>\n",
       "      <th>prompt_template</th>\n",
       "      <th>cross_encoder_model</th>\n",
       "      <th>rerank_top_n</th>\n",
       "      <th>llm_provider</th>\n",
       "      <th>faithfulness</th>\n",
       "      <th>factual_correctness(mode=f1)</th>\n",
       "      <th>llm_context_precision_with_reference</th>\n",
       "      <th>context_recall</th>\n",
       "      <th>avg_latency_sec</th>\n",
       "      <th>latency_95th_sec</th>\n",
       "    </tr>\n",
       "  </thead>\n",
       "  <tbody>\n",
       "    <tr>\n",
       "      <th>0</th>\n",
       "      <td>Requirements</td>\n",
       "      <td>intfloat/multilingual-e5-base</td>\n",
       "      <td>gemma3:1b</td>\n",
       "      <td>3</td>\n",
       "      <td>0.8</td>\n",
       "      <td>metadata={'prompt_type': &lt;PromptType.CUSTOM: '...</td>\n",
       "      <td>cross-encoder/ms-marco-MiniLM-L-2-v2</td>\n",
       "      <td>1</td>\n",
       "      <td>ollama</td>\n",
       "      <td>1.000000</td>\n",
       "      <td>0.27</td>\n",
       "      <td>1.0</td>\n",
       "      <td>0.733333</td>\n",
       "      <td>63.184926</td>\n",
       "      <td>63.184926</td>\n",
       "    </tr>\n",
       "    <tr>\n",
       "      <th>1</th>\n",
       "      <td>Requirements</td>\n",
       "      <td>intfloat/multilingual-e5-base</td>\n",
       "      <td>gemma3:1b</td>\n",
       "      <td>3</td>\n",
       "      <td>0.8</td>\n",
       "      <td>metadata={'prompt_type': &lt;PromptType.CUSTOM: '...</td>\n",
       "      <td>cross-encoder/ms-marco-MiniLM-L-2-v2</td>\n",
       "      <td>1</td>\n",
       "      <td>ollama</td>\n",
       "      <td>0.947368</td>\n",
       "      <td>0.23</td>\n",
       "      <td>1.0</td>\n",
       "      <td>0.714286</td>\n",
       "      <td>62.974253</td>\n",
       "      <td>62.974253</td>\n",
       "    </tr>\n",
       "    <tr>\n",
       "      <th>2</th>\n",
       "      <td>Requirements</td>\n",
       "      <td>intfloat/multilingual-e5-base</td>\n",
       "      <td>gemma3:1b</td>\n",
       "      <td>3</td>\n",
       "      <td>0.8</td>\n",
       "      <td>metadata={'prompt_type': &lt;PromptType.CUSTOM: '...</td>\n",
       "      <td>cross-encoder/ms-marco-MiniLM-L-2-v2</td>\n",
       "      <td>1</td>\n",
       "      <td>ollama</td>\n",
       "      <td>0.888889</td>\n",
       "      <td>0.47</td>\n",
       "      <td>1.0</td>\n",
       "      <td>0.733333</td>\n",
       "      <td>70.766128</td>\n",
       "      <td>70.766128</td>\n",
       "    </tr>\n",
       "  </tbody>\n",
       "</table>\n",
       "</div>"
      ],
      "text/plain": [
       "     index_name          embeddings_model_name llm_model_name  \\\n",
       "0  Requirements  intfloat/multilingual-e5-base      gemma3:1b   \n",
       "1  Requirements  intfloat/multilingual-e5-base      gemma3:1b   \n",
       "2  Requirements  intfloat/multilingual-e5-base      gemma3:1b   \n",
       "\n",
       "   similarity_top_k  alpha                                    prompt_template  \\\n",
       "0                 3    0.8  metadata={'prompt_type': <PromptType.CUSTOM: '...   \n",
       "1                 3    0.8  metadata={'prompt_type': <PromptType.CUSTOM: '...   \n",
       "2                 3    0.8  metadata={'prompt_type': <PromptType.CUSTOM: '...   \n",
       "\n",
       "                    cross_encoder_model  rerank_top_n llm_provider  \\\n",
       "0  cross-encoder/ms-marco-MiniLM-L-2-v2             1       ollama   \n",
       "1  cross-encoder/ms-marco-MiniLM-L-2-v2             1       ollama   \n",
       "2  cross-encoder/ms-marco-MiniLM-L-2-v2             1       ollama   \n",
       "\n",
       "   faithfulness  factual_correctness(mode=f1)  \\\n",
       "0      1.000000                          0.27   \n",
       "1      0.947368                          0.23   \n",
       "2      0.888889                          0.47   \n",
       "\n",
       "   llm_context_precision_with_reference  context_recall  avg_latency_sec  \\\n",
       "0                                   1.0        0.733333        63.184926   \n",
       "1                                   1.0        0.714286        62.974253   \n",
       "2                                   1.0        0.733333        70.766128   \n",
       "\n",
       "   latency_95th_sec  \n",
       "0         63.184926  \n",
       "1         62.974253  \n",
       "2         70.766128  "
      ]
     },
     "execution_count": 3,
     "metadata": {},
     "output_type": "execute_result"
    }
   ],
   "source": [
    "experiments"
   ]
  },
  {
   "cell_type": "code",
   "execution_count": 4,
   "id": "f590ed4b",
   "metadata": {},
   "outputs": [
    {
     "data": {
      "text/plain": [
       "{'similarity_top_k': 3.0,\n",
       " 'alpha': 0.8000000000000002,\n",
       " 'rerank_top_n': 1.0,\n",
       " 'faithfulness': 0.94541910331384,\n",
       " 'factual_correctness(mode=f1)': 0.3233333333333333,\n",
       " 'llm_context_precision_with_reference': 0.9999999999,\n",
       " 'context_recall': 0.726984126984127,\n",
       " 'avg_latency_sec': 65.64176909128825,\n",
       " 'latency_95th_sec': 65.64176909128825}"
      ]
     },
     "execution_count": 4,
     "metadata": {},
     "output_type": "execute_result"
    }
   ],
   "source": [
    "experiments.describe().loc['mean'].to_dict()"
   ]
  }
 ],
 "metadata": {
  "kernelspec": {
   "display_name": "rag310",
   "language": "python",
   "name": "python3"
  },
  "language_info": {
   "codemirror_mode": {
    "name": "ipython",
    "version": 3
   },
   "file_extension": ".py",
   "mimetype": "text/x-python",
   "name": "python",
   "nbconvert_exporter": "python",
   "pygments_lexer": "ipython3",
   "version": "3.10.15"
  }
 },
 "nbformat": 4,
 "nbformat_minor": 5
}
