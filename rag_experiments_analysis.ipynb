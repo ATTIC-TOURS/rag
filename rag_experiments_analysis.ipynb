{
 "cells": [
  {
   "cell_type": "code",
   "execution_count": 1,
   "id": "3e1e6012",
   "metadata": {},
   "outputs": [],
   "source": [
    "import pandas as pd"
   ]
  },
  {
   "cell_type": "code",
   "execution_count": 2,
   "id": "3253b26e",
   "metadata": {},
   "outputs": [],
   "source": [
    "experiments = pd.read_csv('rag_experiment_results.csv')"
   ]
  },
  {
   "cell_type": "code",
   "execution_count": 3,
   "id": "96d46935",
   "metadata": {},
   "outputs": [
    {
     "data": {
      "text/html": [
       "<div>\n",
       "<style scoped>\n",
       "    .dataframe tbody tr th:only-of-type {\n",
       "        vertical-align: middle;\n",
       "    }\n",
       "\n",
       "    .dataframe tbody tr th {\n",
       "        vertical-align: top;\n",
       "    }\n",
       "\n",
       "    .dataframe thead th {\n",
       "        text-align: right;\n",
       "    }\n",
       "</style>\n",
       "<table border=\"1\" class=\"dataframe\">\n",
       "  <thead>\n",
       "    <tr style=\"text-align: right;\">\n",
       "      <th></th>\n",
       "      <th>index_name</th>\n",
       "      <th>alpha</th>\n",
       "      <th>similarity_top_k</th>\n",
       "      <th>cross_encoder_model</th>\n",
       "      <th>llm_model_name</th>\n",
       "      <th>rerank_top_n</th>\n",
       "      <th>llm_provider</th>\n",
       "      <th>prompt_template</th>\n",
       "      <th>faithfulness</th>\n",
       "      <th>factual_correctness(mode=f1)</th>\n",
       "      <th>llm_context_precision_with_reference</th>\n",
       "      <th>context_recall</th>\n",
       "      <th>avg_latency_sec</th>\n",
       "      <th>latency_95th_sec</th>\n",
       "    </tr>\n",
       "  </thead>\n",
       "  <tbody>\n",
       "    <tr>\n",
       "      <th>0</th>\n",
       "      <td>Normal_splitter_hf</td>\n",
       "      <td>1.0</td>\n",
       "      <td>1</td>\n",
       "      <td>NaN</td>\n",
       "      <td>gpt-4o-mini</td>\n",
       "      <td>3</td>\n",
       "      <td>openai</td>\n",
       "      <td>metadata={'prompt_type': &lt;PromptType.CUSTOM: '...</td>\n",
       "      <td>0.875</td>\n",
       "      <td>0.19</td>\n",
       "      <td>1.0</td>\n",
       "      <td>0.0</td>\n",
       "      <td>7.445760</td>\n",
       "      <td>7.445760</td>\n",
       "    </tr>\n",
       "    <tr>\n",
       "      <th>1</th>\n",
       "      <td>Normal_splitter_openai</td>\n",
       "      <td>1.0</td>\n",
       "      <td>1</td>\n",
       "      <td>NaN</td>\n",
       "      <td>gpt-4o-mini</td>\n",
       "      <td>3</td>\n",
       "      <td>openai</td>\n",
       "      <td>metadata={'prompt_type': &lt;PromptType.CUSTOM: '...</td>\n",
       "      <td>0.900</td>\n",
       "      <td>0.16</td>\n",
       "      <td>1.0</td>\n",
       "      <td>0.0</td>\n",
       "      <td>6.934603</td>\n",
       "      <td>6.934603</td>\n",
       "    </tr>\n",
       "  </tbody>\n",
       "</table>\n",
       "</div>"
      ],
      "text/plain": [
       "               index_name  alpha  similarity_top_k  cross_encoder_model  \\\n",
       "0      Normal_splitter_hf    1.0                 1                  NaN   \n",
       "1  Normal_splitter_openai    1.0                 1                  NaN   \n",
       "\n",
       "  llm_model_name  rerank_top_n llm_provider  \\\n",
       "0    gpt-4o-mini             3       openai   \n",
       "1    gpt-4o-mini             3       openai   \n",
       "\n",
       "                                     prompt_template  faithfulness  \\\n",
       "0  metadata={'prompt_type': <PromptType.CUSTOM: '...         0.875   \n",
       "1  metadata={'prompt_type': <PromptType.CUSTOM: '...         0.900   \n",
       "\n",
       "   factual_correctness(mode=f1)  llm_context_precision_with_reference  \\\n",
       "0                          0.19                                   1.0   \n",
       "1                          0.16                                   1.0   \n",
       "\n",
       "   context_recall  avg_latency_sec  latency_95th_sec  \n",
       "0             0.0         7.445760          7.445760  \n",
       "1             0.0         6.934603          6.934603  "
      ]
     },
     "execution_count": 3,
     "metadata": {},
     "output_type": "execute_result"
    }
   ],
   "source": [
    "experiments"
   ]
  },
  {
   "cell_type": "code",
   "execution_count": 4,
   "id": "f590ed4b",
   "metadata": {},
   "outputs": [
    {
     "data": {
      "text/plain": [
       "{'alpha': 1.0,\n",
       " 'similarity_top_k': 1.0,\n",
       " 'cross_encoder_model': nan,\n",
       " 'rerank_top_n': 3.0,\n",
       " 'faithfulness': 0.8875,\n",
       " 'factual_correctness(mode=f1)': 0.175,\n",
       " 'llm_context_precision_with_reference': 0.9999999999,\n",
       " 'context_recall': 0.0,\n",
       " 'avg_latency_sec': 7.190181493759155,\n",
       " 'latency_95th_sec': 7.190181493759155}"
      ]
     },
     "execution_count": 4,
     "metadata": {},
     "output_type": "execute_result"
    }
   ],
   "source": [
    "experiments.describe().loc['mean'].to_dict()"
   ]
  }
 ],
 "metadata": {
  "kernelspec": {
   "display_name": "rag310",
   "language": "python",
   "name": "python3"
  },
  "language_info": {
   "codemirror_mode": {
    "name": "ipython",
    "version": 3
   },
   "file_extension": ".py",
   "mimetype": "text/x-python",
   "name": "python",
   "nbconvert_exporter": "python",
   "pygments_lexer": "ipython3",
   "version": "3.10.15"
  }
 },
 "nbformat": 4,
 "nbformat_minor": 5
}
