{
 "cells": [
  {
   "cell_type": "code",
   "execution_count": 5,
   "id": "fcfb1215",
   "metadata": {},
   "outputs": [
    {
     "data": {
      "text/plain": [
       "['hello world', 'i would', 'like to', 'take a', 'break']"
      ]
     },
     "execution_count": 5,
     "metadata": {},
     "output_type": "execute_result"
    }
   ],
   "source": [
    "text = \"hello world i would like to take a break\"\n",
    "tokens = text.split()\n",
    "window_size = 2\n",
    "chunks = []\n",
    "for i in range(0, len(tokens), window_size):\n",
    "    chunk = \" \".join(tokens[i: i+window_size])\n",
    "    chunks.append(chunk)\n",
    "chunks"
   ]
  },
  {
   "cell_type": "code",
   "execution_count": 11,
   "id": "ab66b05d",
   "metadata": {},
   "outputs": [
    {
     "data": {
      "text/plain": [
       "['hello world',\n",
       " 'world i',\n",
       " 'i would',\n",
       " 'would like',\n",
       " 'like to',\n",
       " 'to take',\n",
       " 'take a',\n",
       " 'a break',\n",
       " 'break']"
      ]
     },
     "execution_count": 11,
     "metadata": {},
     "output_type": "execute_result"
    }
   ],
   "source": [
    "text = \"hello world i would like to take a break\"\n",
    "tokens = text.split()\n",
    "window_size = 2\n",
    "overlap_size = 1\n",
    "chunks = []\n",
    "starting_idx = 0\n",
    "while len(tokens) > starting_idx:\n",
    "    chunk = \" \".join(tokens[starting_idx : starting_idx + window_size])\n",
    "    chunks.append(chunk)\n",
    "    starting_idx = (starting_idx + window_size - overlap_size)\n",
    "chunks"
   ]
  }
 ],
 "metadata": {
  "kernelspec": {
   "display_name": ".venv",
   "language": "python",
   "name": "python3"
  },
  "language_info": {
   "codemirror_mode": {
    "name": "ipython",
    "version": 3
   },
   "file_extension": ".py",
   "mimetype": "text/x-python",
   "name": "python",
   "nbconvert_exporter": "python",
   "pygments_lexer": "ipython3",
   "version": "3.11.1"
  }
 },
 "nbformat": 4,
 "nbformat_minor": 5
}
