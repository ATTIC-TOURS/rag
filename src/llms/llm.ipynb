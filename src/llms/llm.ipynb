{
 "cells": [
  {
   "cell_type": "code",
   "execution_count": null,
   "id": "f5e7ee82",
   "metadata": {},
   "outputs": [],
   "source": [
    "import ollama\n",
    "\n",
    "context = \"\"\"\n",
    "Applicants for tourist visa must submit: \n",
    "1. Valid passport \n",
    "2. Visa application form \n",
    "3. Photo\n",
    "\"\"\"\n",
    "\n",
    "response = ollama.chat(\n",
    "    model=\"gemma:2b\",\n",
    "    messages=[{\"role\": \"system\", \"content\": f\"Use the following context only:\\n{context}\"},\n",
    "              {\"role\": \"user\", \"content\": \"Who needs a tourist visa for Japan?\"}]\n",
    ")\n",
    "\n",
    "print(response[\"message\"][\"content\"])"
   ]
  },
  {
   "cell_type": "code",
   "execution_count": 4,
   "id": "3ef0deac",
   "metadata": {},
   "outputs": [
    {
     "name": "stdout",
     "output_type": "stream",
     "text": [
      "Sure. Here's a summary of why the sky appears blue:\n",
      "\n",
      "**1. Rayleigh scattering:**\n",
      "\n",
      "* Sunlight is composed of different colors of light, including blue, green, and red.\n",
      "* When sunlight enters the atmosphere, it interacts with molecules in the air.\n",
      "* The blue and green wavelengths of light have longer wavelengths and lower frequencies, while the red light has shorter wavelengths and higher frequencies.\n",
      "* These different wavelengths are scattered at different angles by the air molecules.\n",
      "* Due to this scattering, the blue and green light are scattered more strongly than the red light.\n",
      "* This is why the sky appears blue.\n",
      "\n",
      "**2. Atmospheric absorption:**\n",
      "\n",
      "* In addition to Rayleigh scattering, certain molecules in the atmosphere can also absorb certain colors of light.\n",
      "* These molecules include nitrogen and oxygen molecules.\n",
      "* When these molecules absorb blue and green light, it also reduces the amount of blue and green light that reaches our eyes.\n",
      "* This is why the sky appears blue.\n",
      "\n",
      "**3. Mie scattering:**\n",
      "\n",
      "* Mie scattering is a more complex type of scattering that can also play a role in sky color.\n",
      "* Mie scattering involves the interaction of sunlight with dust particles in the atmosphere.\n",
      "* Dust particles can be larger than the wavelengths of blue and green light, which can allow them to scatter these colors more effectively.\n",
      "* This can contribute to a blue sky, especially in polluted urban areas.\n",
      "\n",
      "It's important to note that the intensity and appearance of the sky's color can vary depending on factors such as atmospheric conditions, dust particles, and atmospheric absorption."
     ]
    }
   ],
   "source": [
    "from ollama import chat\n",
    "\n",
    "messages = [\n",
    "  {\n",
    "    'role': 'user',\n",
    "    'content': 'Why is the sky blue?',\n",
    "  },\n",
    "]\n",
    "\n",
    "stream = chat('gemma:2b', messages=messages, stream=True)\n",
    "for chunk in stream:\n",
    "    print(chunk.get(\"message\", {}).get(\"content\", \"\"), end=\"\", flush=True)\n",
    "# print(response['message']['content'])"
   ]
  }
 ],
 "metadata": {
  "kernelspec": {
   "display_name": ".venv",
   "language": "python",
   "name": "python3"
  },
  "language_info": {
   "codemirror_mode": {
    "name": "ipython",
    "version": 3
   },
   "file_extension": ".py",
   "mimetype": "text/x-python",
   "name": "python",
   "nbconvert_exporter": "python",
   "pygments_lexer": "ipython3",
   "version": "3.11.1"
  }
 },
 "nbformat": 4,
 "nbformat_minor": 5
}
