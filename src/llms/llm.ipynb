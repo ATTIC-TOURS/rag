{
 "cells": [
  {
   "cell_type": "code",
   "execution_count": null,
   "id": "14fbd16b",
   "metadata": {},
   "outputs": [],
   "source": [
    "import ollama"
   ]
  },
  {
   "cell_type": "code",
   "execution_count": 5,
   "id": "b9aae15f",
   "metadata": {},
   "outputs": [],
   "source": [
    "whole_doc = \"\"\"ATTIC TOURS Specialized in Japan Visa Application Services A. Company Overview 1. Head Office • Address: Unit G-08, Antel Seaview Tower A, #2626 Roxas Blvd., Brgy. 76, Pasay City • Telephone: +632 8556 6301 to 05 2. Tokyo Office • Address: 1-5-12 Sano Building, 4th floor, Nishi-shinbashi, Minatoku, Tokyo, Japan 105-0003 • Telephone: +813 3539 6777 3. Cebu Office • Address: Lobby, Waterfront Airport Hotel 1, Airport Road, Lapu-Lapu City, Mactan Island, Cebu • Telephone: +6332 341 2299; +6332 341 2012 4. Branches in the Philippines a. SM North EDSA • Location: Ground Floor, The Block, SM City North EDSA, Quezon City • Telephone/Mobile: +63 8372 3254; +63 8373 2594; +63 917 898 0905 b. SM City Fairview • Location: Upper Ground Level, Parkway Bldg., SM City Fairview, Quirino Highway cor. Regalado Ave., Brgy. Greater Lagro, Novaliches, Quezon City • Telephone: (02) 829-0761 • Mobile: +63 916 618 6165 • Email: attictours.fairview@gmail.com\n",
    " c. SM City Cebu • Location: Lower Ground Floor, SM City Cebu, North Reclamation Area, Mabolo, Cebu City • Telephone/Mobile: +32 239 8435; +63 922 874 7156; +63 956 551 9834 • Email: cebu_visa_01@attic-tours.com\n",
    " d. SM City Davao • Location: Level 3, SM City Davao, Main Building, Quimpo Boulevard, Talomo, Davao City • Telephone/Mobile: +82 225 8920; +63 917 321 1328 • Email: attictoursdavao2023@gmail.com\n",
    " e. SM Southmall • Location: Loc. 343, 3/F, SM Southmall, Almanza Uno, Las Piñas City • Telephone/Mobile: +632 8281 8506; +63 917 186 6853 • Email: attictours.smsouthmall@gmail.com\n",
    " f. SM Megamall • Location: Store 5122, 5th floor, Bldg. B., SM Megamall, Doña Julia Vargas Ave. cor. EDSA Wack-Wack Village, Mandaluyong City 1555 • Mobile: +63 906 516 3246 • Email: attictourssmmegamall@gmail.com\n",
    " g. SM Mall of Asia • Location: Unit 126, Level 1, South Parking Building, Mall of Asia, Pasay City • Mobile: +63 917 631 0848 • Email: attictours.moa@gmail.com\n",
    " h. SM Clark • Location: Ground Level, Service Lane Manuel A. Roxas Highway, Clark Freeport, Pampanga, Angeles City • Telephone: (045) 499 7546 • Email: attictours.clark@gmail.com\n",
    " i. SM Iloilo • Location: SM City Iloilo, Main Mall, Lower Ground Floor, Benigno Aquino Ave., Mandurriao, Iloilo City • Mobile: +63 915 815 8579 • Email: attictours.iloilo@gmail.com\n",
    " B. Japan Visa Application Process 1. Determine the Visa Type o Identify the specific visa based on your purpose of travel (e.g., tourism, business, visiting relatives). 2. Complete the Application Form o Fill out the visa application form accurately with all required details. 3. Prepare Required Documents o Gather all necessary documents according to the visa type. 4. Pay the Visa Handling Fee o Payment can be made at any Attic Tours branch or office. 5. Submit Your Application o Submit the completed form and documents to any branch or office. o We will handle coordination with the Japan Visa Center; no appointment is needed. C. Processing Time & Fees • Processing Time: 10–15 days upon submission • Visa Fee: ₱1,680 per person • Additional Charges: o Multiple Visa: +₱500 per person o COE Application: +₱1,150 o Document Checking: ₱520 per person (deducted from visa fee if complete) D. Important Notes • No appointment is needed at the Japan Visa Center — Attic Tours will process directly. • All inquiries and submissions must be made through Attic Tours branches only. • We ensure secure and professional handling of your application.\"\"\"\n",
    "chunk_content = \"attic tours specialized in japan visa application services a. company overview 1. head office • address: unit g-08, antel seaview tower a, #2626 roxas blvd., brgy. 76, pasay city • telephone: +632 8556 6301 to 05 2. tokyo office • address: 1-5-12 sano building, 4th floor, nishi-shinbashi, minatoku, tokyo, japan 105- 0003 • telephone: +813 3539 6777 3. cebu office • address: lobby, waterfront airport hotel 1, airport road, lapu-lapu city, mactan island, cebu • telephone: +6332 341 2299; +6332 341 2012 4. branches in the philippines a. sm north edsa • location: ground floor, the block, sm city north edsa, quezon city • telephone/mobile: +63 8372 3254; +63 8373 2594; +63 917 898 0905 b. sm city fairview • location: upper ground level, parkway bldg., sm city fairview, quirino highway cor. regalado ave., brgy. greater lagro, novaliches, quezon city • telephone: 02 829-0761 • mobile: +63 916 618 6165 • email: attictours.fairview@gmail.com c. sm city cebu • location: lower ground floor, sm city cebu, north reclamation area, mabolo, cebu city • telephone/mobile: +32 239 8435; +63 922 874 7156; +63 956 551 9834 • email:\"\n",
    "\n",
    "context_embedder_prompt = (\n",
    "    \"<document>\"\n",
    "    f\"{whole_doc}\"\n",
    "    \"</document>\"\n",
    "    \"Here is the chunk we want to situate within the whole document\"\n",
    "    \"<chunk>\"\n",
    "    f\"{chunk_content} \"\n",
    "    \"</chunk> \"\n",
    "    \"Please give a short succinct context to situate this chunk within the overall document for the purposes of improving search retrieval of the chunk.\"\n",
    "    \"Answer only with the succinct context and nothing else. \"\n",
    ")"
   ]
  },
  {
   "cell_type": "code",
   "execution_count": 21,
   "id": "e936d6a7",
   "metadata": {},
   "outputs": [],
   "source": [
    "prompt = \"\"\"\n",
    "just say \"hello\"\n",
    "\"\"\"\n",
    "\n",
    "response = ollama.generate(\n",
    "    model=\"gemma:2b-instruct-q4_0\",\n",
    "    prompt=context_embedder_prompt,\n",
    "    options={\"temperature\": 0.0}\n",
    ")"
   ]
  },
  {
   "cell_type": "code",
   "execution_count": 20,
   "id": "0b6f8612",
   "metadata": {},
   "outputs": [
    {
     "data": {
      "text/plain": [
       "\"Sure, here's the context you requested:\\n\\nThe chunk provides a brief overview of Attic Tours specialized in Japan visa application services, including the company's head office, Tokyo and Cebu branches, and the application process for obtaining Japanese visas.\""
      ]
     },
     "execution_count": 20,
     "metadata": {},
     "output_type": "execute_result"
    }
   ],
   "source": [
    "response.response"
   ]
  },
  {
   "cell_type": "code",
   "execution_count": 22,
   "id": "abf57ff7",
   "metadata": {},
   "outputs": [
    {
     "data": {
      "text/plain": [
       "\"Sure, here's the context you requested:\\n\\nThe chunk provides a brief overview of Attic Tours specialized in Japan visa application services, including the company's head office, Tokyo and Cebu branches, and the application process for obtaining Japanese visas.\""
      ]
     },
     "execution_count": 22,
     "metadata": {},
     "output_type": "execute_result"
    }
   ],
   "source": [
    "response.response"
   ]
  },
  {
   "cell_type": "code",
   "execution_count": 9,
   "id": "b1c90437",
   "metadata": {},
   "outputs": [
    {
     "name": "stdout",
     "output_type": "stream",
     "text": [
      "No, you do not need a tourist visa for Japan. Japanese law allows foreign visitors to stay for up to 90 days without a visa.\n"
     ]
    }
   ],
   "source": [
    "response = ollama.chat(\n",
    "    model=\"gemma:2b-instruct-q4_0\",\n",
    "    messages=[{\"role\": \"system\", \"content\": \"use your knowledge\"},\n",
    "              {\"role\": \"user\", \"content\": \"Who needs a tourist visa for Japan?\"}]\n",
    ")\n",
    "\n",
    "print(response[\"message\"][\"content\"])"
   ]
  },
  {
   "cell_type": "code",
   "execution_count": 9,
   "id": "f5e7ee82",
   "metadata": {},
   "outputs": [
    {
     "name": "stdout",
     "output_type": "stream",
     "text": [
      "The context does not specify who needs a tourist visa for Japan, so I cannot answer this question from the provided context.\n"
     ]
    }
   ],
   "source": [
    "import ollama\n",
    "\n",
    "context = \"\"\"\n",
    "Applicants for tourist visa must submit: \n",
    "1. Valid passport \n",
    "2. Visa application form \n",
    "3. Photo\n",
    "\"\"\"\n",
    "\n",
    "response = ollama.chat(\n",
    "    model=\"gemma:2b-instruct-q4_0\",\n",
    "    messages=[{\"role\": \"system\", \"content\": f\"Use the following context only:\\n{context}\"},\n",
    "              {\"role\": \"user\", \"content\": \"Who needs a tourist visa for Japan?\"}]\n",
    ")\n",
    "\n",
    "print(response[\"message\"][\"content\"])"
   ]
  },
  {
   "cell_type": "code",
   "execution_count": 4,
   "id": "49a8a36c",
   "metadata": {},
   "outputs": [
    {
     "data": {
      "text/plain": [
       "\"The chunk provides a brief overview of Attic Tours specialized in Japan visa application services, including the company's head office, Tokyo and Cebu branches, and the application process for obtaining Japanese visas.\""
      ]
     },
     "execution_count": 4,
     "metadata": {},
     "output_type": "execute_result"
    }
   ],
   "source": [
    "import ollama\n",
    "\n",
    "whole_doc = \"\"\"ATTIC TOURS Specialized in Japan Visa Application Services A. Company Overview 1. Head Office • Address: Unit G-08, Antel Seaview Tower A, #2626 Roxas Blvd., Brgy. 76, Pasay City • Telephone: +632 8556 6301 to 05 2. Tokyo Office • Address: 1-5-12 Sano Building, 4th floor, Nishi-shinbashi, Minatoku, Tokyo, Japan 105-0003 • Telephone: +813 3539 6777 3. Cebu Office • Address: Lobby, Waterfront Airport Hotel 1, Airport Road, Lapu-Lapu City, Mactan Island, Cebu • Telephone: +6332 341 2299; +6332 341 2012 4. Branches in the Philippines a. SM North EDSA • Location: Ground Floor, The Block, SM City North EDSA, Quezon City • Telephone/Mobile: +63 8372 3254; +63 8373 2594; +63 917 898 0905 b. SM City Fairview • Location: Upper Ground Level, Parkway Bldg., SM City Fairview, Quirino Highway cor. Regalado Ave., Brgy. Greater Lagro, Novaliches, Quezon City • Telephone: (02) 829-0761 • Mobile: +63 916 618 6165 • Email: attictours.fairview@gmail.com\n",
    " c. SM City Cebu • Location: Lower Ground Floor, SM City Cebu, North Reclamation Area, Mabolo, Cebu City • Telephone/Mobile: +32 239 8435; +63 922 874 7156; +63 956 551 9834 • Email: cebu_visa_01@attic-tours.com\n",
    " d. SM City Davao • Location: Level 3, SM City Davao, Main Building, Quimpo Boulevard, Talomo, Davao City • Telephone/Mobile: +82 225 8920; +63 917 321 1328 • Email: attictoursdavao2023@gmail.com\n",
    " e. SM Southmall • Location: Loc. 343, 3/F, SM Southmall, Almanza Uno, Las Piñas City • Telephone/Mobile: +632 8281 8506; +63 917 186 6853 • Email: attictours.smsouthmall@gmail.com\n",
    " f. SM Megamall • Location: Store 5122, 5th floor, Bldg. B., SM Megamall, Doña Julia Vargas Ave. cor. EDSA Wack-Wack Village, Mandaluyong City 1555 • Mobile: +63 906 516 3246 • Email: attictourssmmegamall@gmail.com\n",
    " g. SM Mall of Asia • Location: Unit 126, Level 1, South Parking Building, Mall of Asia, Pasay City • Mobile: +63 917 631 0848 • Email: attictours.moa@gmail.com\n",
    " h. SM Clark • Location: Ground Level, Service Lane Manuel A. Roxas Highway, Clark Freeport, Pampanga, Angeles City • Telephone: (045) 499 7546 • Email: attictours.clark@gmail.com\n",
    " i. SM Iloilo • Location: SM City Iloilo, Main Mall, Lower Ground Floor, Benigno Aquino Ave., Mandurriao, Iloilo City • Mobile: +63 915 815 8579 • Email: attictours.iloilo@gmail.com\n",
    " B. Japan Visa Application Process 1. Determine the Visa Type o Identify the specific visa based on your purpose of travel (e.g., tourism, business, visiting relatives). 2. Complete the Application Form o Fill out the visa application form accurately with all required details. 3. Prepare Required Documents o Gather all necessary documents according to the visa type. 4. Pay the Visa Handling Fee o Payment can be made at any Attic Tours branch or office. 5. Submit Your Application o Submit the completed form and documents to any branch or office. o We will handle coordination with the Japan Visa Center; no appointment is needed. C. Processing Time & Fees • Processing Time: 10–15 days upon submission • Visa Fee: ₱1,680 per person • Additional Charges: o Multiple Visa: +₱500 per person o COE Application: +₱1,150 o Document Checking: ₱520 per person (deducted from visa fee if complete) D. Important Notes • No appointment is needed at the Japan Visa Center — Attic Tours will process directly. • All inquiries and submissions must be made through Attic Tours branches only. • We ensure secure and professional handling of your application.\"\"\"\n",
    "chunk_content = \"attic tours specialized in japan visa application services a. company overview 1. head office • address: unit g-08, antel seaview tower a, #2626 roxas blvd., brgy. 76, pasay city • telephone: +632 8556 6301 to 05 2. tokyo office • address: 1-5-12 sano building, 4th floor, nishi-shinbashi, minatoku, tokyo, japan 105- 0003 • telephone: +813 3539 6777 3. cebu office • address: lobby, waterfront airport hotel 1, airport road, lapu-lapu city, mactan island, cebu • telephone: +6332 341 2299; +6332 341 2012 4. branches in the philippines a. sm north edsa • location: ground floor, the block, sm city north edsa, quezon city • telephone/mobile: +63 8372 3254; +63 8373 2594; +63 917 898 0905 b. sm city fairview • location: upper ground level, parkway bldg., sm city fairview, quirino highway cor. regalado ave., brgy. greater lagro, novaliches, quezon city • telephone: 02 829-0761 • mobile: +63 916 618 6165 • email: attictours.fairview@gmail.com c. sm city cebu • location: lower ground floor, sm city cebu, north reclamation area, mabolo, cebu city • telephone/mobile: +32 239 8435; +63 922 874 7156; +63 956 551 9834 • email:\"\n",
    "\n",
    "prompt = (\n",
    "    \"<document>\"\n",
    "    f\"{whole_doc}\"\n",
    "    \"</document>\"\n",
    "    \"Here is the chunk we want to situate within the whole document\"\n",
    "    \"<chunk>\"\n",
    "    f\"{chunk_content} \"\n",
    "    \"</chunk> \"\n",
    "    \"Please give a short succinct context to situate this chunk within the overall document for the purposes of improving search retrieval of the chunk.\"\n",
    "    \"Answer only with the succinct context and nothing else. \"\n",
    ")\n",
    "\n",
    "stream = ollama.chat(\n",
    "    model=\"gemma:2b\",\n",
    "    messages=[{\"role\": \"user\", \"content\": prompt}],\n",
    "    stream=True,\n",
    "    options={\"temperature\": 0.0},\n",
    ")\n",
    "\n",
    "context = \"\"\n",
    "for chunk in stream:\n",
    "    context += chunk.get(\"message\", {}).get(\"content\", \"\")\n",
    "context = context.replace(\"Sure, here's the context you requested:\", \"\").strip()\n",
    "context"
   ]
  },
  {
   "cell_type": "code",
   "execution_count": 6,
   "id": "3ef0deac",
   "metadata": {},
   "outputs": [
    {
     "ename": "KeyboardInterrupt",
     "evalue": "",
     "output_type": "error",
     "traceback": [
      "\u001b[31m---------------------------------------------------------------------------\u001b[39m",
      "\u001b[31mKeyboardInterrupt\u001b[39m                         Traceback (most recent call last)",
      "\u001b[36mCell\u001b[39m\u001b[36m \u001b[39m\u001b[32mIn[6]\u001b[39m\u001b[32m, line 21\u001b[39m\n\u001b[32m     18\u001b[39m stream = chat(\u001b[33m\"\u001b[39m\u001b[33mgemma:2b\u001b[39m\u001b[33m\"\u001b[39m, messages=messages, stream=\u001b[38;5;28;01mTrue\u001b[39;00m, options={\u001b[33m\"\u001b[39m\u001b[33mtemperature\u001b[39m\u001b[33m\"\u001b[39m: \u001b[32m0.0\u001b[39m})\n\u001b[32m     20\u001b[39m summary = \u001b[33m\"\u001b[39m\u001b[33m\"\u001b[39m\n\u001b[32m---> \u001b[39m\u001b[32m21\u001b[39m \u001b[38;5;28;43;01mfor\u001b[39;49;00m\u001b[43m \u001b[49m\u001b[43mchunk\u001b[49m\u001b[43m \u001b[49m\u001b[38;5;129;43;01min\u001b[39;49;00m\u001b[43m \u001b[49m\u001b[43mstream\u001b[49m\u001b[43m:\u001b[49m\n\u001b[32m     22\u001b[39m \u001b[43m    \u001b[49m\u001b[43msummary\u001b[49m\u001b[43m \u001b[49m\u001b[43m+\u001b[49m\u001b[43m=\u001b[49m\u001b[43m \u001b[49m\u001b[43mchunk\u001b[49m\u001b[43m.\u001b[49m\u001b[43mget\u001b[49m\u001b[43m(\u001b[49m\u001b[33;43m\"\u001b[39;49m\u001b[33;43mmessage\u001b[39;49m\u001b[33;43m\"\u001b[39;49m\u001b[43m,\u001b[49m\u001b[43m \u001b[49m\u001b[43m{\u001b[49m\u001b[43m}\u001b[49m\u001b[43m)\u001b[49m\u001b[43m.\u001b[49m\u001b[43mget\u001b[49m\u001b[43m(\u001b[49m\u001b[33;43m\"\u001b[39;49m\u001b[33;43mcontent\u001b[39;49m\u001b[33;43m\"\u001b[39;49m\u001b[43m,\u001b[49m\u001b[43m \u001b[49m\u001b[33;43m\"\u001b[39;49m\u001b[33;43m\"\u001b[39;49m\u001b[43m)\u001b[49m\n\u001b[32m     23\u001b[39m summary = summary.replace(\u001b[33m\"\u001b[39m\u001b[33mSure, here is the summary you requested:\u001b[39m\u001b[33m\"\u001b[39m, \u001b[33m\"\u001b[39m\u001b[33m\"\u001b[39m).strip()\n",
      "\u001b[36mFile \u001b[39m\u001b[32m~/Desktop/rag/.venv/lib/python3.11/site-packages/ollama/_client.py:165\u001b[39m, in \u001b[36mClient._request.<locals>.inner\u001b[39m\u001b[34m()\u001b[39m\n\u001b[32m    164\u001b[39m \u001b[38;5;28;01mdef\u001b[39;00m\u001b[38;5;250m \u001b[39m\u001b[34minner\u001b[39m():\n\u001b[32m--> \u001b[39m\u001b[32m165\u001b[39m \u001b[43m  \u001b[49m\u001b[38;5;28;43;01mwith\u001b[39;49;00m\u001b[43m \u001b[49m\u001b[38;5;28;43mself\u001b[39;49m\u001b[43m.\u001b[49m\u001b[43m_client\u001b[49m\u001b[43m.\u001b[49m\u001b[43mstream\u001b[49m\u001b[43m(\u001b[49m\u001b[43m*\u001b[49m\u001b[43margs\u001b[49m\u001b[43m,\u001b[49m\u001b[43m \u001b[49m\u001b[43m*\u001b[49m\u001b[43m*\u001b[49m\u001b[43mkwargs\u001b[49m\u001b[43m)\u001b[49m\u001b[43m \u001b[49m\u001b[38;5;28;43;01mas\u001b[39;49;00m\u001b[43m \u001b[49m\u001b[43mr\u001b[49m\u001b[43m:\u001b[49m\n\u001b[32m    166\u001b[39m \u001b[43m    \u001b[49m\u001b[38;5;28;43;01mtry\u001b[39;49;00m\u001b[43m:\u001b[49m\n\u001b[32m    167\u001b[39m \u001b[43m      \u001b[49m\u001b[43mr\u001b[49m\u001b[43m.\u001b[49m\u001b[43mraise_for_status\u001b[49m\u001b[43m(\u001b[49m\u001b[43m)\u001b[49m\n",
      "\u001b[36mFile \u001b[39m\u001b[32m/Library/Frameworks/Python.framework/Versions/3.11/lib/python3.11/contextlib.py:137\u001b[39m, in \u001b[36m_GeneratorContextManager.__enter__\u001b[39m\u001b[34m(self)\u001b[39m\n\u001b[32m    135\u001b[39m \u001b[38;5;28;01mdel\u001b[39;00m \u001b[38;5;28mself\u001b[39m.args, \u001b[38;5;28mself\u001b[39m.kwds, \u001b[38;5;28mself\u001b[39m.func\n\u001b[32m    136\u001b[39m \u001b[38;5;28;01mtry\u001b[39;00m:\n\u001b[32m--> \u001b[39m\u001b[32m137\u001b[39m     \u001b[38;5;28;01mreturn\u001b[39;00m \u001b[38;5;28mnext\u001b[39m(\u001b[38;5;28mself\u001b[39m.gen)\n\u001b[32m    138\u001b[39m \u001b[38;5;28;01mexcept\u001b[39;00m \u001b[38;5;167;01mStopIteration\u001b[39;00m:\n\u001b[32m    139\u001b[39m     \u001b[38;5;28;01mraise\u001b[39;00m \u001b[38;5;167;01mRuntimeError\u001b[39;00m(\u001b[33m\"\u001b[39m\u001b[33mgenerator didn\u001b[39m\u001b[33m'\u001b[39m\u001b[33mt yield\u001b[39m\u001b[33m\"\u001b[39m) \u001b[38;5;28;01mfrom\u001b[39;00m\u001b[38;5;250m \u001b[39m\u001b[38;5;28;01mNone\u001b[39;00m\n",
      "\u001b[36mFile \u001b[39m\u001b[32m~/Desktop/rag/.venv/lib/python3.11/site-packages/httpx/_client.py:868\u001b[39m, in \u001b[36mClient.stream\u001b[39m\u001b[34m(self, method, url, content, data, files, json, params, headers, cookies, auth, follow_redirects, timeout, extensions)\u001b[39m\n\u001b[32m    845\u001b[39m \u001b[38;5;250m\u001b[39m\u001b[33;03m\"\"\"\u001b[39;00m\n\u001b[32m    846\u001b[39m \u001b[33;03mAlternative to `httpx.request()` that streams the response body\u001b[39;00m\n\u001b[32m    847\u001b[39m \u001b[33;03minstead of loading it into memory at once.\u001b[39;00m\n\u001b[32m   (...)\u001b[39m\u001b[32m    853\u001b[39m \u001b[33;03m[0]: /quickstart#streaming-responses\u001b[39;00m\n\u001b[32m    854\u001b[39m \u001b[33;03m\"\"\"\u001b[39;00m\n\u001b[32m    855\u001b[39m request = \u001b[38;5;28mself\u001b[39m.build_request(\n\u001b[32m    856\u001b[39m     method=method,\n\u001b[32m    857\u001b[39m     url=url,\n\u001b[32m   (...)\u001b[39m\u001b[32m    866\u001b[39m     extensions=extensions,\n\u001b[32m    867\u001b[39m )\n\u001b[32m--> \u001b[39m\u001b[32m868\u001b[39m response = \u001b[38;5;28;43mself\u001b[39;49m\u001b[43m.\u001b[49m\u001b[43msend\u001b[49m\u001b[43m(\u001b[49m\n\u001b[32m    869\u001b[39m \u001b[43m    \u001b[49m\u001b[43mrequest\u001b[49m\u001b[43m=\u001b[49m\u001b[43mrequest\u001b[49m\u001b[43m,\u001b[49m\n\u001b[32m    870\u001b[39m \u001b[43m    \u001b[49m\u001b[43mauth\u001b[49m\u001b[43m=\u001b[49m\u001b[43mauth\u001b[49m\u001b[43m,\u001b[49m\n\u001b[32m    871\u001b[39m \u001b[43m    \u001b[49m\u001b[43mfollow_redirects\u001b[49m\u001b[43m=\u001b[49m\u001b[43mfollow_redirects\u001b[49m\u001b[43m,\u001b[49m\n\u001b[32m    872\u001b[39m \u001b[43m    \u001b[49m\u001b[43mstream\u001b[49m\u001b[43m=\u001b[49m\u001b[38;5;28;43;01mTrue\u001b[39;49;00m\u001b[43m,\u001b[49m\n\u001b[32m    873\u001b[39m \u001b[43m\u001b[49m\u001b[43m)\u001b[49m\n\u001b[32m    874\u001b[39m \u001b[38;5;28;01mtry\u001b[39;00m:\n\u001b[32m    875\u001b[39m     \u001b[38;5;28;01myield\u001b[39;00m response\n",
      "\u001b[36mFile \u001b[39m\u001b[32m~/Desktop/rag/.venv/lib/python3.11/site-packages/httpx/_client.py:914\u001b[39m, in \u001b[36mClient.send\u001b[39m\u001b[34m(self, request, stream, auth, follow_redirects)\u001b[39m\n\u001b[32m    910\u001b[39m \u001b[38;5;28mself\u001b[39m._set_timeout(request)\n\u001b[32m    912\u001b[39m auth = \u001b[38;5;28mself\u001b[39m._build_request_auth(request, auth)\n\u001b[32m--> \u001b[39m\u001b[32m914\u001b[39m response = \u001b[38;5;28;43mself\u001b[39;49m\u001b[43m.\u001b[49m\u001b[43m_send_handling_auth\u001b[49m\u001b[43m(\u001b[49m\n\u001b[32m    915\u001b[39m \u001b[43m    \u001b[49m\u001b[43mrequest\u001b[49m\u001b[43m,\u001b[49m\n\u001b[32m    916\u001b[39m \u001b[43m    \u001b[49m\u001b[43mauth\u001b[49m\u001b[43m=\u001b[49m\u001b[43mauth\u001b[49m\u001b[43m,\u001b[49m\n\u001b[32m    917\u001b[39m \u001b[43m    \u001b[49m\u001b[43mfollow_redirects\u001b[49m\u001b[43m=\u001b[49m\u001b[43mfollow_redirects\u001b[49m\u001b[43m,\u001b[49m\n\u001b[32m    918\u001b[39m \u001b[43m    \u001b[49m\u001b[43mhistory\u001b[49m\u001b[43m=\u001b[49m\u001b[43m[\u001b[49m\u001b[43m]\u001b[49m\u001b[43m,\u001b[49m\n\u001b[32m    919\u001b[39m \u001b[43m\u001b[49m\u001b[43m)\u001b[49m\n\u001b[32m    920\u001b[39m \u001b[38;5;28;01mtry\u001b[39;00m:\n\u001b[32m    921\u001b[39m     \u001b[38;5;28;01mif\u001b[39;00m \u001b[38;5;129;01mnot\u001b[39;00m stream:\n",
      "\u001b[36mFile \u001b[39m\u001b[32m~/Desktop/rag/.venv/lib/python3.11/site-packages/httpx/_client.py:942\u001b[39m, in \u001b[36mClient._send_handling_auth\u001b[39m\u001b[34m(self, request, auth, follow_redirects, history)\u001b[39m\n\u001b[32m    939\u001b[39m request = \u001b[38;5;28mnext\u001b[39m(auth_flow)\n\u001b[32m    941\u001b[39m \u001b[38;5;28;01mwhile\u001b[39;00m \u001b[38;5;28;01mTrue\u001b[39;00m:\n\u001b[32m--> \u001b[39m\u001b[32m942\u001b[39m     response = \u001b[38;5;28;43mself\u001b[39;49m\u001b[43m.\u001b[49m\u001b[43m_send_handling_redirects\u001b[49m\u001b[43m(\u001b[49m\n\u001b[32m    943\u001b[39m \u001b[43m        \u001b[49m\u001b[43mrequest\u001b[49m\u001b[43m,\u001b[49m\n\u001b[32m    944\u001b[39m \u001b[43m        \u001b[49m\u001b[43mfollow_redirects\u001b[49m\u001b[43m=\u001b[49m\u001b[43mfollow_redirects\u001b[49m\u001b[43m,\u001b[49m\n\u001b[32m    945\u001b[39m \u001b[43m        \u001b[49m\u001b[43mhistory\u001b[49m\u001b[43m=\u001b[49m\u001b[43mhistory\u001b[49m\u001b[43m,\u001b[49m\n\u001b[32m    946\u001b[39m \u001b[43m    \u001b[49m\u001b[43m)\u001b[49m\n\u001b[32m    947\u001b[39m     \u001b[38;5;28;01mtry\u001b[39;00m:\n\u001b[32m    948\u001b[39m         \u001b[38;5;28;01mtry\u001b[39;00m:\n",
      "\u001b[36mFile \u001b[39m\u001b[32m~/Desktop/rag/.venv/lib/python3.11/site-packages/httpx/_client.py:979\u001b[39m, in \u001b[36mClient._send_handling_redirects\u001b[39m\u001b[34m(self, request, follow_redirects, history)\u001b[39m\n\u001b[32m    976\u001b[39m \u001b[38;5;28;01mfor\u001b[39;00m hook \u001b[38;5;129;01min\u001b[39;00m \u001b[38;5;28mself\u001b[39m._event_hooks[\u001b[33m\"\u001b[39m\u001b[33mrequest\u001b[39m\u001b[33m\"\u001b[39m]:\n\u001b[32m    977\u001b[39m     hook(request)\n\u001b[32m--> \u001b[39m\u001b[32m979\u001b[39m response = \u001b[38;5;28;43mself\u001b[39;49m\u001b[43m.\u001b[49m\u001b[43m_send_single_request\u001b[49m\u001b[43m(\u001b[49m\u001b[43mrequest\u001b[49m\u001b[43m)\u001b[49m\n\u001b[32m    980\u001b[39m \u001b[38;5;28;01mtry\u001b[39;00m:\n\u001b[32m    981\u001b[39m     \u001b[38;5;28;01mfor\u001b[39;00m hook \u001b[38;5;129;01min\u001b[39;00m \u001b[38;5;28mself\u001b[39m._event_hooks[\u001b[33m\"\u001b[39m\u001b[33mresponse\u001b[39m\u001b[33m\"\u001b[39m]:\n",
      "\u001b[36mFile \u001b[39m\u001b[32m~/Desktop/rag/.venv/lib/python3.11/site-packages/httpx/_client.py:1014\u001b[39m, in \u001b[36mClient._send_single_request\u001b[39m\u001b[34m(self, request)\u001b[39m\n\u001b[32m   1009\u001b[39m     \u001b[38;5;28;01mraise\u001b[39;00m \u001b[38;5;167;01mRuntimeError\u001b[39;00m(\n\u001b[32m   1010\u001b[39m         \u001b[33m\"\u001b[39m\u001b[33mAttempted to send an async request with a sync Client instance.\u001b[39m\u001b[33m\"\u001b[39m\n\u001b[32m   1011\u001b[39m     )\n\u001b[32m   1013\u001b[39m \u001b[38;5;28;01mwith\u001b[39;00m request_context(request=request):\n\u001b[32m-> \u001b[39m\u001b[32m1014\u001b[39m     response = \u001b[43mtransport\u001b[49m\u001b[43m.\u001b[49m\u001b[43mhandle_request\u001b[49m\u001b[43m(\u001b[49m\u001b[43mrequest\u001b[49m\u001b[43m)\u001b[49m\n\u001b[32m   1016\u001b[39m \u001b[38;5;28;01massert\u001b[39;00m \u001b[38;5;28misinstance\u001b[39m(response.stream, SyncByteStream)\n\u001b[32m   1018\u001b[39m response.request = request\n",
      "\u001b[36mFile \u001b[39m\u001b[32m~/Desktop/rag/.venv/lib/python3.11/site-packages/httpx/_transports/default.py:250\u001b[39m, in \u001b[36mHTTPTransport.handle_request\u001b[39m\u001b[34m(self, request)\u001b[39m\n\u001b[32m    237\u001b[39m req = httpcore.Request(\n\u001b[32m    238\u001b[39m     method=request.method,\n\u001b[32m    239\u001b[39m     url=httpcore.URL(\n\u001b[32m   (...)\u001b[39m\u001b[32m    247\u001b[39m     extensions=request.extensions,\n\u001b[32m    248\u001b[39m )\n\u001b[32m    249\u001b[39m \u001b[38;5;28;01mwith\u001b[39;00m map_httpcore_exceptions():\n\u001b[32m--> \u001b[39m\u001b[32m250\u001b[39m     resp = \u001b[38;5;28;43mself\u001b[39;49m\u001b[43m.\u001b[49m\u001b[43m_pool\u001b[49m\u001b[43m.\u001b[49m\u001b[43mhandle_request\u001b[49m\u001b[43m(\u001b[49m\u001b[43mreq\u001b[49m\u001b[43m)\u001b[49m\n\u001b[32m    252\u001b[39m \u001b[38;5;28;01massert\u001b[39;00m \u001b[38;5;28misinstance\u001b[39m(resp.stream, typing.Iterable)\n\u001b[32m    254\u001b[39m \u001b[38;5;28;01mreturn\u001b[39;00m Response(\n\u001b[32m    255\u001b[39m     status_code=resp.status,\n\u001b[32m    256\u001b[39m     headers=resp.headers,\n\u001b[32m    257\u001b[39m     stream=ResponseStream(resp.stream),\n\u001b[32m    258\u001b[39m     extensions=resp.extensions,\n\u001b[32m    259\u001b[39m )\n",
      "\u001b[36mFile \u001b[39m\u001b[32m~/Desktop/rag/.venv/lib/python3.11/site-packages/httpcore/_sync/connection_pool.py:256\u001b[39m, in \u001b[36mConnectionPool.handle_request\u001b[39m\u001b[34m(self, request)\u001b[39m\n\u001b[32m    253\u001b[39m         closing = \u001b[38;5;28mself\u001b[39m._assign_requests_to_connections()\n\u001b[32m    255\u001b[39m     \u001b[38;5;28mself\u001b[39m._close_connections(closing)\n\u001b[32m--> \u001b[39m\u001b[32m256\u001b[39m     \u001b[38;5;28;01mraise\u001b[39;00m exc \u001b[38;5;28;01mfrom\u001b[39;00m\u001b[38;5;250m \u001b[39m\u001b[38;5;28;01mNone\u001b[39;00m\n\u001b[32m    258\u001b[39m \u001b[38;5;66;03m# Return the response. Note that in this case we still have to manage\u001b[39;00m\n\u001b[32m    259\u001b[39m \u001b[38;5;66;03m# the point at which the response is closed.\u001b[39;00m\n\u001b[32m    260\u001b[39m \u001b[38;5;28;01massert\u001b[39;00m \u001b[38;5;28misinstance\u001b[39m(response.stream, typing.Iterable)\n",
      "\u001b[36mFile \u001b[39m\u001b[32m~/Desktop/rag/.venv/lib/python3.11/site-packages/httpcore/_sync/connection_pool.py:236\u001b[39m, in \u001b[36mConnectionPool.handle_request\u001b[39m\u001b[34m(self, request)\u001b[39m\n\u001b[32m    232\u001b[39m connection = pool_request.wait_for_connection(timeout=timeout)\n\u001b[32m    234\u001b[39m \u001b[38;5;28;01mtry\u001b[39;00m:\n\u001b[32m    235\u001b[39m     \u001b[38;5;66;03m# Send the request on the assigned connection.\u001b[39;00m\n\u001b[32m--> \u001b[39m\u001b[32m236\u001b[39m     response = \u001b[43mconnection\u001b[49m\u001b[43m.\u001b[49m\u001b[43mhandle_request\u001b[49m\u001b[43m(\u001b[49m\n\u001b[32m    237\u001b[39m \u001b[43m        \u001b[49m\u001b[43mpool_request\u001b[49m\u001b[43m.\u001b[49m\u001b[43mrequest\u001b[49m\n\u001b[32m    238\u001b[39m \u001b[43m    \u001b[49m\u001b[43m)\u001b[49m\n\u001b[32m    239\u001b[39m \u001b[38;5;28;01mexcept\u001b[39;00m ConnectionNotAvailable:\n\u001b[32m    240\u001b[39m     \u001b[38;5;66;03m# In some cases a connection may initially be available to\u001b[39;00m\n\u001b[32m    241\u001b[39m     \u001b[38;5;66;03m# handle a request, but then become unavailable.\u001b[39;00m\n\u001b[32m    242\u001b[39m     \u001b[38;5;66;03m#\u001b[39;00m\n\u001b[32m    243\u001b[39m     \u001b[38;5;66;03m# In this case we clear the connection and try again.\u001b[39;00m\n\u001b[32m    244\u001b[39m     pool_request.clear_connection()\n",
      "\u001b[36mFile \u001b[39m\u001b[32m~/Desktop/rag/.venv/lib/python3.11/site-packages/httpcore/_sync/connection.py:103\u001b[39m, in \u001b[36mHTTPConnection.handle_request\u001b[39m\u001b[34m(self, request)\u001b[39m\n\u001b[32m    100\u001b[39m     \u001b[38;5;28mself\u001b[39m._connect_failed = \u001b[38;5;28;01mTrue\u001b[39;00m\n\u001b[32m    101\u001b[39m     \u001b[38;5;28;01mraise\u001b[39;00m exc\n\u001b[32m--> \u001b[39m\u001b[32m103\u001b[39m \u001b[38;5;28;01mreturn\u001b[39;00m \u001b[38;5;28;43mself\u001b[39;49m\u001b[43m.\u001b[49m\u001b[43m_connection\u001b[49m\u001b[43m.\u001b[49m\u001b[43mhandle_request\u001b[49m\u001b[43m(\u001b[49m\u001b[43mrequest\u001b[49m\u001b[43m)\u001b[49m\n",
      "\u001b[36mFile \u001b[39m\u001b[32m~/Desktop/rag/.venv/lib/python3.11/site-packages/httpcore/_sync/http11.py:136\u001b[39m, in \u001b[36mHTTP11Connection.handle_request\u001b[39m\u001b[34m(self, request)\u001b[39m\n\u001b[32m    134\u001b[39m     \u001b[38;5;28;01mwith\u001b[39;00m Trace(\u001b[33m\"\u001b[39m\u001b[33mresponse_closed\u001b[39m\u001b[33m\"\u001b[39m, logger, request) \u001b[38;5;28;01mas\u001b[39;00m trace:\n\u001b[32m    135\u001b[39m         \u001b[38;5;28mself\u001b[39m._response_closed()\n\u001b[32m--> \u001b[39m\u001b[32m136\u001b[39m \u001b[38;5;28;01mraise\u001b[39;00m exc\n",
      "\u001b[36mFile \u001b[39m\u001b[32m~/Desktop/rag/.venv/lib/python3.11/site-packages/httpcore/_sync/http11.py:106\u001b[39m, in \u001b[36mHTTP11Connection.handle_request\u001b[39m\u001b[34m(self, request)\u001b[39m\n\u001b[32m     95\u001b[39m     \u001b[38;5;28;01mpass\u001b[39;00m\n\u001b[32m     97\u001b[39m \u001b[38;5;28;01mwith\u001b[39;00m Trace(\n\u001b[32m     98\u001b[39m     \u001b[33m\"\u001b[39m\u001b[33mreceive_response_headers\u001b[39m\u001b[33m\"\u001b[39m, logger, request, kwargs\n\u001b[32m     99\u001b[39m ) \u001b[38;5;28;01mas\u001b[39;00m trace:\n\u001b[32m    100\u001b[39m     (\n\u001b[32m    101\u001b[39m         http_version,\n\u001b[32m    102\u001b[39m         status,\n\u001b[32m    103\u001b[39m         reason_phrase,\n\u001b[32m    104\u001b[39m         headers,\n\u001b[32m    105\u001b[39m         trailing_data,\n\u001b[32m--> \u001b[39m\u001b[32m106\u001b[39m     ) = \u001b[38;5;28;43mself\u001b[39;49m\u001b[43m.\u001b[49m\u001b[43m_receive_response_headers\u001b[49m\u001b[43m(\u001b[49m\u001b[43m*\u001b[49m\u001b[43m*\u001b[49m\u001b[43mkwargs\u001b[49m\u001b[43m)\u001b[49m\n\u001b[32m    107\u001b[39m     trace.return_value = (\n\u001b[32m    108\u001b[39m         http_version,\n\u001b[32m    109\u001b[39m         status,\n\u001b[32m    110\u001b[39m         reason_phrase,\n\u001b[32m    111\u001b[39m         headers,\n\u001b[32m    112\u001b[39m     )\n\u001b[32m    114\u001b[39m network_stream = \u001b[38;5;28mself\u001b[39m._network_stream\n",
      "\u001b[36mFile \u001b[39m\u001b[32m~/Desktop/rag/.venv/lib/python3.11/site-packages/httpcore/_sync/http11.py:177\u001b[39m, in \u001b[36mHTTP11Connection._receive_response_headers\u001b[39m\u001b[34m(self, request)\u001b[39m\n\u001b[32m    174\u001b[39m timeout = timeouts.get(\u001b[33m\"\u001b[39m\u001b[33mread\u001b[39m\u001b[33m\"\u001b[39m, \u001b[38;5;28;01mNone\u001b[39;00m)\n\u001b[32m    176\u001b[39m \u001b[38;5;28;01mwhile\u001b[39;00m \u001b[38;5;28;01mTrue\u001b[39;00m:\n\u001b[32m--> \u001b[39m\u001b[32m177\u001b[39m     event = \u001b[38;5;28;43mself\u001b[39;49m\u001b[43m.\u001b[49m\u001b[43m_receive_event\u001b[49m\u001b[43m(\u001b[49m\u001b[43mtimeout\u001b[49m\u001b[43m=\u001b[49m\u001b[43mtimeout\u001b[49m\u001b[43m)\u001b[49m\n\u001b[32m    178\u001b[39m     \u001b[38;5;28;01mif\u001b[39;00m \u001b[38;5;28misinstance\u001b[39m(event, h11.Response):\n\u001b[32m    179\u001b[39m         \u001b[38;5;28;01mbreak\u001b[39;00m\n",
      "\u001b[36mFile \u001b[39m\u001b[32m~/Desktop/rag/.venv/lib/python3.11/site-packages/httpcore/_sync/http11.py:217\u001b[39m, in \u001b[36mHTTP11Connection._receive_event\u001b[39m\u001b[34m(self, timeout)\u001b[39m\n\u001b[32m    214\u001b[39m     event = \u001b[38;5;28mself\u001b[39m._h11_state.next_event()\n\u001b[32m    216\u001b[39m \u001b[38;5;28;01mif\u001b[39;00m event \u001b[38;5;129;01mis\u001b[39;00m h11.NEED_DATA:\n\u001b[32m--> \u001b[39m\u001b[32m217\u001b[39m     data = \u001b[38;5;28;43mself\u001b[39;49m\u001b[43m.\u001b[49m\u001b[43m_network_stream\u001b[49m\u001b[43m.\u001b[49m\u001b[43mread\u001b[49m\u001b[43m(\u001b[49m\n\u001b[32m    218\u001b[39m \u001b[43m        \u001b[49m\u001b[38;5;28;43mself\u001b[39;49m\u001b[43m.\u001b[49m\u001b[43mREAD_NUM_BYTES\u001b[49m\u001b[43m,\u001b[49m\u001b[43m \u001b[49m\u001b[43mtimeout\u001b[49m\u001b[43m=\u001b[49m\u001b[43mtimeout\u001b[49m\n\u001b[32m    219\u001b[39m \u001b[43m    \u001b[49m\u001b[43m)\u001b[49m\n\u001b[32m    221\u001b[39m     \u001b[38;5;66;03m# If we feed this case through h11 we'll raise an exception like:\u001b[39;00m\n\u001b[32m    222\u001b[39m     \u001b[38;5;66;03m#\u001b[39;00m\n\u001b[32m    223\u001b[39m     \u001b[38;5;66;03m#     httpcore.RemoteProtocolError: can't handle event type\u001b[39;00m\n\u001b[32m   (...)\u001b[39m\u001b[32m    227\u001b[39m     \u001b[38;5;66;03m# perspective. Instead we handle this case distinctly and treat\u001b[39;00m\n\u001b[32m    228\u001b[39m     \u001b[38;5;66;03m# it as a ConnectError.\u001b[39;00m\n\u001b[32m    229\u001b[39m     \u001b[38;5;28;01mif\u001b[39;00m data == \u001b[33mb\u001b[39m\u001b[33m\"\u001b[39m\u001b[33m\"\u001b[39m \u001b[38;5;129;01mand\u001b[39;00m \u001b[38;5;28mself\u001b[39m._h11_state.their_state == h11.SEND_RESPONSE:\n",
      "\u001b[36mFile \u001b[39m\u001b[32m~/Desktop/rag/.venv/lib/python3.11/site-packages/httpcore/_backends/sync.py:128\u001b[39m, in \u001b[36mSyncStream.read\u001b[39m\u001b[34m(self, max_bytes, timeout)\u001b[39m\n\u001b[32m    126\u001b[39m \u001b[38;5;28;01mwith\u001b[39;00m map_exceptions(exc_map):\n\u001b[32m    127\u001b[39m     \u001b[38;5;28mself\u001b[39m._sock.settimeout(timeout)\n\u001b[32m--> \u001b[39m\u001b[32m128\u001b[39m     \u001b[38;5;28;01mreturn\u001b[39;00m \u001b[38;5;28;43mself\u001b[39;49m\u001b[43m.\u001b[49m\u001b[43m_sock\u001b[49m\u001b[43m.\u001b[49m\u001b[43mrecv\u001b[49m\u001b[43m(\u001b[49m\u001b[43mmax_bytes\u001b[49m\u001b[43m)\u001b[49m\n",
      "\u001b[31mKeyboardInterrupt\u001b[39m: "
     ]
    }
   ],
   "source": [
    "from ollama import chat\n",
    "\n",
    "messages = [\n",
    "    {\n",
    "        \"role\": \"system\",\n",
    "        \"content\": (\n",
    "            \"You are a summarizer. Output ONLY the summary text. \"\n",
    "            \"No introductions, no phrases like 'Here is the summary'. \"\n",
    "            \"If you understand, just output the summary without any extra words.\"\n",
    "        ),\n",
    "    },\n",
    "    {\n",
    "        \"role\": \"user\",\n",
    "        \"content\": \"Summarize the following text:\\n\\nthe sky is blue\\n\\nYour output should be just the summarized text, nothing else.\",\n",
    "    },\n",
    "]\n",
    "\n",
    "stream = chat(\"gemma:2b\", messages=messages, stream=True, options={\"temperature\": 0.0})\n",
    "\n",
    "summary = \"\"\n",
    "for chunk in stream:\n",
    "    summary += chunk.get(\"message\", {}).get(\"content\", \"\")\n",
    "summary = summary.replace(\"Sure, here is the summary you requested:\", \"\").strip()\n",
    "summary"
   ]
  }
 ],
 "metadata": {
  "kernelspec": {
   "display_name": ".venv",
   "language": "python",
   "name": "python3"
  },
  "language_info": {
   "codemirror_mode": {
    "name": "ipython",
    "version": 3
   },
   "file_extension": ".py",
   "mimetype": "text/x-python",
   "name": "python",
   "nbconvert_exporter": "python",
   "pygments_lexer": "ipython3",
   "version": "3.11.1"
  }
 },
 "nbformat": 4,
 "nbformat_minor": 5
}
