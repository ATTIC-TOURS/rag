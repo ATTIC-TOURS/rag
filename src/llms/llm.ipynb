{
 "cells": [
  {
   "cell_type": "code",
   "execution_count": null,
   "id": "f5e7ee82",
   "metadata": {},
   "outputs": [],
   "source": [
    "import ollama\n",
    "\n",
    "context = \"\"\"\n",
    "Applicants for tourist visa must submit: \n",
    "1. Valid passport \n",
    "2. Visa application form \n",
    "3. Photo\n",
    "\"\"\"\n",
    "\n",
    "response = ollama.chat(\n",
    "    model=\"gemma:2b\",\n",
    "    messages=[{\"role\": \"system\", \"content\": f\"Use the following context only:\\n{context}\"},\n",
    "              {\"role\": \"user\", \"content\": \"Who needs a tourist visa for Japan?\"}]\n",
    ")\n",
    "\n",
    "print(response[\"message\"][\"content\"])"
   ]
  }
 ],
 "metadata": {
  "kernelspec": {
   "display_name": ".venv",
   "language": "python",
   "name": "python3"
  },
  "language_info": {
   "codemirror_mode": {
    "name": "ipython",
    "version": 3
   },
   "file_extension": ".py",
   "mimetype": "text/x-python",
   "name": "python",
   "nbconvert_exporter": "python",
   "pygments_lexer": "ipython3",
   "version": "3.11.1"
  }
 },
 "nbformat": 4,
 "nbformat_minor": 5
}
