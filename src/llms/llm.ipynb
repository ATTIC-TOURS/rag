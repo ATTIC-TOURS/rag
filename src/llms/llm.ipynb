{
 "cells": [
  {
   "cell_type": "code",
   "execution_count": null,
   "id": "f5e7ee82",
   "metadata": {},
   "outputs": [],
   "source": [
    "import ollama\n",
    "\n",
    "context = \"\"\"\n",
    "Applicants for tourist visa must submit: \n",
    "1. Valid passport \n",
    "2. Visa application form \n",
    "3. Photo\n",
    "\"\"\"\n",
    "\n",
    "response = ollama.chat(\n",
    "    model=\"gemma:2b\",\n",
    "    messages=[{\"role\": \"system\", \"content\": f\"Use the following context only:\\n{context}\"},\n",
    "              {\"role\": \"user\", \"content\": \"Who needs a tourist visa for Japan?\"}]\n",
    ")\n",
    "\n",
    "print(response[\"message\"][\"content\"])"
   ]
  },
  {
   "cell_type": "code",
   "execution_count": null,
   "id": "3ef0deac",
   "metadata": {},
   "outputs": [
    {
     "data": {
      "text/plain": [
       "'The sky is blue.'"
      ]
     },
     "execution_count": 26,
     "metadata": {},
     "output_type": "execute_result"
    }
   ],
   "source": [
    "from ollama import chat\n",
    "\n",
    "messages = [\n",
    "    {\n",
    "        \"role\": \"system\",\n",
    "        \"content\": (\n",
    "            \"You are a summarizer. Output ONLY the summary text. \"\n",
    "            \"No introductions, no phrases like 'Here is the summary'. \"\n",
    "            \"If you understand, just output the summary without any extra words.\"\n",
    "        ),\n",
    "    },\n",
    "    {\n",
    "        \"role\": \"user\",\n",
    "        \"content\": \"Summarize the following text:\\n\\nthe sky is blue\\n\\nYour output should be just the summarized text, nothing else.\",\n",
    "    },\n",
    "]\n",
    "\n",
    "stream = chat(\"gemma:2b\", messages=messages, stream=True, options={\"temperature\": 0.0})\n",
    "\n",
    "summary = \"\"\n",
    "for chunk in stream:\n",
    "    summary += chunk.get(\"message\", {}).get(\"content\", \"\")\n",
    "summary = summary.replace(\"Sure, here is the summary you requested:\", \"\").strip()\n",
    "summary"
   ]
  }
 ],
 "metadata": {
  "kernelspec": {
   "display_name": ".venv",
   "language": "python",
   "name": "python3"
  },
  "language_info": {
   "codemirror_mode": {
    "name": "ipython",
    "version": 3
   },
   "file_extension": ".py",
   "mimetype": "text/x-python",
   "name": "python",
   "nbconvert_exporter": "python",
   "pygments_lexer": "ipython3",
   "version": "3.11.1"
  }
 },
 "nbformat": 4,
 "nbformat_minor": 5
}
