{
 "cells": [
  {
   "cell_type": "code",
   "execution_count": 18,
   "id": "67fc0940",
   "metadata": {},
   "outputs": [],
   "source": [
    "from ragas import evaluate\n",
    "from ragas.metrics import (\n",
    "    faithfulness,\n",
    "    answer_relevancy, # uses Embeddings\n",
    "    context_precision, # uses Embeddings\n",
    "    context_recall, # uses ground_truth dataset (only LLM used as a jugdge)\n",
    ")\n",
    "from datasets import Dataset\n",
    "\n",
    "from ragas.llms import LangchainLLMWrapper\n",
    "from langchain_community.chat_models import ChatOllama\n",
    "from ragas.run_config import RunConfig\n",
    "import pandas as pd"
   ]
  },
  {
   "cell_type": "code",
   "execution_count": null,
   "id": "12e82829",
   "metadata": {},
   "outputs": [],
   "source": [
    "\n",
    "\n",
    "def extract_queries() -> pd.DataFrame:\n",
    "    url_source: str = (\n",
    "        \"https://docs.google.com/spreadsheets/d/e/2PACX-1vR1hUlRhTJQgNzSbTyRtDNh1mCrbfy0iUm6oiHK7oHb_iQQ5t7XCB_xyUCwoZ2fdg/pub?output=xlsx\"\n",
    "    )\n",
    "    queries = pd.read_excel(url_source, sheet_name=\"queries\")\n",
    "    return queries\n",
    "\n",
    "\n",
    "def transform_queries(df: pd.DataFrame) -> pd.DataFrame:\n",
    "    df = df.copy()\n",
    "    return df\n",
    "\n",
    "\n",
    "def load_queries() -> pd.DataFrame:\n",
    "    df = extract_queries()\n",
    "    df = transform_queries(df)\n",
    "    return df"
   ]
  },
  {
   "cell_type": "code",
   "execution_count": 3,
   "id": "78070ac7",
   "metadata": {},
   "outputs": [
    {
     "data": {
      "text/html": [
       "<div>\n",
       "<style scoped>\n",
       "    .dataframe tbody tr th:only-of-type {\n",
       "        vertical-align: middle;\n",
       "    }\n",
       "\n",
       "    .dataframe tbody tr th {\n",
       "        vertical-align: top;\n",
       "    }\n",
       "\n",
       "    .dataframe thead th {\n",
       "        text-align: right;\n",
       "    }\n",
       "</style>\n",
       "<table border=\"1\" class=\"dataframe\">\n",
       "  <thead>\n",
       "    <tr style=\"text-align: right;\">\n",
       "      <th></th>\n",
       "      <th>query_id</th>\n",
       "      <th>query</th>\n",
       "      <th>answer</th>\n",
       "    </tr>\n",
       "  </thead>\n",
       "  <tbody>\n",
       "    <tr>\n",
       "      <th>0</th>\n",
       "      <td>1</td>\n",
       "      <td>Paano magapply ng Japan Visa?</td>\n",
       "      <td>Complete all the requirements based on the pur...</td>\n",
       "    </tr>\n",
       "    <tr>\n",
       "      <th>1</th>\n",
       "      <td>2</td>\n",
       "      <td>Saan pwede magprocess ng Japan Visa?</td>\n",
       "      <td>Pwede mag process ng Japan Visa sa Attic Tours...</td>\n",
       "    </tr>\n",
       "    <tr>\n",
       "      <th>2</th>\n",
       "      <td>3</td>\n",
       "      <td>Magkano ang processing fees ng Japan Visa?</td>\n",
       "      <td>Ang processing fee ng Japan Visa sa Attic Tour...</td>\n",
       "    </tr>\n",
       "    <tr>\n",
       "      <th>3</th>\n",
       "      <td>4</td>\n",
       "      <td>Ano ang mga requirements pag mag tourist sa Ja...</td>\n",
       "      <td>Kailangan ng Philippine Passport original, Col...</td>\n",
       "    </tr>\n",
       "    <tr>\n",
       "      <th>4</th>\n",
       "      <td>5</td>\n",
       "      <td>Ano ang mga types ng Japan Visa?</td>\n",
       "      <td>Ang mga types ng Japan Visa ay tourist, visiti...</td>\n",
       "    </tr>\n",
       "  </tbody>\n",
       "</table>\n",
       "</div>"
      ],
      "text/plain": [
       "   query_id                                              query  \\\n",
       "0         1                      Paano magapply ng Japan Visa?   \n",
       "1         2               Saan pwede magprocess ng Japan Visa?   \n",
       "2         3         Magkano ang processing fees ng Japan Visa?   \n",
       "3         4  Ano ang mga requirements pag mag tourist sa Ja...   \n",
       "4         5                   Ano ang mga types ng Japan Visa?   \n",
       "\n",
       "                                              answer  \n",
       "0  Complete all the requirements based on the pur...  \n",
       "1  Pwede mag process ng Japan Visa sa Attic Tours...  \n",
       "2  Ang processing fee ng Japan Visa sa Attic Tour...  \n",
       "3  Kailangan ng Philippine Passport original, Col...  \n",
       "4  Ang mga types ng Japan Visa ay tourist, visiti...  "
      ]
     },
     "execution_count": 3,
     "metadata": {},
     "output_type": "execute_result"
    }
   ],
   "source": [
    "queries = load_queries()\n",
    "queries"
   ]
  },
  {
   "cell_type": "code",
   "execution_count": 4,
   "id": "03b43450",
   "metadata": {},
   "outputs": [
    {
     "name": "stderr",
     "output_type": "stream",
     "text": [
      "/Users/krimssmirk/Desktop/rag/.venv/lib/python3.11/site-packages/google/protobuf/runtime_version.py:98: UserWarning: Protobuf gencode version 5.29.0 is exactly one major version older than the runtime version 6.31.1 at v1/aggregate.proto. Please update the gencode to avoid compatibility violations in the next runtime release.\n",
      "  warnings.warn(\n",
      "/Users/krimssmirk/Desktop/rag/.venv/lib/python3.11/site-packages/google/protobuf/runtime_version.py:98: UserWarning: Protobuf gencode version 5.29.0 is exactly one major version older than the runtime version 6.31.1 at v1/base.proto. Please update the gencode to avoid compatibility violations in the next runtime release.\n",
      "  warnings.warn(\n",
      "/Users/krimssmirk/Desktop/rag/.venv/lib/python3.11/site-packages/google/protobuf/runtime_version.py:98: UserWarning: Protobuf gencode version 5.29.0 is exactly one major version older than the runtime version 6.31.1 at v1/base_search.proto. Please update the gencode to avoid compatibility violations in the next runtime release.\n",
      "  warnings.warn(\n",
      "/Users/krimssmirk/Desktop/rag/.venv/lib/python3.11/site-packages/google/protobuf/runtime_version.py:98: UserWarning: Protobuf gencode version 5.29.0 is exactly one major version older than the runtime version 6.31.1 at v1/batch_delete.proto. Please update the gencode to avoid compatibility violations in the next runtime release.\n",
      "  warnings.warn(\n",
      "/Users/krimssmirk/Desktop/rag/.venv/lib/python3.11/site-packages/google/protobuf/runtime_version.py:98: UserWarning: Protobuf gencode version 5.29.0 is exactly one major version older than the runtime version 6.31.1 at v1/batch.proto. Please update the gencode to avoid compatibility violations in the next runtime release.\n",
      "  warnings.warn(\n",
      "/Users/krimssmirk/Desktop/rag/.venv/lib/python3.11/site-packages/google/protobuf/runtime_version.py:98: UserWarning: Protobuf gencode version 5.29.0 is exactly one major version older than the runtime version 6.31.1 at v1/search_get.proto. Please update the gencode to avoid compatibility violations in the next runtime release.\n",
      "  warnings.warn(\n",
      "/Users/krimssmirk/Desktop/rag/.venv/lib/python3.11/site-packages/google/protobuf/runtime_version.py:98: UserWarning: Protobuf gencode version 5.29.0 is exactly one major version older than the runtime version 6.31.1 at v1/generative.proto. Please update the gencode to avoid compatibility violations in the next runtime release.\n",
      "  warnings.warn(\n",
      "/Users/krimssmirk/Desktop/rag/.venv/lib/python3.11/site-packages/google/protobuf/runtime_version.py:98: UserWarning: Protobuf gencode version 5.29.0 is exactly one major version older than the runtime version 6.31.1 at v1/properties.proto. Please update the gencode to avoid compatibility violations in the next runtime release.\n",
      "  warnings.warn(\n",
      "/Users/krimssmirk/Desktop/rag/.venv/lib/python3.11/site-packages/google/protobuf/runtime_version.py:98: UserWarning: Protobuf gencode version 5.29.0 is exactly one major version older than the runtime version 6.31.1 at v1/tenants.proto. Please update the gencode to avoid compatibility violations in the next runtime release.\n",
      "  warnings.warn(\n",
      "/Users/krimssmirk/Desktop/rag/.venv/lib/python3.11/site-packages/tqdm/auto.py:21: TqdmWarning: IProgress not found. Please update jupyter and ipywidgets. See https://ipywidgets.readthedocs.io/en/stable/user_install.html\n",
      "  from .autonotebook import tqdm as notebook_tqdm\n",
      "<frozen importlib._bootstrap>:241: DeprecationWarning: builtin type SwigPyPacked has no __module__ attribute\n",
      "<frozen importlib._bootstrap>:241: DeprecationWarning: builtin type SwigPyObject has no __module__ attribute\n",
      "<frozen importlib._bootstrap>:241: DeprecationWarning: builtin type swigvarlink has no __module__ attribute\n"
     ]
    },
    {
     "name": "stdout",
     "output_type": "stream",
     "text": [
      "Requirements has been removed!\n",
      "New Collection Requirements created!\n",
      "📄 Processing: MULTIPLE-ENTRY VISA FOR TEMPORARY VISITOR.pdf\n"
     ]
    },
    {
     "name": "stderr",
     "output_type": "stream",
     "text": [
      "/Users/krimssmirk/Desktop/rag/.venv/lib/python3.11/site-packages/torch/nn/modules/module.py:1520: FutureWarning: `encoder_attention_mask` is deprecated and will be removed in version 4.55.0 for `XLMRobertaSdpaSelfAttention.forward`.\n",
      "  return forward_call(*args, **kwargs)\n"
     ]
    },
    {
     "name": "stdout",
     "output_type": "stream",
     "text": [
      "Inserted object chunk_id=MULTIPLE-ENTRY VISA FOR TEMPORARY VISITOR.pdf_chunk_0 title=MULTIPLE-ENTRY VISA FOR TEMPORARY VISITOR\n",
      "📄 Processing: FREQUENTLY ASKED QUESTIONS.pdf\n",
      "Inserted object chunk_id=FREQUENTLY ASKED QUESTIONS.pdf_chunk_0 title=Frequently Asked Questions (Visa\n",
      "📄 Processing: ATTIC TOURS.pdf\n",
      "Inserted object chunk_id=ATTIC TOURS.pdf_chunk_0 title=ATTIC TOURS\n",
      "📄 Processing: VISITING RELATIVES.pdf\n",
      "Inserted object chunk_id=VISITING RELATIVES.pdf_chunk_0 title=VISITING RELATIVES\n",
      "📄 Processing: VISITING US MILITARY PERSONNEL.pdf\n",
      "Inserted object chunk_id=VISITING US MILITARY PERSONNEL.pdf_chunk_0 title=VISITING US MIILITALY PERSONNEL\n",
      "📄 Processing: MULTIPLE-ENTRY TEMPORARY VISITOR VISA (PHILIPPINE NATIONALS WITH CONSIDERABLE FINANCIAL CAPACITY).pdf\n",
      "Inserted object chunk_id=MULTIPLE-ENTRY TEMPORARY VISITOR VISA (PHILIPPINE NATIONALS WITH CONSIDERABLE FINANCIAL CAPACITY).pdf_chunk_0 title=MULTIPLE-ENTRY TEMPORARY VISITOR VISA (PHILIPPINE NATIONALS WITH\n",
      "📄 Processing: TRANSIT.pdf\n",
      "Inserted object chunk_id=TRANSIT.pdf_chunk_0 title=TRANSIT\n",
      "📄 Processing: IMPORTANT NOTES ON THE DOCUMENT SUBMISSION.pdf\n",
      "Inserted object chunk_id=IMPORTANT NOTES ON THE DOCUMENT SUBMISSION.pdf_chunk_0 title=IMPORTANT NOTES ON DOCUMENT SUBMISSION\n",
      "📄 Processing: OFFICIAL.pdf\n",
      "Inserted object chunk_id=OFFICIAL.pdf_chunk_0 title=OFFICIAL\n",
      "📄 Processing: JAPAN VISA GENERAL INFO.pdf\n",
      "Inserted object chunk_id=JAPAN VISA GENERAL INFO.pdf_chunk_0 title=JAPAN VISA – GENERAL INFORMATION\n",
      "📄 Processing: STUDENT, WORKER AND DEPENDENT.pdf\n",
      "Inserted object chunk_id=STUDENT, WORKER AND DEPENDENT.pdf_chunk_0 title=STUDENT, WORKER AND DEPENDENT\n",
      "📄 Processing: HOUSEKEEPER OF DIPLOMAT:OFFICIAL.pdf\n",
      "Inserted object chunk_id=HOUSEKEEPER OF DIPLOMAT:OFFICIAL.pdf_chunk_0 title=HOUSEKEEPER OF DIPLOMAT/OFFICIAL\n",
      "📄 Processing: BUSINESS, CONFERENCE or CULTURAL EXCHANGE, etc..pdf\n",
      "Inserted object chunk_id=BUSINESS, CONFERENCE or CULTURAL EXCHANGE, etc..pdf_chunk_0 title=BUSINESS, CONFERENCE or CULTURAL EXCHANGE, etc.\n",
      "📄 Processing: TOURISM.pdf\n",
      "Inserted object chunk_id=TOURISM.pdf_chunk_0 title=TOURISM\n",
      "📄 Processing: MULTIPLE-ENTRY VISA FOR TEMPORARY VISITOR (FOR BUSINESS PURPOSE AND CULTURAL OR INTELLECTUAL FIGURES ).pdf\n",
      "Inserted object chunk_id=MULTIPLE-ENTRY VISA FOR TEMPORARY VISITOR (FOR BUSINESS PURPOSE AND CULTURAL OR INTELLECTUAL FIGURES ).pdf_chunk_0 title=\n",
      "📄 Processing: SPOUSE OR CHILD OF JAPANESE NATIONAL RESIDING IN THE PHILIPPINES.pdf\n",
      "Inserted object chunk_id=SPOUSE OR CHILD OF JAPANESE NATIONAL RESIDING IN THE PHILIPPINES.pdf_chunk_0 title=SPOUSE OR CHLID OF JAPANESE NATIONAL RESIDING IN THE PHILIPPINES\n",
      "📄 Processing: VISITING FRIENDS OR DISTANT RELATIVES.pdf\n",
      "Inserted object chunk_id=VISITING FRIENDS OR DISTANT RELATIVES.pdf_chunk_0 title=VISITING FRIENDS OR DISTANT RELATIVES\n",
      "📄 Processing: NIKKEI-JIN (JAPANESE DESCENDANT).pdf\n",
      "Inserted object chunk_id=NIKKEI-JIN (JAPANESE DESCENDANT).pdf_chunk_0 title=NIKKEI-JIN (JAPANESE DESCENDANT)\n",
      "📄 Processing: FILIPINO PARENTS TRAVELLING TO JAPAN WITH JAPANESE-FILIPINO CHILDREN.pdf\n",
      "Inserted object chunk_id=FILIPINO PARENTS TRAVELLING TO JAPAN WITH JAPANESE-FILIPINO CHILDREN.pdf_chunk_0 title=FILIPINO PARENTS TRAVELLING TO JAPAN WITH JAPANESE-FILIPINO CHILDREN\n",
      "✅ Created 19 section-based chunks → saved to /Users/krimssmirk/Desktop/rag/src/retriever/data/processed_pdfs/pdf_chunks.json\n"
     ]
    }
   ],
   "source": [
    "from rag_chatbot import RAG_Chatbot\n",
    "\n",
    "chatbot = RAG_Chatbot()\n",
    "chatbot.prepare_docs()"
   ]
  },
  {
   "cell_type": "code",
   "execution_count": 7,
   "id": "7ef00bf3",
   "metadata": {},
   "outputs": [],
   "source": [
    "def test_rag_chatbot() -> tuple[list[list[str]], list[str]]:\n",
    "    retrieved_texts = []\n",
    "    model_answers = []\n",
    "    for query in queries['query']:\n",
    "        relevant_docs = chatbot._retrieved_relevant_docs(query, top_k=5)\n",
    "        messages = chatbot._get_messages(query=query, context=relevant_docs)\n",
    "        model_answer = \"\"\n",
    "        for response_text in chatbot._generate_response(messages):\n",
    "            model_answer += response_text\n",
    "        retrieved_texts.append(relevant_docs)\n",
    "        model_answers.append(model_answer)\n",
    "    return retrieved_texts, model_answers"
   ]
  },
  {
   "cell_type": "code",
   "execution_count": 8,
   "id": "f46f770f",
   "metadata": {},
   "outputs": [
    {
     "name": "stderr",
     "output_type": "stream",
     "text": [
      "/Users/krimssmirk/Desktop/rag/.venv/lib/python3.11/site-packages/torch/nn/modules/module.py:1520: FutureWarning: `encoder_attention_mask` is deprecated and will be removed in version 4.55.0 for `XLMRobertaSdpaSelfAttention.forward`.\n",
      "  return forward_call(*args, **kwargs)\n"
     ]
    }
   ],
   "source": [
    "retrieved_texts, model_answers = test_rag_chatbot()"
   ]
  },
  {
   "cell_type": "code",
   "execution_count": 28,
   "id": "ee246c7d",
   "metadata": {},
   "outputs": [],
   "source": [
    "eval_llm = ChatOllama(model=\"llama3:8b-instruct\", temperature=0.0)\n",
    "ragas_llm = LangchainLLMWrapper(eval_llm)"
   ]
  },
  {
   "cell_type": "code",
   "execution_count": 29,
   "id": "8e64376a",
   "metadata": {},
   "outputs": [],
   "source": [
    "data = {\n",
    "    \"question\": queries[\"query\"].to_list(),\n",
    "    \"answer\": model_answers,\n",
    "    \"contexts\": retrieved_texts,\n",
    "    \"ground_truth\": queries[\"answer\"].to_list(),\n",
    "}\n",
    "ds = Dataset.from_dict(data)"
   ]
  },
  {
   "cell_type": "code",
   "execution_count": 30,
   "id": "4a5be7b1",
   "metadata": {},
   "outputs": [],
   "source": [
    "metrics = [\n",
    "    faithfulness\n",
    "]"
   ]
  },
  {
   "cell_type": "code",
   "execution_count": null,
   "id": "ddc83845",
   "metadata": {},
   "outputs": [
    {
     "name": "stderr",
     "output_type": "stream",
     "text": [
      "Evaluating:   0%|          | 0/5 [00:00<?, ?it/s]Prompt fix_output_format failed to parse output: The output parser failed to parse the output including retries.\n",
      "Prompt fix_output_format failed to parse output: The output parser failed to parse the output including retries.\n",
      "Prompt fix_output_format failed to parse output: The output parser failed to parse the output including retries.\n",
      "Prompt statement_generator_prompt failed to parse output: The output parser failed to parse the output including retries.\n",
      "Exception raised in Job[2]: RagasOutputParserException(The output parser failed to parse the output including retries.)\n",
      "Evaluating:  20%|██        | 1/5 [35:13<2:20:55, 2113.81s/it]Prompt fix_output_format failed to parse output: The output parser failed to parse the output including retries.\n",
      "Prompt fix_output_format failed to parse output: The output parser failed to parse the output including retries.\n",
      "Prompt fix_output_format failed to parse output: The output parser failed to parse the output including retries.\n",
      "Prompt statement_generator_prompt failed to parse output: The output parser failed to parse the output including retries.\n",
      "Exception raised in Job[0]: RagasOutputParserException(The output parser failed to parse the output including retries.)\n",
      "Evaluating:  40%|████      | 2/5 [37:19<47:12, 944.27s/it]   Prompt fix_output_format failed to parse output: The output parser failed to parse the output including retries.\n",
      "Prompt fix_output_format failed to parse output: The output parser failed to parse the output including retries.\n",
      "Prompt fix_output_format failed to parse output: The output parser failed to parse the output including retries.\n",
      "Prompt statement_generator_prompt failed to parse output: The output parser failed to parse the output including retries.\n",
      "Exception raised in Job[1]: RagasOutputParserException(The output parser failed to parse the output including retries.)\n",
      "Evaluating:  60%|██████    | 3/5 [44:47<23:55, 717.66s/it]Prompt fix_output_format failed to parse output: The output parser failed to parse the output including retries.\n",
      "Prompt fix_output_format failed to parse output: The output parser failed to parse the output including retries.\n",
      "Prompt fix_output_format failed to parse output: The output parser failed to parse the output including retries.\n",
      "Prompt n_l_i_statement_prompt failed to parse output: The output parser failed to parse the output including retries.\n",
      "Exception raised in Job[4]: RagasOutputParserException(The output parser failed to parse the output including retries.)\n",
      "Evaluating:  80%|████████  | 4/5 [55:45<11:34, 694.02s/it]Exception raised in Job[3]: TimeoutError()\n",
      "Evaluating: 100%|██████████| 5/5 [1:00:00<00:00, 720.06s/it]\n"
     ]
    }
   ],
   "source": [
    "# Define a custom timeout, for example, 300 seconds (5 minutes)\n",
    "# Adjust this value based on your hardware and dataset size\n",
    "run_config = RunConfig(timeout=7200)\n",
    "\n",
    "result = evaluate(\n",
    "    ds,\n",
    "    metrics=metrics,\n",
    "    llm=ragas_llm,\n",
    "    run_config=run_config\n",
    ")"
   ]
  },
  {
   "cell_type": "code",
   "execution_count": 31,
   "id": "f415eb32",
   "metadata": {},
   "outputs": [
    {
     "data": {
      "text/plain": [
       "{'faithfulness': nan}"
      ]
     },
     "execution_count": 31,
     "metadata": {},
     "output_type": "execute_result"
    }
   ],
   "source": [
    "result"
   ]
  }
 ],
 "metadata": {
  "kernelspec": {
   "display_name": ".venv",
   "language": "python",
   "name": "python3"
  },
  "language_info": {
   "codemirror_mode": {
    "name": "ipython",
    "version": 3
   },
   "file_extension": ".py",
   "mimetype": "text/x-python",
   "name": "python",
   "nbconvert_exporter": "python",
   "pygments_lexer": "ipython3",
   "version": "3.11.1"
  }
 },
 "nbformat": 4,
 "nbformat_minor": 5
}
