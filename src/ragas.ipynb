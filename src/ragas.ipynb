{
 "cells": [
  {
   "cell_type": "markdown",
   "id": "d8a6410a",
   "metadata": {},
   "source": [
    "# Setup"
   ]
  },
  {
   "cell_type": "code",
   "execution_count": null,
   "id": "67fc0940",
   "metadata": {},
   "outputs": [],
   "source": [
    "from ragas import evaluate\n",
    "from ragas.metrics import (\n",
    "    faithfulness,\n",
    "    answer_relevancy, # uses Embeddings\n",
    "    context_precision, # uses Embeddings\n",
    "    context_recall, # uses ground_truth dataset (only LLM used as a jugdge)\n",
    ")\n",
    "from datasets import Dataset\n",
    "\n",
    "from ragas.llms import LangchainLLMWrapper\n",
    "from ragas.embeddings import LangchainEmbeddingsWrapper\n",
    "from langchain_community.embeddings import HuggingFaceEmbeddings\n",
    "from langchain_community.chat_models import ChatOllama\n",
    "from ragas.run_config import RunConfig\n",
    "import pandas as pd"
   ]
  },
  {
   "cell_type": "markdown",
   "id": "31df21dc",
   "metadata": {},
   "source": [
    "# Modules"
   ]
  },
  {
   "cell_type": "code",
   "execution_count": 5,
   "id": "12e82829",
   "metadata": {},
   "outputs": [],
   "source": [
    "def extract_queries() -> pd.DataFrame:\n",
    "    url_source: str = (\n",
    "        \"https://docs.google.com/spreadsheets/d/e/2PACX-1vR1hUlRhTJQgNzSbTyRtDNh1mCrbfy0iUm6oiHK7oHb_iQQ5t7XCB_xyUCwoZ2fdg/pub?output=xlsx\"\n",
    "    )\n",
    "    queries = pd.read_excel(url_source, sheet_name=\"queries\")\n",
    "    return queries\n",
    "\n",
    "\n",
    "def transform_queries(df: pd.DataFrame) -> pd.DataFrame:\n",
    "    df = df.copy()\n",
    "    return df\n",
    "\n",
    "\n",
    "def load_queries() -> pd.DataFrame:\n",
    "    df = extract_queries()\n",
    "    df = transform_queries(df)\n",
    "    return df"
   ]
  },
  {
   "cell_type": "code",
   "execution_count": null,
   "id": "7ef00bf3",
   "metadata": {},
   "outputs": [],
   "source": [
    "def get_contexts_and_answers(chatbot: RAG_Chatbot) -> tuple[list[list[str]], list[str]]:\n",
    "    retrieved_texts = []\n",
    "    model_answers = []\n",
    "    for query in queries['query']:\n",
    "        relevant_docs = chatbot._retrieved_relevant_docs(query, top_k=5)\n",
    "        messages = chatbot._get_messages(query=query, context=relevant_docs)\n",
    "        model_answer = \"\"\n",
    "        for response_text in chatbot._generate_response(messages):\n",
    "            model_answer += response_text\n",
    "        retrieved_texts.append(relevant_docs)\n",
    "        model_answers.append(model_answer)\n",
    "    return retrieved_texts, model_answers"
   ]
  },
  {
   "cell_type": "markdown",
   "id": "af3ba9d4",
   "metadata": {},
   "source": [
    "# Main"
   ]
  },
  {
   "cell_type": "markdown",
   "id": "54d84f94",
   "metadata": {},
   "source": [
    "## Dataset"
   ]
  },
  {
   "cell_type": "code",
   "execution_count": 6,
   "id": "78070ac7",
   "metadata": {},
   "outputs": [
    {
     "data": {
      "text/html": [
       "<div>\n",
       "<style scoped>\n",
       "    .dataframe tbody tr th:only-of-type {\n",
       "        vertical-align: middle;\n",
       "    }\n",
       "\n",
       "    .dataframe tbody tr th {\n",
       "        vertical-align: top;\n",
       "    }\n",
       "\n",
       "    .dataframe thead th {\n",
       "        text-align: right;\n",
       "    }\n",
       "</style>\n",
       "<table border=\"1\" class=\"dataframe\">\n",
       "  <thead>\n",
       "    <tr style=\"text-align: right;\">\n",
       "      <th></th>\n",
       "      <th>query_id</th>\n",
       "      <th>query</th>\n",
       "      <th>answer</th>\n",
       "    </tr>\n",
       "  </thead>\n",
       "  <tbody>\n",
       "    <tr>\n",
       "      <th>0</th>\n",
       "      <td>1</td>\n",
       "      <td>Paano magapply ng Japan Visa?</td>\n",
       "      <td>Complete all the requirements based on the pur...</td>\n",
       "    </tr>\n",
       "    <tr>\n",
       "      <th>1</th>\n",
       "      <td>2</td>\n",
       "      <td>Saan pwede magprocess ng Japan Visa?</td>\n",
       "      <td>Pwede mag process ng Japan Visa sa Attic Tours...</td>\n",
       "    </tr>\n",
       "    <tr>\n",
       "      <th>2</th>\n",
       "      <td>3</td>\n",
       "      <td>Magkano ang processing fees ng Japan Visa?</td>\n",
       "      <td>Ang processing fee ng Japan Visa sa Attic Tour...</td>\n",
       "    </tr>\n",
       "    <tr>\n",
       "      <th>3</th>\n",
       "      <td>4</td>\n",
       "      <td>Ano ang mga requirements pag mag tourist sa Ja...</td>\n",
       "      <td>Kailangan ng Philippine Passport original, Col...</td>\n",
       "    </tr>\n",
       "    <tr>\n",
       "      <th>4</th>\n",
       "      <td>5</td>\n",
       "      <td>Ano ang mga types ng Japan Visa?</td>\n",
       "      <td>Ang mga types ng Japan Visa ay tourist, visiti...</td>\n",
       "    </tr>\n",
       "  </tbody>\n",
       "</table>\n",
       "</div>"
      ],
      "text/plain": [
       "   query_id                                              query  \\\n",
       "0         1                      Paano magapply ng Japan Visa?   \n",
       "1         2               Saan pwede magprocess ng Japan Visa?   \n",
       "2         3         Magkano ang processing fees ng Japan Visa?   \n",
       "3         4  Ano ang mga requirements pag mag tourist sa Ja...   \n",
       "4         5                   Ano ang mga types ng Japan Visa?   \n",
       "\n",
       "                                              answer  \n",
       "0  Complete all the requirements based on the pur...  \n",
       "1  Pwede mag process ng Japan Visa sa Attic Tours...  \n",
       "2  Ang processing fee ng Japan Visa sa Attic Tour...  \n",
       "3  Kailangan ng Philippine Passport original, Col...  \n",
       "4  Ang mga types ng Japan Visa ay tourist, visiti...  "
      ]
     },
     "execution_count": 6,
     "metadata": {},
     "output_type": "execute_result"
    }
   ],
   "source": [
    "queries = load_queries()\n",
    "queries"
   ]
  },
  {
   "cell_type": "markdown",
   "id": "ba5586a0",
   "metadata": {},
   "source": [
    "## Chatbot"
   ]
  },
  {
   "cell_type": "code",
   "execution_count": 7,
   "id": "03b43450",
   "metadata": {},
   "outputs": [
    {
     "name": "stderr",
     "output_type": "stream",
     "text": [
      "/Users/krimssmirk/Desktop/rag/.venv/lib/python3.11/site-packages/google/protobuf/runtime_version.py:98: UserWarning: Protobuf gencode version 5.29.0 is exactly one major version older than the runtime version 6.31.1 at v1/aggregate.proto. Please update the gencode to avoid compatibility violations in the next runtime release.\n",
      "  warnings.warn(\n",
      "/Users/krimssmirk/Desktop/rag/.venv/lib/python3.11/site-packages/google/protobuf/runtime_version.py:98: UserWarning: Protobuf gencode version 5.29.0 is exactly one major version older than the runtime version 6.31.1 at v1/base.proto. Please update the gencode to avoid compatibility violations in the next runtime release.\n",
      "  warnings.warn(\n",
      "/Users/krimssmirk/Desktop/rag/.venv/lib/python3.11/site-packages/google/protobuf/runtime_version.py:98: UserWarning: Protobuf gencode version 5.29.0 is exactly one major version older than the runtime version 6.31.1 at v1/base_search.proto. Please update the gencode to avoid compatibility violations in the next runtime release.\n",
      "  warnings.warn(\n",
      "/Users/krimssmirk/Desktop/rag/.venv/lib/python3.11/site-packages/google/protobuf/runtime_version.py:98: UserWarning: Protobuf gencode version 5.29.0 is exactly one major version older than the runtime version 6.31.1 at v1/batch_delete.proto. Please update the gencode to avoid compatibility violations in the next runtime release.\n",
      "  warnings.warn(\n",
      "/Users/krimssmirk/Desktop/rag/.venv/lib/python3.11/site-packages/google/protobuf/runtime_version.py:98: UserWarning: Protobuf gencode version 5.29.0 is exactly one major version older than the runtime version 6.31.1 at v1/batch.proto. Please update the gencode to avoid compatibility violations in the next runtime release.\n",
      "  warnings.warn(\n",
      "/Users/krimssmirk/Desktop/rag/.venv/lib/python3.11/site-packages/google/protobuf/runtime_version.py:98: UserWarning: Protobuf gencode version 5.29.0 is exactly one major version older than the runtime version 6.31.1 at v1/search_get.proto. Please update the gencode to avoid compatibility violations in the next runtime release.\n",
      "  warnings.warn(\n",
      "/Users/krimssmirk/Desktop/rag/.venv/lib/python3.11/site-packages/google/protobuf/runtime_version.py:98: UserWarning: Protobuf gencode version 5.29.0 is exactly one major version older than the runtime version 6.31.1 at v1/generative.proto. Please update the gencode to avoid compatibility violations in the next runtime release.\n",
      "  warnings.warn(\n",
      "/Users/krimssmirk/Desktop/rag/.venv/lib/python3.11/site-packages/google/protobuf/runtime_version.py:98: UserWarning: Protobuf gencode version 5.29.0 is exactly one major version older than the runtime version 6.31.1 at v1/properties.proto. Please update the gencode to avoid compatibility violations in the next runtime release.\n",
      "  warnings.warn(\n",
      "/Users/krimssmirk/Desktop/rag/.venv/lib/python3.11/site-packages/google/protobuf/runtime_version.py:98: UserWarning: Protobuf gencode version 5.29.0 is exactly one major version older than the runtime version 6.31.1 at v1/tenants.proto. Please update the gencode to avoid compatibility violations in the next runtime release.\n",
      "  warnings.warn(\n",
      "<frozen importlib._bootstrap>:241: DeprecationWarning: builtin type SwigPyPacked has no __module__ attribute\n",
      "<frozen importlib._bootstrap>:241: DeprecationWarning: builtin type SwigPyObject has no __module__ attribute\n",
      "<frozen importlib._bootstrap>:241: DeprecationWarning: builtin type swigvarlink has no __module__ attribute\n"
     ]
    },
    {
     "name": "stdout",
     "output_type": "stream",
     "text": [
      "Requirements has been removed!\n",
      "New Collection Requirements created!\n",
      "1/28 📄 Processing: MULTIPLE-ENTRY VISA FOR TEMPORARY VISITOR.pdf\n"
     ]
    },
    {
     "name": "stderr",
     "output_type": "stream",
     "text": [
      "/Users/krimssmirk/Desktop/rag/.venv/lib/python3.11/site-packages/torch/nn/modules/module.py:1520: FutureWarning: `encoder_attention_mask` is deprecated and will be removed in version 4.55.0 for `XLMRobertaSdpaSelfAttention.forward`.\n",
      "  return forward_call(*args, **kwargs)\n"
     ]
    },
    {
     "name": "stdout",
     "output_type": "stream",
     "text": [
      "Inserted object chunk_id=MULTIPLE-ENTRY VISA FOR TEMPORARY VISITOR.pdf_chunk_0 title=MULTIPLE-ENTRY VISA FOR TEMPORARY VISITOR\n",
      "Inserted object chunk_id=MULTIPLE-ENTRY VISA FOR TEMPORARY VISITOR.pdf_chunk_1 title=MULTIPLE-ENTRY VISA FOR TEMPORARY VISITOR\n",
      "Inserted object chunk_id=MULTIPLE-ENTRY VISA FOR TEMPORARY VISITOR.pdf_chunk_2 title=MULTIPLE-ENTRY VISA FOR TEMPORARY VISITOR\n",
      "2/28 📄 Processing: FREQUENTLY ASKED QUESTIONS.pdf\n",
      "Inserted object chunk_id=FREQUENTLY ASKED QUESTIONS.pdf_chunk_0 title=Frequently Asked Questions (Visa\n",
      "Inserted object chunk_id=FREQUENTLY ASKED QUESTIONS.pdf_chunk_1 title=Frequently Asked Questions (Visa\n",
      "Inserted object chunk_id=FREQUENTLY ASKED QUESTIONS.pdf_chunk_2 title=Frequently Asked Questions (Visa\n",
      "3/28 📄 Processing: ATTIC TOURS.pdf\n",
      "Inserted object chunk_id=ATTIC TOURS.pdf_chunk_0 title=ATTIC TOURS\n",
      "Inserted object chunk_id=ATTIC TOURS.pdf_chunk_1 title=ATTIC TOURS\n",
      "Inserted object chunk_id=ATTIC TOURS.pdf_chunk_2 title=ATTIC TOURS\n",
      "4/28 📄 Processing: VISITING RELATIVES.pdf\n",
      "Inserted object chunk_id=VISITING RELATIVES.pdf_chunk_0 title=VISITING RELATIVES\n",
      "5/28 📄 Processing: VISITING US MILITARY PERSONNEL.pdf\n",
      "Inserted object chunk_id=VISITING US MILITARY PERSONNEL.pdf_chunk_0 title=VISITING US MIILITALY PERSONNEL\n",
      "6/28 📄 Processing: MULTIPLE-ENTRY TEMPORARY VISITOR VISA (PHILIPPINE NATIONALS WITH CONSIDERABLE FINANCIAL CAPACITY).pdf\n",
      "Inserted object chunk_id=MULTIPLE-ENTRY TEMPORARY VISITOR VISA (PHILIPPINE NATIONALS WITH CONSIDERABLE FINANCIAL CAPACITY).pdf_chunk_0 title=MULTIPLE-ENTRY TEMPORARY VISITOR VISA (PHILIPPINE NATIONALS WITH\n",
      "7/28 📄 Processing: TRANSIT.pdf\n",
      "Inserted object chunk_id=TRANSIT.pdf_chunk_0 title=TRANSIT\n",
      "8/28 📄 Processing: TOURIST.pdf\n",
      "Inserted object chunk_id=TOURIST.pdf_chunk_0 title=\n",
      "Inserted object chunk_id=TOURIST.pdf_chunk_1 title=\n",
      "Inserted object chunk_id=TOURIST.pdf_chunk_2 title=\n",
      "Inserted object chunk_id=TOURIST.pdf_chunk_3 title=\n",
      "9/28 📄 Processing: IMPORTANT NOTES ON THE DOCUMENT SUBMISSION.pdf\n",
      "Inserted object chunk_id=IMPORTANT NOTES ON THE DOCUMENT SUBMISSION.pdf_chunk_0 title=IMPORTANT NOTES ON DOCUMENT SUBMISSION\n",
      "Inserted object chunk_id=IMPORTANT NOTES ON THE DOCUMENT SUBMISSION.pdf_chunk_1 title=IMPORTANT NOTES ON DOCUMENT SUBMISSION\n",
      "Inserted object chunk_id=IMPORTANT NOTES ON THE DOCUMENT SUBMISSION.pdf_chunk_2 title=IMPORTANT NOTES ON DOCUMENT SUBMISSION\n",
      "10/28 📄 Processing: OFFICIAL.pdf\n",
      "Inserted object chunk_id=OFFICIAL.pdf_chunk_0 title=OFFICIAL\n",
      "11/28 📄 Processing: Visit relative.pdf\n",
      "Inserted object chunk_id=Visit relative.pdf_chunk_0 title=\n",
      "Inserted object chunk_id=Visit relative.pdf_chunk_1 title=\n",
      "Inserted object chunk_id=Visit relative.pdf_chunk_2 title=\n",
      "Inserted object chunk_id=Visit relative.pdf_chunk_3 title=\n",
      "12/28 📄 Processing: JAPAN VISA GENERAL INFO.pdf\n",
      "Inserted object chunk_id=JAPAN VISA GENERAL INFO.pdf_chunk_0 title=JAPAN VISA – GENERAL INFORMATION\n",
      "Inserted object chunk_id=JAPAN VISA GENERAL INFO.pdf_chunk_1 title=JAPAN VISA – GENERAL INFORMATION\n",
      "Inserted object chunk_id=JAPAN VISA GENERAL INFO.pdf_chunk_2 title=JAPAN VISA – GENERAL INFORMATION\n",
      "13/28 📄 Processing: STUDENT, WORKER AND DEPENDENT.pdf\n",
      "Inserted object chunk_id=STUDENT, WORKER AND DEPENDENT.pdf_chunk_0 title=STUDENT, WORKER AND DEPENDENT\n",
      "14/28 📄 Processing: COE.pdf\n",
      "Inserted object chunk_id=COE.pdf_chunk_0 title=\n",
      "Inserted object chunk_id=COE.pdf_chunk_1 title=\n",
      "Inserted object chunk_id=COE.pdf_chunk_2 title=\n",
      "15/28 📄 Processing: types_of_visa.pdf\n",
      "Inserted object chunk_id=types_of_visa.pdf_chunk_0 title=(anonymous)\n",
      "16/28 📄 Processing: HOUSEKEEPER OF DIPLOMAT:OFFICIAL.pdf\n",
      "Inserted object chunk_id=HOUSEKEEPER OF DIPLOMAT:OFFICIAL.pdf_chunk_0 title=HOUSEKEEPER OF DIPLOMAT/OFFICIAL\n",
      "17/28 📄 Processing: Visit relative SOFA.pdf\n",
      "Inserted object chunk_id=Visit relative SOFA.pdf_chunk_0 title=\n",
      "Inserted object chunk_id=Visit relative SOFA.pdf_chunk_1 title=\n",
      "Inserted object chunk_id=Visit relative SOFA.pdf_chunk_2 title=\n",
      "Inserted object chunk_id=Visit relative SOFA.pdf_chunk_3 title=\n",
      "18/28 📄 Processing: Commercial.pdf\n",
      "Inserted object chunk_id=Commercial.pdf_chunk_0 title=\n",
      "Inserted object chunk_id=Commercial.pdf_chunk_1 title=\n",
      "Inserted object chunk_id=Commercial.pdf_chunk_2 title=\n",
      "19/28 📄 Processing: Visit friend.pdf\n",
      "Inserted object chunk_id=Visit friend.pdf_chunk_0 title=\n",
      "Inserted object chunk_id=Visit friend.pdf_chunk_1 title=\n",
      "Inserted object chunk_id=Visit friend.pdf_chunk_2 title=\n",
      "Inserted object chunk_id=Visit friend.pdf_chunk_3 title=\n",
      "20/28 📄 Processing: BUSINESS, CONFERENCE or CULTURAL EXCHANGE, etc..pdf\n",
      "Inserted object chunk_id=BUSINESS, CONFERENCE or CULTURAL EXCHANGE, etc..pdf_chunk_0 title=BUSINESS, CONFERENCE or CULTURAL EXCHANGE, etc.\n",
      "21/28 📄 Processing: Visit friend SOFA.pdf\n",
      "Inserted object chunk_id=Visit friend SOFA.pdf_chunk_0 title=\n",
      "Inserted object chunk_id=Visit friend SOFA.pdf_chunk_1 title=\n",
      "Inserted object chunk_id=Visit friend SOFA.pdf_chunk_2 title=\n",
      "Inserted object chunk_id=Visit friend SOFA.pdf_chunk_3 title=\n",
      "22/28 📄 Processing: TOURISM.pdf\n",
      "Inserted object chunk_id=TOURISM.pdf_chunk_0 title=TOURISM\n",
      "23/28 📄 Processing: MULTIPLE-ENTRY VISA FOR TEMPORARY VISITOR (FOR BUSINESS PURPOSE AND CULTURAL OR INTELLECTUAL FIGURES ).pdf\n",
      "Inserted object chunk_id=MULTIPLE-ENTRY VISA FOR TEMPORARY VISITOR (FOR BUSINESS PURPOSE AND CULTURAL OR INTELLECTUAL FIGURES ).pdf_chunk_0 title=\n",
      "Inserted object chunk_id=MULTIPLE-ENTRY VISA FOR TEMPORARY VISITOR (FOR BUSINESS PURPOSE AND CULTURAL OR INTELLECTUAL FIGURES ).pdf_chunk_1 title=\n",
      "Inserted object chunk_id=MULTIPLE-ENTRY VISA FOR TEMPORARY VISITOR (FOR BUSINESS PURPOSE AND CULTURAL OR INTELLECTUAL FIGURES ).pdf_chunk_2 title=\n",
      "24/28 📄 Processing: SPOUSE OR CHILD OF JAPANESE NATIONAL RESIDING IN THE PHILIPPINES.pdf\n",
      "Inserted object chunk_id=SPOUSE OR CHILD OF JAPANESE NATIONAL RESIDING IN THE PHILIPPINES.pdf_chunk_0 title=SPOUSE OR CHLID OF JAPANESE NATIONAL RESIDING IN THE PHILIPPINES\n",
      "25/28 📄 Processing: VISITING FRIENDS OR DISTANT RELATIVES.pdf\n",
      "Inserted object chunk_id=VISITING FRIENDS OR DISTANT RELATIVES.pdf_chunk_0 title=VISITING FRIENDS OR DISTANT RELATIVES\n",
      "26/28 📄 Processing: ATTIC TOURS SM FAIRVIEW.pdf\n",
      "Inserted object chunk_id=ATTIC TOURS SM FAIRVIEW.pdf_chunk_0 title=ATTIC TOURS SM FAIRVIEW\n",
      "Inserted object chunk_id=ATTIC TOURS SM FAIRVIEW.pdf_chunk_1 title=ATTIC TOURS SM FAIRVIEW\n",
      "Inserted object chunk_id=ATTIC TOURS SM FAIRVIEW.pdf_chunk_2 title=ATTIC TOURS SM FAIRVIEW\n",
      "Inserted object chunk_id=ATTIC TOURS SM FAIRVIEW.pdf_chunk_3 title=ATTIC TOURS SM FAIRVIEW\n",
      "27/28 📄 Processing: NIKKEI-JIN (JAPANESE DESCENDANT).pdf\n",
      "Inserted object chunk_id=NIKKEI-JIN (JAPANESE DESCENDANT).pdf_chunk_0 title=NIKKEI-JIN (JAPANESE DESCENDANT)\n",
      "Inserted object chunk_id=NIKKEI-JIN (JAPANESE DESCENDANT).pdf_chunk_1 title=NIKKEI-JIN (JAPANESE DESCENDANT)\n",
      "Inserted object chunk_id=NIKKEI-JIN (JAPANESE DESCENDANT).pdf_chunk_2 title=NIKKEI-JIN (JAPANESE DESCENDANT)\n",
      "28/28 📄 Processing: FILIPINO PARENTS TRAVELLING TO JAPAN WITH JAPANESE-FILIPINO CHILDREN.pdf\n",
      "Inserted object chunk_id=FILIPINO PARENTS TRAVELLING TO JAPAN WITH JAPANESE-FILIPINO CHILDREN.pdf_chunk_0 title=FILIPINO PARENTS TRAVELLING TO JAPAN WITH JAPANESE-FILIPINO CHILDREN\n",
      "Inserted object chunk_id=FILIPINO PARENTS TRAVELLING TO JAPAN WITH JAPANESE-FILIPINO CHILDREN.pdf_chunk_1 title=FILIPINO PARENTS TRAVELLING TO JAPAN WITH JAPANESE-FILIPINO CHILDREN\n",
      "Inserted object chunk_id=FILIPINO PARENTS TRAVELLING TO JAPAN WITH JAPANESE-FILIPINO CHILDREN.pdf_chunk_2 title=FILIPINO PARENTS TRAVELLING TO JAPAN WITH JAPANESE-FILIPINO CHILDREN\n",
      "✅ Created 66 pdf_based_recursively_split_chunking_v2 → saved to /Users/krimssmirk/Desktop/rag/src/retriever/data/processed_pdfs/pdf_chunks.json\n"
     ]
    }
   ],
   "source": [
    "from rag_chatbot import RAG_Chatbot\n",
    "\n",
    "chatbot = RAG_Chatbot()\n",
    "chatbot.prepare_docs()"
   ]
  },
  {
   "cell_type": "code",
   "execution_count": null,
   "id": "f46f770f",
   "metadata": {},
   "outputs": [],
   "source": [
    "retrieved_texts, model_answers = get_contexts_and_answers(chatbot)"
   ]
  },
  {
   "cell_type": "markdown",
   "id": "ac357fc0",
   "metadata": {},
   "source": [
    "## Evaluations"
   ]
  },
  {
   "cell_type": "code",
   "execution_count": 10,
   "id": "ee246c7d",
   "metadata": {},
   "outputs": [],
   "source": [
    "eval_llm = ChatOllama(model=\"gemma3:1b\", temperature=0.0)\n",
    "ragas_llm = LangchainLLMWrapper(eval_llm)"
   ]
  },
  {
   "cell_type": "code",
   "execution_count": 11,
   "id": "75df48fe",
   "metadata": {},
   "outputs": [
    {
     "name": "stderr",
     "output_type": "stream",
     "text": [
      "/var/folders/0r/dktk9n0551j0gkccz4k6246h0000gn/T/ipykernel_18264/4263833797.py:1: LangChainDeprecationWarning: The class `HuggingFaceEmbeddings` was deprecated in LangChain 0.2.2 and will be removed in 1.0. An updated version of the class exists in the :class:`~langchain-huggingface package and should be used instead. To use it run `pip install -U :class:`~langchain-huggingface` and import as `from :class:`~langchain_huggingface import HuggingFaceEmbeddings``.\n",
      "  eval_embeddings = HuggingFaceEmbeddings(model_name=\"intfloat/multilingual-e5-base\")\n"
     ]
    }
   ],
   "source": [
    "eval_embeddings = HuggingFaceEmbeddings(model_name=\"intfloat/multilingual-e5-base\")\n",
    "ragas_embeddings = LangchainEmbeddingsWrapper(eval_embeddings)"
   ]
  },
  {
   "cell_type": "code",
   "execution_count": 12,
   "id": "8e64376a",
   "metadata": {},
   "outputs": [],
   "source": [
    "data = {\n",
    "    \"question\": queries[\"query\"].to_list(),\n",
    "    \"answer\": model_answers,\n",
    "    \"contexts\": retrieved_texts,\n",
    "    \"ground_truth\": queries[\"answer\"].to_list(),\n",
    "}\n",
    "ds = Dataset.from_dict(data)"
   ]
  },
  {
   "cell_type": "code",
   "execution_count": 17,
   "id": "4a5be7b1",
   "metadata": {},
   "outputs": [],
   "source": [
    "metrics = [\n",
    "    faithfulness,\n",
    "    answer_relevancy, # uses Embeddings\n",
    "    context_precision, # uses Embeddings\n",
    "    context_recall, # uses ground_truth dataset (only LLM used as a jugdge)\n",
    "]"
   ]
  },
  {
   "cell_type": "code",
   "execution_count": 18,
   "id": "ddc83845",
   "metadata": {},
   "outputs": [
    {
     "name": "stderr",
     "output_type": "stream",
     "text": [
      "Evaluating:  15%|█▌        | 3/20 [12:52<1:02:42, 221.33s/it]/Users/krimssmirk/Desktop/rag/.venv/lib/python3.11/site-packages/torch/nn/modules/module.py:1520: FutureWarning: `encoder_attention_mask` is deprecated and will be removed in version 4.55.0 for `XLMRobertaSdpaSelfAttention.forward`.\n",
      "  return forward_call(*args, **kwargs)\n",
      "Evaluating:  20%|██        | 4/20 [13:10<37:40, 141.29s/it]  /Users/krimssmirk/Desktop/rag/.venv/lib/python3.11/site-packages/torch/nn/modules/module.py:1520: FutureWarning: `encoder_attention_mask` is deprecated and will be removed in version 4.55.0 for `XLMRobertaSdpaSelfAttention.forward`.\n",
      "  return forward_call(*args, **kwargs)\n",
      "Evaluating:  30%|███       | 6/20 [14:14<18:16, 78.32s/it] /Users/krimssmirk/Desktop/rag/.venv/lib/python3.11/site-packages/torch/nn/modules/module.py:1520: FutureWarning: `encoder_attention_mask` is deprecated and will be removed in version 4.55.0 for `XLMRobertaSdpaSelfAttention.forward`.\n",
      "  return forward_call(*args, **kwargs)\n",
      "Evaluating:  50%|█████     | 10/20 [25:09<26:10, 157.10s/it]/Users/krimssmirk/Desktop/rag/.venv/lib/python3.11/site-packages/torch/nn/modules/module.py:1520: FutureWarning: `encoder_attention_mask` is deprecated and will be removed in version 4.55.0 for `XLMRobertaSdpaSelfAttention.forward`.\n",
      "  return forward_call(*args, **kwargs)\n",
      "Evaluating:  70%|███████   | 14/20 [36:47<19:52, 198.83s/it]Prompt fix_output_format failed to parse output: The output parser failed to parse the output including retries.\n",
      "Prompt fix_output_format failed to parse output: The output parser failed to parse the output including retries.\n",
      "Prompt fix_output_format failed to parse output: The output parser failed to parse the output including retries.\n",
      "Prompt context_recall_classification_prompt failed to parse output: The output parser failed to parse the output including retries.\n",
      "Exception raised in Job[15]: RagasOutputParserException(The output parser failed to parse the output including retries.)\n",
      "Evaluating:  85%|████████▌ | 17/20 [44:39<08:12, 164.12s/it]Prompt fix_output_format failed to parse output: The output parser failed to parse the output including retries.\n",
      "Prompt fix_output_format failed to parse output: The output parser failed to parse the output including retries.\n",
      "Prompt fix_output_format failed to parse output: The output parser failed to parse the output including retries.\n",
      "Prompt context_precision_prompt failed to parse output: The output parser failed to parse the output including retries.\n",
      "Exception raised in Job[14]: RagasOutputParserException(The output parser failed to parse the output including retries.)\n",
      "Evaluating:  95%|█████████▌| 19/20 [47:32<02:00, 120.09s/it]Prompt fix_output_format failed to parse output: The output parser failed to parse the output including retries.\n",
      "Prompt fix_output_format failed to parse output: The output parser failed to parse the output including retries.\n",
      "Prompt fix_output_format failed to parse output: The output parser failed to parse the output including retries.\n",
      "Prompt context_precision_prompt failed to parse output: The output parser failed to parse the output including retries.\n",
      "Exception raised in Job[2]: RagasOutputParserException(The output parser failed to parse the output including retries.)\n",
      "Evaluating: 100%|██████████| 20/20 [48:27<00:00, 145.37s/it]\n"
     ]
    }
   ],
   "source": [
    "# Define a custom timeout, for example, 300 seconds (5 minutes)\n",
    "# Adjust this value based on your hardware and dataset size\n",
    "run_config = RunConfig(timeout=7200)\n",
    "\n",
    "result = evaluate(\n",
    "    ds,\n",
    "    metrics=metrics,\n",
    "    llm=ragas_llm,\n",
    "    embeddings=ragas_embeddings,\n",
    "    run_config=run_config\n",
    ")"
   ]
  },
  {
   "cell_type": "code",
   "execution_count": 20,
   "id": "f415eb32",
   "metadata": {},
   "outputs": [
    {
     "data": {
      "text/plain": [
       "{'faithfulness': 0.7956, 'answer_relevancy': 0.0000, 'context_precision': 1.0000, 'context_recall': 0.8042}"
      ]
     },
     "execution_count": 20,
     "metadata": {},
     "output_type": "execute_result"
    }
   ],
   "source": [
    "result"
   ]
  }
 ],
 "metadata": {
  "kernelspec": {
   "display_name": ".venv",
   "language": "python",
   "name": "python3"
  },
  "language_info": {
   "codemirror_mode": {
    "name": "ipython",
    "version": 3
   },
   "file_extension": ".py",
   "mimetype": "text/x-python",
   "name": "python",
   "nbconvert_exporter": "python",
   "pygments_lexer": "ipython3",
   "version": "3.11.1"
  }
 },
 "nbformat": 4,
 "nbformat_minor": 5
}
