{
 "cells": [
  {
   "cell_type": "markdown",
   "id": "d23bdb0e",
   "metadata": {},
   "source": [
    "# Text Cleaning"
   ]
  },
  {
   "cell_type": "code",
   "execution_count": 78,
   "id": "ebe76fbb",
   "metadata": {},
   "outputs": [
    {
     "data": {
      "text/plain": [
       "\"(1) Passport (Holder's signature required) \\n(2) Photo copy of Passport (Identification page only) April 2025\""
      ]
     },
     "execution_count": 78,
     "metadata": {},
     "output_type": "execute_result"
    }
   ],
   "source": [
    "text = \"\"\"(1) Passport (Holder's signature required) \n",
    "(2) Photo copy of Passport (Identification page only) April 2025\"\"\"\n",
    "text"
   ]
  },
  {
   "cell_type": "markdown",
   "id": "fd7b38ab",
   "metadata": {},
   "source": [
    "- \\d - digits [0-9]\n",
    "- \\n - newline\n",
    "\n",
    "1. lower the letter\n",
    "2. remove (1), (2), ..., (n)\n",
    "3. remove new lines\n",
    "4. remove brackets eg () {} []\n",
    "5. remove urls\n",
    "6. remove unnecessary spacing"
   ]
  },
  {
   "cell_type": "code",
   "execution_count": 79,
   "id": "c8324be2",
   "metadata": {},
   "outputs": [
    {
     "data": {
      "text/plain": [
       "\"passport holder's signature required photo copy of passport identification page only april 2025\""
      ]
     },
     "execution_count": 79,
     "metadata": {},
     "output_type": "execute_result"
    }
   ],
   "source": [
    "import re\n",
    "\n",
    "text = text.lower()\n",
    "text = re.sub(r'\\(\\d+\\)', '', text)\n",
    "text = re.sub(r'\\n', '', text)\n",
    "text = re.sub(r'[()\\[\\]{}]', '', text)\n",
    "text = re.sub(r\"http\\S+|www\\.\\S+\", \"\", text)\n",
    "tokens = re.split(r'\\s+', text.strip()) \n",
    "\" \".join(tokens)"
   ]
  },
  {
   "cell_type": "code",
   "execution_count": 22,
   "id": "1cd83db4",
   "metadata": {},
   "outputs": [
    {
     "data": {
      "text/plain": [
       "['(1)',\n",
       " 'Passport（Holder’s',\n",
       " 'signature',\n",
       " 'required）',\n",
       " '',\n",
       " '(2)',\n",
       " 'Photo',\n",
       " 'copy',\n",
       " 'of',\n",
       " 'Passport（Identification',\n",
       " 'page',\n",
       " 'only）']"
      ]
     },
     "execution_count": 22,
     "metadata": {},
     "output_type": "execute_result"
    }
   ],
   "source": [
    "re.split(r'\\s', text)"
   ]
  },
  {
   "cell_type": "markdown",
   "id": "3906dae4",
   "metadata": {},
   "source": [
    "\n",
    "        1. lower the letter\n",
    "        2. remove (1), (2), ..., (n)\n",
    "        3. remove new lines\n",
    "        4. remove brackets eg () {} []\n",
    "        5. remove urls\n",
    "        6. remove unnecessary spacing\n",
    "\n",
    "        self.str_clean_strategy = \"cleaning_strategy_v1\""
   ]
  },
  {
   "cell_type": "markdown",
   "id": "ccee7ce0",
   "metadata": {},
   "source": []
  }
 ],
 "metadata": {
  "kernelspec": {
   "display_name": ".venv",
   "language": "python",
   "name": "python3"
  },
  "language_info": {
   "codemirror_mode": {
    "name": "ipython",
    "version": 3
   },
   "file_extension": ".py",
   "mimetype": "text/x-python",
   "name": "python",
   "nbconvert_exporter": "python",
   "pygments_lexer": "ipython3",
   "version": "3.11.1"
  }
 },
 "nbformat": 4,
 "nbformat_minor": 5
}
