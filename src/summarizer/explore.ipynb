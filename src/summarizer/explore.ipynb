{
 "cells": [
  {
   "cell_type": "code",
   "execution_count": 2,
   "id": "7c7234bc",
   "metadata": {},
   "outputs": [],
   "source": [
    "from ollama import chat\n",
    "\n",
    "\n",
    "class SummarizerLLM:\n",
    "\n",
    "    def __init__(self, model_name: str):\n",
    "        self.model_name = model_name\n",
    "\n",
    "    def summarize(self, text: str) -> str:\n",
    "        messages = [\n",
    "            {\n",
    "                \"role\": \"system\",\n",
    "                \"content\": (\n",
    "                    \"You are a summarizer. Output ONLY the summary text. \"\n",
    "                    \"No introductions, no phrases like 'Here is the summary'. \"\n",
    "                    \"If you understand, just output the summary without any extra words.\"\n",
    "                ),\n",
    "            },\n",
    "            {\n",
    "                \"role\": \"user\",\n",
    "                \"content\": f\"Summarize the following text:\\n\\n{text}\\n\\nYour output should be just the summarized text, nothing else.\",\n",
    "            },\n",
    "        ]\n",
    "\n",
    "        stream = chat(\n",
    "            self.model_name, messages=messages, stream=True, options={\"temperature\": 0.0}\n",
    "        )\n",
    "\n",
    "        summary = \"\"\n",
    "        for chunk in stream:\n",
    "            summary += chunk.get(\"message\", {}).get(\"content\", \"\")\n",
    "        summary = summary.replace(\n",
    "            \"Sure, here is the summary you requested:\", \"\"\n",
    "        ).strip()\n",
    "        return summary"
   ]
  },
  {
   "cell_type": "code",
   "execution_count": 3,
   "id": "05479e1b",
   "metadata": {},
   "outputs": [],
   "source": [
    "summarizer = SummarizerLLM(model_name=\"gemma:2b\")"
   ]
  },
  {
   "cell_type": "code",
   "execution_count": 5,
   "id": "595607bf",
   "metadata": {},
   "outputs": [],
   "source": [
    "text = \"TOURISM April 2025 A. PURPOSE Visit Japan for tourism. B. Requirements（Details→https://www.ph.emb-japan.go.jp/itprtop_en/11_000001_00896.html） ※ Downloadable from this website (1) Passport（Holder’s signature required） (2) Photo copy of Passport（Identification page only） (3) Application Form ※（A facial Photo (4.5×3.5cm) must be attached.） (4) PSA issued Birth_\""
   ]
  },
  {
   "cell_type": "code",
   "execution_count": 6,
   "id": "e60a9b63",
   "metadata": {},
   "outputs": [
    {
     "data": {
      "text/plain": [
       "'Visit Japan for tourism purposes. Requirements include passport, passport photo, application form, and PSA-issued birth certificate.'"
      ]
     },
     "execution_count": 6,
     "metadata": {},
     "output_type": "execute_result"
    }
   ],
   "source": [
    "summarizer.summarize(text)"
   ]
  }
 ],
 "metadata": {
  "kernelspec": {
   "display_name": ".venv",
   "language": "python",
   "name": "python3"
  },
  "language_info": {
   "codemirror_mode": {
    "name": "ipython",
    "version": 3
   },
   "file_extension": ".py",
   "mimetype": "text/x-python",
   "name": "python",
   "nbconvert_exporter": "python",
   "pygments_lexer": "ipython3",
   "version": "3.11.1"
  }
 },
 "nbformat": 4,
 "nbformat_minor": 5
}
