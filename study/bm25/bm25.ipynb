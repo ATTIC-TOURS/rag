{
 "cells": [
  {
   "cell_type": "markdown",
   "id": "e4dab4d2",
   "metadata": {},
   "source": [
    "# BM25 (Best Matching 25) - Keyword Search"
   ]
  },
  {
   "cell_type": "markdown",
   "id": "0ad10b16",
   "metadata": {},
   "source": [
    "✅ Tip for Testing BM25\n",
    "To test BM25:\n",
    "\n",
    "- Use a tokenizer (simple whitespace or better: regex-based)\n",
    "\n",
    "- Clean/normalize (lowercase, optional stemming/stopword removal)\n",
    "\n",
    "- Rank documents based on BM25 scores given a query"
   ]
  },
  {
   "cell_type": "markdown",
   "id": "7dca402b",
   "metadata": {},
   "source": [
    "$$\n",
    "IDF(q_i) = \\log \\left( \\frac{N - n(q_i) + 0.5}{n(q_i) + 0.5} + 1 \\right)\n",
    "$$\n"
   ]
  },
  {
   "cell_type": "code",
   "execution_count": 60,
   "id": "1574c51a",
   "metadata": {},
   "outputs": [],
   "source": [
    "import math\n",
    "\n",
    "def compute_probabilistic_idf(term, docs):\n",
    "    '''Arguments\n",
    "        term - it should be clean or normalize\n",
    "        docs - it should be clean or normalize and tokonize\n",
    "    '''\n",
    "    doc_count = sum(term in doc for doc in docs)\n",
    "    numerator = len(docs) - doc_count + 0.5\n",
    "    denominator = doc_count + 0.5\n",
    "    log_arg = (numerator / denominator) + 1\n",
    "    return math.log(log_arg)"
   ]
  },
  {
   "cell_type": "markdown",
   "id": "b046fa46",
   "metadata": {},
   "source": [
    "$$\n",
    "\\text{BM25}(q, D) = \\sum_{i=1}^{n} IDF(q_i) \\cdot \\frac{f(q_i, D) \\cdot (k_1 + 1)}{f(q_i, D) + k_1 \\cdot \\left(1 - b + b \\cdot \\frac{|D|}{\\text{avgdl}}\\right)}\n",
    "$$\n"
   ]
  },
  {
   "cell_type": "code",
   "execution_count": 77,
   "id": "1be80278",
   "metadata": {},
   "outputs": [],
   "source": [
    "def compute_tf(term, document):\n",
    "    words = document.split()\n",
    "    term_count = words.count(term)\n",
    "    return term_count / len(words) if words else 0\n",
    "\n",
    "def compute_avgdl(documents):\n",
    "    total_document_length = sum(len(doc.split()) for doc in documents)\n",
    "    return total_document_length / len(documents)\n",
    "\n",
    "def compute_bm25(query, document, documents, k1=1.5, b=0.75):\n",
    "    bm25_score = 0\n",
    "    \n",
    "    doc_len = len(document.split())\n",
    "    avgdl = compute_avgdl(documents)\n",
    "    for term in query.split():\n",
    "        tf = compute_tf(term, document)\n",
    "        idf = compute_probabilistic_idf(term, documents)\n",
    "        numerator = tf * (k1 + 1)\n",
    "        doc_norm = (1 - b) + (b * (doc_len / avgdl))\n",
    "        denominator = tf + (k1 * doc_norm)\n",
    "        score = idf * (numerator / denominator)\n",
    "        bm25_score += score\n",
    "    \n",
    "    return bm25_score\n",
    "        "
   ]
  },
  {
   "cell_type": "markdown",
   "id": "8d8dbafc",
   "metadata": {},
   "source": [
    "## Sample Docs and Queries"
   ]
  },
  {
   "cell_type": "code",
   "execution_count": 62,
   "id": "7c548d02",
   "metadata": {},
   "outputs": [],
   "source": [
    "documents = [\n",
    "    \"Paano mag-apply ng Japan tourist visa sa Pilipinas?\",\n",
    "    \"Ano ang mga requirements sa student visa ng Japan?\",\n",
    "    \"Ilang araw ang processing time ng Japan visa application?\",\n",
    "    \"Saan ang location ng Japan embassy sa Manila?\",\n",
    "    \"Ano ang mga dokumentong kailangan para sa Japan visa?\",\n",
    "    \"Puwede bang mag walk-in sa Japan embassy?\",\n",
    "    \"Paano i-track ang status ng aking visa application?\",\n",
    "    \"Kailangan ba ng show money para sa Japan tourist visa?\",\n",
    "    \"Puwede bang mag-apply ng multiple entry visa papuntang Japan?\",\n",
    "    \"Sino ang pwedeng kontakin para sa tulong sa visa processing?\"\n",
    "]\n",
    "\n",
    "queries = [\n",
    "    \"requirements for Japan visa\",\n",
    "    \"how to apply for tourist visa\",\n",
    "    \"Japan embassy location\",\n",
    "    \"can I track my visa\",\n",
    "    \"do I need show money for Japan\"\n",
    "]\n"
   ]
  },
  {
   "cell_type": "markdown",
   "id": "a2888cbc",
   "metadata": {},
   "source": [
    "## Preprocessing"
   ]
  },
  {
   "cell_type": "code",
   "execution_count": 63,
   "id": "85cfb97b",
   "metadata": {},
   "outputs": [],
   "source": [
    "english_stopwords = [\n",
    "    \"a\", \"an\", \"the\", \"and\", \"or\", \"but\", \"if\", \"while\", \"at\", \"by\", \"for\", \"from\",\n",
    "    \"in\", \"into\", \"on\", \"onto\", \"of\", \"to\", \"with\", \"without\", \"is\", \"am\", \"are\", \n",
    "    \"was\", \"were\", \"be\", \"been\", \"being\", \"do\", \"does\", \"did\", \"doing\", \"have\", \n",
    "    \"has\", \"had\", \"having\", \"will\", \"would\", \"shall\", \"should\", \"can\", \"could\", \n",
    "    \"may\", \"might\", \"must\", \"this\", \"that\", \"these\", \"those\", \"i\", \"you\", \"he\", \n",
    "    \"she\", \"it\", \"we\", \"they\", \"me\", \"him\", \"her\", \"us\", \"them\", \"my\", \"your\", \n",
    "    \"his\", \"her\", \"its\", \"our\", \"their\", \"mine\", \"yours\", \"ours\", \"theirs\"\n",
    "]\n",
    "\n",
    "filipino_stopwords = [\n",
    "    \"ako\", \"ikaw\", \"siya\", \"kami\", \"kayo\", \"sila\", \"ko\", \"mo\", \"niya\", \"namin\", \"ninyo\", \"nila\",\n",
    "    \"ang\", \"ng\", \"sa\", \"mga\", \"kay\", \"para\", \"may\", \"wala\", \"ito\", \"iyan\", \"iyon\", \"dito\", \n",
    "    \"diyan\", \"doon\", \"kaya\", \"pero\", \"at\", \"o\", \"dahil\", \"kung\", \"kapag\", \"habang\", \"bakit\", \n",
    "    \"paano\", \"saan\", \"kailan\", \"lahat\", \"lamang\", \"rin\", \"din\", \"pa\", \"na\", \"nang\", \"ngunit\"\n",
    "]\n"
   ]
  },
  {
   "cell_type": "code",
   "execution_count": 64,
   "id": "5ccd4e6e",
   "metadata": {},
   "outputs": [
    {
     "data": {
      "text/plain": [
       "'hello word'"
      ]
     },
     "execution_count": 64,
     "metadata": {},
     "output_type": "execute_result"
    }
   ],
   "source": [
    "def tokenize(document):\n",
    "    return document.split()\n",
    "\n",
    "def lowercase(document):\n",
    "    return document.lower()\n",
    "\n",
    "def remove_stopwords(document, stopwords=english_stopwords+filipino_stopwords):\n",
    "    candidate_words = [word for word in document.split() if word not in stopwords]\n",
    "    return \" \".join(candidate_words)\n",
    "\n",
    "def preprocess(document):\n",
    "    lowercase_doc = lowercase(document)\n",
    "    return remove_stopwords(lowercase_doc)\n",
    "\n",
    "test_document = \"hello word of and ang mga\"\n",
    "\n",
    "remove_stopwords(test_document)"
   ]
  },
  {
   "cell_type": "markdown",
   "id": "b56ae3df",
   "metadata": {},
   "source": [
    "## Probabilistic IDF"
   ]
  },
  {
   "cell_type": "code",
   "execution_count": 65,
   "id": "808b27e1",
   "metadata": {},
   "outputs": [
    {
     "name": "stdout",
     "output_type": "stream",
     "text": [
      "query: requirements for Japan visa\n",
      "clean_query: requirements japan visa\n"
     ]
    },
    {
     "data": {
      "text/plain": [
       "1.992430164690206"
      ]
     },
     "execution_count": 65,
     "metadata": {},
     "output_type": "execute_result"
    }
   ],
   "source": [
    "clean_docs = [lowercase(doc) for doc in documents]\n",
    "preprocessed_docs = [tokenize(doc) for doc in clean_docs]\n",
    "preprocessed_docs\n",
    "\n",
    "query = queries[0]\n",
    "clean_query = remove_stopwords(lowercase(query))\n",
    "preprocessed_query = tokenize(clean_query)\n",
    "query_i = preprocessed_query[0]\n",
    "\n",
    "print(f'query: {query}')\n",
    "print(f'clean_query: {clean_query}')\n",
    "compute_probabilistic_idf(query_i, preprocessed_docs) # Computes how much Rare the Word is"
   ]
  },
  {
   "cell_type": "markdown",
   "id": "5c8c9c56",
   "metadata": {},
   "source": [
    "### Extract Top IDF Words Only"
   ]
  },
  {
   "cell_type": "code",
   "execution_count": 66,
   "id": "9e836dd6",
   "metadata": {},
   "outputs": [
    {
     "name": "stdout",
     "output_type": "stream",
     "text": [
      "aking: IDF = 2.70\n",
      "araw: IDF = 2.70\n",
      "ba: IDF = 2.70\n",
      "dokumentong: IDF = 2.70\n",
      "entry: IDF = 2.70\n",
      "ilang: IDF = 2.70\n",
      "in: IDF = 2.70\n",
      "kontakin: IDF = 2.70\n",
      "location: IDF = 2.70\n",
      "manila: IDF = 2.70\n"
     ]
    }
   ],
   "source": [
    "from sklearn.feature_extraction.text import TfidfVectorizer\n",
    "\n",
    "processed_docs = [remove_stopwords(doc) for doc in documents]\n",
    "\n",
    "# Use only IDF (ignore TF by using binary=True)\n",
    "vectorizer = TfidfVectorizer(binary=True, use_idf=True, norm=None)\n",
    "vectorizer.fit(documents)\n",
    "\n",
    "idf_scores = dict(zip(vectorizer.get_feature_names_out(), vectorizer.idf_))\n",
    "sorted_idf = sorted(idf_scores.items(), key=lambda x: x[1], reverse=True)\n",
    "\n",
    "# Show top informative terms (rare terms)\n",
    "for word, idf in sorted_idf[:10]:\n",
    "    print(f\"{word}: IDF = {idf:.2f}\")\n"
   ]
  },
  {
   "cell_type": "markdown",
   "id": "de8a3aab",
   "metadata": {},
   "source": [
    "## BM25 Simulation"
   ]
  },
  {
   "cell_type": "code",
   "execution_count": 78,
   "id": "b09dab77",
   "metadata": {},
   "outputs": [
    {
     "name": "stdout",
     "output_type": "stream",
     "text": [
      "['how apply japan visa', 'visa requirements filipino tourists', 'japan embassy location hours', 'how long visa processing take', 'track visa application']\n",
      "['requirements japan visa', 'how apply tourist visa', 'japan embassy location', 'track visa', 'need show money japan']\n",
      "requirements japan visa\n",
      "Doc 1: BM25 score = 0.4154\n",
      "Doc 2: BM25 score = 0.5978\n",
      "Doc 3: BM25 score = 0.3127\n",
      "Doc 4: BM25 score = 0.0726\n",
      "Doc 5: BM25 score = 0.1545\n"
     ]
    }
   ],
   "source": [
    "preprocessed_docs = [preprocess(document) for document in documents]\n",
    "print(preprocessed_docs)\n",
    "preprocessed_queries = [preprocess(query) for query in queries]\n",
    "print(preprocessed_queries)\n",
    "\n",
    "query = preprocessed_queries[0]\n",
    "print(query)\n",
    "\n",
    "for idx, doc in enumerate(preprocessed_docs):\n",
    "    score = compute_bm25(query, doc, preprocessed_docs)\n",
    "    print(f\"Doc {idx+1}: BM25 score = {score:.4f}\")"
   ]
  },
  {
   "cell_type": "markdown",
   "id": "2e5eb044",
   "metadata": {},
   "source": [
    "# Getting Top 3 Documents Simulation using BM25"
   ]
  },
  {
   "cell_type": "code",
   "execution_count": 81,
   "id": "981ba35f",
   "metadata": {},
   "outputs": [],
   "source": [
    "def get_top3_docs(query, documents):\n",
    "    preprocessed_docs = [preprocess(document) for document in documents]\n",
    "    preprocessed_query = preprocess(query)\n",
    "\n",
    "    scores = []\n",
    "    for idx, doc in enumerate(preprocessed_docs):\n",
    "        score = compute_bm25(preprocessed_query, doc, documents)\n",
    "        scores.append((idx, score))\n",
    "\n",
    "    sorted_scores = sorted(scores, key=lambda x: x[1], reverse=True)\n",
    "    top3_docs = [\n",
    "        documents[sorted_scores[0][0]],\n",
    "        documents[sorted_scores[1][0]],\n",
    "        documents[sorted_scores[2][0]],\n",
    "    ]\n",
    "    return top3_docs"
   ]
  },
  {
   "cell_type": "code",
   "execution_count": 83,
   "id": "e29d7206",
   "metadata": {},
   "outputs": [
    {
     "data": {
      "text/plain": [
       "['visa requirements for filipino tourists',\n",
       " 'how to apply for japan visa',\n",
       " 'japan embassy location and hours']"
      ]
     },
     "execution_count": 83,
     "metadata": {},
     "output_type": "execute_result"
    }
   ],
   "source": [
    "query = \"requirements\"\n",
    "\n",
    "get_top3_docs(query, documents)"
   ]
  },
  {
   "cell_type": "markdown",
   "id": "26a7eddc",
   "metadata": {},
   "source": []
  }
 ],
 "metadata": {
  "kernelspec": {
   "display_name": ".venv",
   "language": "python",
   "name": "python3"
  },
  "language_info": {
   "codemirror_mode": {
    "name": "ipython",
    "version": 3
   },
   "file_extension": ".py",
   "mimetype": "text/x-python",
   "name": "python",
   "nbconvert_exporter": "python",
   "pygments_lexer": "ipython3",
   "version": "3.11.1"
  }
 },
 "nbformat": 4,
 "nbformat_minor": 5
}
