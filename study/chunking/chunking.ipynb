{
 "cells": [
  {
   "cell_type": "markdown",
   "id": "fc5db4e0",
   "metadata": {},
   "source": [
    "# Chunking"
   ]
  },
  {
   "cell_type": "markdown",
   "id": "8e91af5f",
   "metadata": {},
   "source": [
    "## Section-Based Level Chunking"
   ]
  },
  {
   "cell_type": "code",
   "execution_count": 12,
   "id": "58683eb1",
   "metadata": {},
   "outputs": [],
   "source": [
    "text = \"Line1\\nLine2\\rLine3\\r\\nLine4\"\n",
    "\n",
    "text = text.replace(\"\\r\\n\", \"\\n\").replace(\"\\r\", \"\\n\") # cleaning\n",
    "lines = [line.strip() for line in text.split(\"\\n\") if line.strip()]"
   ]
  },
  {
   "cell_type": "code",
   "execution_count": 13,
   "id": "3584ef6d",
   "metadata": {},
   "outputs": [
    {
     "data": {
      "text/plain": [
       "'Line1\\nLine2\\nLine3\\nLine4'"
      ]
     },
     "execution_count": 13,
     "metadata": {},
     "output_type": "execute_result"
    }
   ],
   "source": [
    "text"
   ]
  },
  {
   "cell_type": "code",
   "execution_count": 14,
   "id": "7fc66efe",
   "metadata": {},
   "outputs": [
    {
     "data": {
      "text/plain": [
       "['Line1', 'Line2', 'Line3', 'Line4']"
      ]
     },
     "execution_count": 14,
     "metadata": {},
     "output_type": "execute_result"
    }
   ],
   "source": [
    "lines"
   ]
  },
  {
   "cell_type": "code",
   "execution_count": 15,
   "id": "6505b71d",
   "metadata": {},
   "outputs": [],
   "source": [
    "import re\n",
    "import pymupdf\n",
    "import os\n",
    "import json\n",
    "\n",
    "pdf_dir = \"data/raw_pdfs\"\n",
    "output_file = \"pdf_chunks.json\"\n",
    "\n",
    "def section_based_chunking(text, max_items=10):\n",
    "    \"\"\"\n",
    "    Groups related lines into bigger chunks (max_items = how many requirement items to group).\n",
    "    \"\"\"\n",
    "    text = text.replace(\"\\r\\n\", \"\\n\").replace(\"\\r\", \"\\n\") # cleaning\n",
    "    lines = [line.strip() for line in text.split(\"\\n\") if line.strip()]\n",
    "    \n",
    "    chunks = []\n",
    "    current_chunk = \"\"\n",
    "    item_count = 0\n",
    "    \n",
    "    for line in lines:\n",
    "        # Start of major heading (A. PURPOSE, B. REQUIREMENTS)\n",
    "        if re.match(r\"^[A-Z]\\.\\s\", line):\n",
    "            if current_chunk:\n",
    "                chunks.append(current_chunk.strip())\n",
    "                current_chunk = \"\"\n",
    "                item_count = 0\n",
    "            current_chunk = line\n",
    "        \n",
    "        # Numbered item (1), (2), (3)\n",
    "        elif re.match(r\"^\\(\\d+\\)\", line):\n",
    "            if item_count >= max_items:\n",
    "                chunks.append(current_chunk.strip())\n",
    "                current_chunk = \"\"\n",
    "                item_count = 0\n",
    "            \n",
    "            current_chunk += \"\\n\" + line\n",
    "            item_count += 1\n",
    "        \n",
    "        # Special headings 【ADDITIONAL REQUIREMENTS】\n",
    "        elif line.startswith(\"【\") and line.endswith(\"】\"):\n",
    "            if current_chunk:\n",
    "                chunks.append(current_chunk.strip())\n",
    "                current_chunk = \"\"\n",
    "                item_count = 0\n",
    "            current_chunk = line\n",
    "        \n",
    "        else:\n",
    "            # Add bullets, sub-text, or anything else\n",
    "            current_chunk += \"\\n\" + line\n",
    "    \n",
    "    if current_chunk:\n",
    "        chunks.append(current_chunk.strip())\n",
    "    \n",
    "    return chunks\n",
    "\n",
    "\n",
    "\n"
   ]
  },
  {
   "cell_type": "code",
   "execution_count": 16,
   "id": "cde8f52e",
   "metadata": {},
   "outputs": [
    {
     "name": "stdout",
     "output_type": "stream",
     "text": [
      "📄 Processing: tourism.pdf\n",
      "✅ Created 6 section-based chunks → saved to pdf_chunks.json\n"
     ]
    }
   ],
   "source": [
    "data = []\n",
    "\n",
    "# Loop through PDFs\n",
    "for pdf_file in os.listdir(pdf_dir):\n",
    "    if pdf_file.endswith(\".pdf\"):\n",
    "        pdf_path = os.path.join(pdf_dir, pdf_file)\n",
    "        print(f\"📄 Processing: {pdf_file}\")\n",
    "        \n",
    "        with pymupdf.open(pdf_path) as doc:\n",
    "            title = doc.metadata.get(\"title\", \"\")\n",
    "            \n",
    "            text = \"\"\n",
    "            for page in doc:\n",
    "                text += page.get_text(\"text\") + \"\\n\"\n",
    "            \n",
    "            if not title and text.strip():\n",
    "                title = text.split(\"\\n\")[0]\n",
    "            \n",
    "            # Chunk with wider grouping\n",
    "            chunks = section_based_chunking(text, max_items=10)\n",
    "            \n",
    "            for idx, chunk in enumerate(chunks):\n",
    "                data.append({\n",
    "                    \"file_name\": pdf_file,\n",
    "                    \"title\": title.strip(),\n",
    "                    \"chunk_id\": f\"{pdf_file}_chunk_{idx}\",\n",
    "                    \"content\": chunk\n",
    "                })\n",
    "\n",
    "# Save JSON\n",
    "with open(output_file, \"w\", encoding=\"utf-8\") as f:\n",
    "    json.dump(data, f, indent=2, ensure_ascii=False)\n",
    "\n",
    "print(f\"✅ Created {len(data)} section-based chunks → saved to {output_file}\")"
   ]
  },
  {
   "cell_type": "code",
   "execution_count": null,
   "id": "bd502101",
   "metadata": {},
   "outputs": [],
   "source": []
  }
 ],
 "metadata": {
  "kernelspec": {
   "display_name": ".venv",
   "language": "python",
   "name": "python3"
  },
  "language_info": {
   "codemirror_mode": {
    "name": "ipython",
    "version": 3
   },
   "file_extension": ".py",
   "mimetype": "text/x-python",
   "name": "python",
   "nbconvert_exporter": "python",
   "pygments_lexer": "ipython3",
   "version": "3.11.1"
  }
 },
 "nbformat": 4,
 "nbformat_minor": 5
}
