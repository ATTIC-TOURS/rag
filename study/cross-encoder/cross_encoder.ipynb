{
 "cells": [
  {
   "cell_type": "code",
   "execution_count": 1,
   "id": "0819d639",
   "metadata": {},
   "outputs": [
    {
     "name": "stderr",
     "output_type": "stream",
     "text": [
      "/Users/krimssmirk/Desktop/rag/.venv/lib/python3.11/site-packages/tqdm/auto.py:21: TqdmWarning: IProgress not found. Please update jupyter and ipywidgets. See https://ipywidgets.readthedocs.io/en/stable/user_install.html\n",
      "  from .autonotebook import tqdm as notebook_tqdm\n",
      "/Users/krimssmirk/Desktop/rag/.venv/lib/python3.11/site-packages/torch/nn/modules/module.py:1520: FutureWarning: `encoder_attention_mask` is deprecated and will be removed in version 4.55.0 for `BertSdpaSelfAttention.forward`.\n",
      "  return forward_call(*args, **kwargs)\n"
     ]
    }
   ],
   "source": [
    "from sentence_transformers.cross_encoder import CrossEncoder\n",
    "\n",
    "model = CrossEncoder(\"cross-encoder/ms-marco-MiniLM-L6-v2\")\n",
    "scores = model.predict([[\"My first\", \"sentence pair\"], [\"Second text\", \"pair\"]])"
   ]
  },
  {
   "cell_type": "code",
   "execution_count": 2,
   "id": "17e09885",
   "metadata": {},
   "outputs": [
    {
     "data": {
      "text/plain": [
       "array([-11.01487 , -10.854008], dtype=float32)"
      ]
     },
     "execution_count": 2,
     "metadata": {},
     "output_type": "execute_result"
    }
   ],
   "source": [
    "scores"
   ]
  },
  {
   "cell_type": "code",
   "execution_count": 6,
   "id": "23cfe48b",
   "metadata": {},
   "outputs": [],
   "source": [
    "query = \"ano ang mga requirements para sa tourist japan?\""
   ]
  },
  {
   "cell_type": "code",
   "execution_count": 11,
   "id": "c1071fe3",
   "metadata": {},
   "outputs": [],
   "source": [
    "document = \"kailangan mo ng passport para sa tourist japan\""
   ]
  },
  {
   "cell_type": "code",
   "execution_count": 12,
   "id": "50526b68",
   "metadata": {},
   "outputs": [
    {
     "data": {
      "text/plain": [
       "array([  1.0774873, -10.854008 ], dtype=float32)"
      ]
     },
     "execution_count": 12,
     "metadata": {},
     "output_type": "execute_result"
    }
   ],
   "source": [
    "model.predict([[query, document], [\"Second text\", \"pair\"]])"
   ]
  },
  {
   "cell_type": "code",
   "execution_count": 14,
   "id": "3f941a5a",
   "metadata": {},
   "outputs": [],
   "source": [
    "multiling_model = CrossEncoder(\"cross-encoder/mmarco-mMiniLMv2-L12-H384-v1\")"
   ]
  },
  {
   "cell_type": "code",
   "execution_count": 15,
   "id": "6f173568",
   "metadata": {},
   "outputs": [
    {
     "name": "stderr",
     "output_type": "stream",
     "text": [
      "/Users/krimssmirk/Desktop/rag/.venv/lib/python3.11/site-packages/torch/nn/modules/module.py:1520: FutureWarning: `encoder_attention_mask` is deprecated and will be removed in version 4.55.0 for `XLMRobertaSdpaSelfAttention.forward`.\n",
      "  return forward_call(*args, **kwargs)\n"
     ]
    },
    {
     "data": {
      "text/plain": [
       "array([ 2.691606 , -3.1197565], dtype=float32)"
      ]
     },
     "execution_count": 15,
     "metadata": {},
     "output_type": "execute_result"
    }
   ],
   "source": [
    "multiling_model.predict([[query, document], [\"Second text\", \"pair\"]])"
   ]
  },
  {
   "cell_type": "code",
   "execution_count": 34,
   "id": "d2939210",
   "metadata": {},
   "outputs": [],
   "source": [
    "initial_retrieved_docs = [\n",
    "    {\n",
    "        \"file_name\": \"tourist.pdf\",\n",
    "        \"title\": \"tourist\",\n",
    "        \"content\": \"kailangan ng original passport sa tourist\",\n",
    "        \"chunk_id\": \"tourist_chunk001\",\n",
    "    },\n",
    "    {\n",
    "        \"file_name\": \"tourist.pdf\",\n",
    "        \"title\": \"tourist\",\n",
    "        \"content\": \"kailangan ng original passport\",\n",
    "        \"chunk_id\": \"tourist_chunk001\",\n",
    "    },\n",
    "]"
   ]
  },
  {
   "cell_type": "code",
   "execution_count": 36,
   "id": "512ba613",
   "metadata": {},
   "outputs": [
    {
     "data": {
      "text/plain": [
       "[['ano ang mga requirements para sa tourist japan?',\n",
       "  'kailangan ng original passport sa tourist'],\n",
       " ['ano ang mga requirements para sa tourist japan?',\n",
       "  'kailangan ng original passport']]"
      ]
     },
     "execution_count": 36,
     "metadata": {},
     "output_type": "execute_result"
    }
   ],
   "source": [
    "query_doc_pairs = [[query, doc[\"content\"]] for doc in initial_retrieved_docs]\n",
    "query_doc_pairs"
   ]
  },
  {
   "cell_type": "code",
   "execution_count": 37,
   "id": "865d1998",
   "metadata": {},
   "outputs": [],
   "source": [
    "scores = multiling_model.predict(query_doc_pairs)"
   ]
  },
  {
   "cell_type": "code",
   "execution_count": 38,
   "id": "0f9215f1",
   "metadata": {},
   "outputs": [],
   "source": [
    "results = sorted(zip(initial_retrieved_docs, scores), key=lambda x: x[1], reverse=True)"
   ]
  },
  {
   "cell_type": "code",
   "execution_count": 40,
   "id": "671a0c5c",
   "metadata": {},
   "outputs": [
    {
     "data": {
      "text/plain": [
       "[({'file_name': 'tourist.pdf',\n",
       "   'title': 'tourist',\n",
       "   'content': 'kailangan ng original passport sa tourist',\n",
       "   'chunk_id': 'tourist_chunk001'},\n",
       "  -2.6565661),\n",
       " ({'file_name': 'tourist.pdf',\n",
       "   'title': 'tourist',\n",
       "   'content': 'kailangan ng original passport',\n",
       "   'chunk_id': 'tourist_chunk001'},\n",
       "  -3.7264664)]"
      ]
     },
     "execution_count": 40,
     "metadata": {},
     "output_type": "execute_result"
    }
   ],
   "source": [
    "results"
   ]
  },
  {
   "cell_type": "code",
   "execution_count": 39,
   "id": "f6aa9b33",
   "metadata": {},
   "outputs": [
    {
     "name": "stdout",
     "output_type": "stream",
     "text": [
      "({'file_name': 'tourist.pdf', 'title': 'tourist', 'content': 'kailangan ng original passport sa tourist', 'chunk_id': 'tourist_chunk001'}, -2.6565661)\n",
      "({'file_name': 'tourist.pdf', 'title': 'tourist', 'content': 'kailangan ng original passport', 'chunk_id': 'tourist_chunk001'}, -3.7264664)\n"
     ]
    }
   ],
   "source": [
    "for result in results:\n",
    "    print(result)"
   ]
  }
 ],
 "metadata": {
  "kernelspec": {
   "display_name": ".venv",
   "language": "python",
   "name": "python3"
  },
  "language_info": {
   "codemirror_mode": {
    "name": "ipython",
    "version": 3
   },
   "file_extension": ".py",
   "mimetype": "text/x-python",
   "name": "python",
   "nbconvert_exporter": "python",
   "pygments_lexer": "ipython3",
   "version": "3.11.1"
  }
 },
 "nbformat": 4,
 "nbformat_minor": 5
}
