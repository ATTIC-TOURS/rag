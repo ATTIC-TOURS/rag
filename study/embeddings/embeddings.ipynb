{
 "cells": [
  {
   "cell_type": "markdown",
   "id": "d5877590",
   "metadata": {},
   "source": [
    "# Embeddings\n",
    "\n",
    "Embeddings models are neural-based representations of text where words, phrases, or entire documents are mapped into dense vector spaces. These vectors capture semantic meaning, so similar meanings have similar vector representations.\n",
    "\n",
    "✅ RAG-based chatbot and intent classification, Hugging Face helps with:\n",
    "\n",
    "- Access to powerful pretrained embedding models\n",
    "- Easy use of custom fine-tuned LLMs\n",
    "- Building retrievers and rerankers\n",
    "- Hosting your own model or dataset\n",
    "\n",
    "🧠 What Are Embeddings?\n",
    "Embeddings are vector representations of text. They capture meaning so that similar texts have similar vectors, making them great for:\n",
    "\n",
    "- Search (RAG)\n",
    "\n",
    "- Intent classification\n",
    "\n",
    "- Clustering\n",
    "\n",
    "- Semantic matching"
   ]
  },
  {
   "cell_type": "code",
   "execution_count": 1,
   "id": "02d78857",
   "metadata": {},
   "outputs": [
    {
     "name": "stderr",
     "output_type": "stream",
     "text": [
      "/Users/krimssmirk/Desktop/rag/.venv/lib/python3.11/site-packages/tqdm/auto.py:21: TqdmWarning: IProgress not found. Please update jupyter and ipywidgets. See https://ipywidgets.readthedocs.io/en/stable/user_install.html\n",
      "  from .autonotebook import tqdm as notebook_tqdm\n"
     ]
    }
   ],
   "source": [
    "from sentence_transformers import SentenceTransformer\n",
    "\n",
    "# Load a multilingual embedding model from HuggingFace Model Hub\n",
    "model = SentenceTransformer(\"intfloat/multilingual-e5-base\")"
   ]
  },
  {
   "cell_type": "code",
   "execution_count": 2,
   "id": "41074d50",
   "metadata": {},
   "outputs": [
    {
     "name": "stderr",
     "output_type": "stream",
     "text": [
      "/Users/krimssmirk/Desktop/rag/.venv/lib/python3.11/site-packages/torch/nn/modules/module.py:1520: FutureWarning: `encoder_attention_mask` is deprecated and will be removed in version 4.55.0 for `XLMRobertaSdpaSelfAttention.forward`.\n",
      "  return forward_call(*args, **kwargs)\n"
     ]
    },
    {
     "name": "stdout",
     "output_type": "stream",
     "text": [
      "(768,)\n"
     ]
    }
   ],
   "source": [
    "# Encode a sentence into an embedding vector\n",
    "embedding = model.encode(\"Japan visa requirements for Filipino travelers\")\n",
    "print(embedding.shape)  # Typically (768,) or (384,) depending on model"
   ]
  },
  {
   "cell_type": "code",
   "execution_count": 5,
   "id": "eebb2748",
   "metadata": {},
   "outputs": [
    {
     "data": {
      "text/plain": [
       "512"
      ]
     },
     "execution_count": 5,
     "metadata": {},
     "output_type": "execute_result"
    }
   ],
   "source": [
    "model.get_max_seq_length()"
   ]
  },
  {
   "cell_type": "code",
   "execution_count": 3,
   "id": "14072ff1",
   "metadata": {},
   "outputs": [
    {
     "name": "stdout",
     "output_type": "stream",
     "text": [
      "[[0.8928432 0.8220366 0.8586167]]\n"
     ]
    }
   ],
   "source": [
    "from sklearn.metrics.pairwise import cosine_similarity\n",
    "\n",
    "query = model.encode(\"How to apply for visa?\")\n",
    "documents = model.encode([\"Japan visa application\", \"Flight booking info\", \"Visa denied reason\"])\n",
    "\n",
    "scores = cosine_similarity([query], documents)\n",
    "print(scores)  # Which one is most similar"
   ]
  }
 ],
 "metadata": {
  "kernelspec": {
   "display_name": ".venv",
   "language": "python",
   "name": "python3"
  },
  "language_info": {
   "codemirror_mode": {
    "name": "ipython",
    "version": 3
   },
   "file_extension": ".py",
   "mimetype": "text/x-python",
   "name": "python",
   "nbconvert_exporter": "python",
   "pygments_lexer": "ipython3",
   "version": "3.11.1"
  }
 },
 "nbformat": 4,
 "nbformat_minor": 5
}
