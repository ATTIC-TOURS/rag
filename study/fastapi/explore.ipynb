{
 "cells": [
  {
   "cell_type": "code",
   "execution_count": null,
   "id": "abad4394",
   "metadata": {},
   "outputs": [],
   "source": [
    "def get_full_name(first_name: str, last_name: str) -> str:\n",
    "    full_name = first_name.title() + \" \" + last_name.title()\n",
    "    return full_name\n",
    "\n",
    "\n",
    "print(get_full_name(\"john\", \"doe\"))"
   ]
  },
  {
   "cell_type": "code",
   "execution_count": 1,
   "id": "aa4e8fcd",
   "metadata": {},
   "outputs": [
    {
     "name": "stdout",
     "output_type": "stream",
     "text": [
      "john is this old: 12\n"
     ]
    }
   ],
   "source": [
    "def get_name_with_age(name: str, age: int):\n",
    "    name_with_age = name + \" is this old: \" + str(age)\n",
    "    return name_with_age\n",
    "\n",
    "\n",
    "print(get_name_with_age(\"john\", 12))"
   ]
  },
  {
   "cell_type": "code",
   "execution_count": 5,
   "id": "d0cdc342",
   "metadata": {},
   "outputs": [
    {
     "name": "stdout",
     "output_type": "stream",
     "text": [
      "Hey john!\n",
      "None\n"
     ]
    }
   ],
   "source": [
    "from typing import Optional\n",
    "\n",
    "\n",
    "def say_hi(name: Optional[str]):\n",
    "    print(f\"Hey {name}!\")\n",
    "\n",
    "print(say_hi(\"john\"))"
   ]
  },
  {
   "cell_type": "code",
   "execution_count": 6,
   "id": "0131dace",
   "metadata": {},
   "outputs": [
    {
     "data": {
      "text/plain": [
       "'kenji'"
      ]
     },
     "execution_count": 6,
     "metadata": {},
     "output_type": "execute_result"
    }
   ],
   "source": [
    "class Person:\n",
    "    def __init__(self, name: str):\n",
    "        self.name = name\n",
    "\n",
    "\n",
    "def get_person_name(one_person: Person):\n",
    "    return one_person.name\n",
    "\n",
    "get_person_name(Person(name=\"kenji\"))"
   ]
  },
  {
   "cell_type": "code",
   "execution_count": 11,
   "id": "4397fc60",
   "metadata": {},
   "outputs": [
    {
     "name": "stdout",
     "output_type": "stream",
     "text": [
      "id=1 name='John Doe' signup_ts=datetime.datetime(2017, 6, 1, 12, 22) friends=[1, 2, 3]\n",
      "1\n"
     ]
    }
   ],
   "source": [
    "from datetime import datetime\n",
    "\n",
    "from pydantic import BaseModel\n",
    "\n",
    "\n",
    "class User(BaseModel):\n",
    "    id: int\n",
    "    name: str = \"John Doe\"\n",
    "    signup_ts: datetime | None = None\n",
    "    friends: list[int] = []\n",
    "\n",
    "\n",
    "external_data = {\n",
    "    \"id\": \"1\",\n",
    "    \"signup_ts\": \"2017-06-01 12:22\",\n",
    "    \"friends\": [1, \"2\", b\"3\"],\n",
    "}\n",
    "user = User(**external_data)\n",
    "print(user)\n",
    "# > User id=123 name='John Doe' signup_ts=datetime.datetime(2017, 6, 1, 12, 22) friends=[1, 2, 3]\n",
    "print(user.id)\n",
    "# > 123"
   ]
  },
  {
   "cell_type": "code",
   "execution_count": 14,
   "id": "5629fded",
   "metadata": {},
   "outputs": [
    {
     "data": {
      "text/plain": [
       "'Hello h'"
      ]
     },
     "execution_count": 14,
     "metadata": {},
     "output_type": "execute_result"
    }
   ],
   "source": [
    "from typing import Annotated\n",
    "\n",
    "\n",
    "def say_hello(name: Annotated[str, \"this is just metadata\"]) -> str:\n",
    "    return f\"Hello {name}\"\n",
    "\n",
    "say_hello('h')"
   ]
  },
  {
   "cell_type": "code",
   "execution_count": 17,
   "id": "69e455a4",
   "metadata": {},
   "outputs": [
    {
     "data": {
      "text/plain": [
       "'kenji'"
      ]
     },
     "execution_count": 17,
     "metadata": {},
     "output_type": "execute_result"
    }
   ],
   "source": [
    "import os\n",
    "from dotenv import load_dotenv\n",
    "\n",
    "load_dotenv()\n",
    "\n",
    "\n",
    "os.getenv('NAME')"
   ]
  }
 ],
 "metadata": {
  "kernelspec": {
   "display_name": ".venv",
   "language": "python",
   "name": "python3"
  },
  "language_info": {
   "codemirror_mode": {
    "name": "ipython",
    "version": 3
   },
   "file_extension": ".py",
   "mimetype": "text/x-python",
   "name": "python",
   "nbconvert_exporter": "python",
   "pygments_lexer": "ipython3",
   "version": "3.11.1"
  }
 },
 "nbformat": 4,
 "nbformat_minor": 5
}
