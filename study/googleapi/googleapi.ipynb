{
 "cells": [
  {
   "cell_type": "code",
   "execution_count": 1,
   "id": "4dab2324",
   "metadata": {},
   "outputs": [],
   "source": [
    "from llama_index.core import VectorStoreIndex, SimpleDirectoryReader"
   ]
  },
  {
   "cell_type": "code",
   "execution_count": 2,
   "id": "0e08a9fb",
   "metadata": {},
   "outputs": [
    {
     "name": "stderr",
     "output_type": "stream",
     "text": [
      "/Users/krimssmirk/.pyenv/versions/rag310/lib/python3.10/site-packages/tqdm/auto.py:21: TqdmWarning: IProgress not found. Please update jupyter and ipywidgets. See https://ipywidgets.readthedocs.io/en/stable/user_install.html\n",
      "  from .autonotebook import tqdm as notebook_tqdm\n"
     ]
    },
    {
     "ename": "ValueError",
     "evalue": "\n******\nCould not load OpenAI embedding model. If you intended to use OpenAI, please check your OPENAI_API_KEY.\nOriginal error:\nNo API key found for OpenAI.\nPlease set either the OPENAI_API_KEY environment variable or openai.api_key prior to initialization.\nAPI keys can be found or created at https://platform.openai.com/account/api-keys\n\nConsider using embed_model='local'.\nVisit our documentation for more embedding options: https://docs.llamaindex.ai/en/stable/module_guides/models/embeddings.html#modules\n******",
     "output_type": "error",
     "traceback": [
      "\u001b[0;31m---------------------------------------------------------------------------\u001b[0m",
      "\u001b[0;31mValueError\u001b[0m                                Traceback (most recent call last)",
      "File \u001b[0;32m~/.pyenv/versions/rag310/lib/python3.10/site-packages/llama_index/core/embeddings/utils.py:59\u001b[0m, in \u001b[0;36mresolve_embed_model\u001b[0;34m(embed_model, callback_manager)\u001b[0m\n\u001b[1;32m     58\u001b[0m     embed_model \u001b[38;5;241m=\u001b[39m OpenAIEmbedding()\n\u001b[0;32m---> 59\u001b[0m     \u001b[43mvalidate_openai_api_key\u001b[49m\u001b[43m(\u001b[49m\u001b[43membed_model\u001b[49m\u001b[38;5;241;43m.\u001b[39;49m\u001b[43mapi_key\u001b[49m\u001b[43m)\u001b[49m  \u001b[38;5;66;03m# type: ignore\u001b[39;00m\n\u001b[1;32m     60\u001b[0m \u001b[38;5;28;01mexcept\u001b[39;00m \u001b[38;5;167;01mImportError\u001b[39;00m:\n",
      "File \u001b[0;32m~/.pyenv/versions/rag310/lib/python3.10/site-packages/llama_index/embeddings/openai/utils.py:104\u001b[0m, in \u001b[0;36mvalidate_openai_api_key\u001b[0;34m(api_key)\u001b[0m\n\u001b[1;32m    103\u001b[0m \u001b[38;5;28;01mif\u001b[39;00m \u001b[38;5;129;01mnot\u001b[39;00m openai_api_key:\n\u001b[0;32m--> 104\u001b[0m     \u001b[38;5;28;01mraise\u001b[39;00m \u001b[38;5;167;01mValueError\u001b[39;00m(MISSING_API_KEY_ERROR_MESSAGE)\n",
      "\u001b[0;31mValueError\u001b[0m: No API key found for OpenAI.\nPlease set either the OPENAI_API_KEY environment variable or openai.api_key prior to initialization.\nAPI keys can be found or created at https://platform.openai.com/account/api-keys\n",
      "\nDuring handling of the above exception, another exception occurred:\n",
      "\u001b[0;31mValueError\u001b[0m                                Traceback (most recent call last)",
      "Cell \u001b[0;32mIn[2], line 2\u001b[0m\n\u001b[1;32m      1\u001b[0m documents \u001b[38;5;241m=\u001b[39m SimpleDirectoryReader(\u001b[38;5;124m\"\u001b[39m\u001b[38;5;124mdata\u001b[39m\u001b[38;5;124m\"\u001b[39m)\u001b[38;5;241m.\u001b[39mload_data()\n\u001b[0;32m----> 2\u001b[0m index \u001b[38;5;241m=\u001b[39m \u001b[43mVectorStoreIndex\u001b[49m\u001b[38;5;241;43m.\u001b[39;49m\u001b[43mfrom_documents\u001b[49m\u001b[43m(\u001b[49m\u001b[43mdocuments\u001b[49m\u001b[43m)\u001b[49m\n\u001b[1;32m      3\u001b[0m query_engine \u001b[38;5;241m=\u001b[39m index\u001b[38;5;241m.\u001b[39mas_query_engine()\n\u001b[1;32m      4\u001b[0m response \u001b[38;5;241m=\u001b[39m query_engine\u001b[38;5;241m.\u001b[39mquery(\u001b[38;5;124m\"\u001b[39m\u001b[38;5;124mwhat are in the introduction part?\u001b[39m\u001b[38;5;124m\"\u001b[39m)\n",
      "File \u001b[0;32m~/.pyenv/versions/rag310/lib/python3.10/site-packages/llama_index/core/indices/base.py:122\u001b[0m, in \u001b[0;36mBaseIndex.from_documents\u001b[0;34m(cls, documents, storage_context, show_progress, callback_manager, transformations, **kwargs)\u001b[0m\n\u001b[1;32m    113\u001b[0m     docstore\u001b[38;5;241m.\u001b[39mset_document_hash(doc\u001b[38;5;241m.\u001b[39mid_, doc\u001b[38;5;241m.\u001b[39mhash)\n\u001b[1;32m    115\u001b[0m nodes \u001b[38;5;241m=\u001b[39m run_transformations(\n\u001b[1;32m    116\u001b[0m     documents,  \u001b[38;5;66;03m# type: ignore\u001b[39;00m\n\u001b[1;32m    117\u001b[0m     transformations,\n\u001b[1;32m    118\u001b[0m     show_progress\u001b[38;5;241m=\u001b[39mshow_progress,\n\u001b[1;32m    119\u001b[0m     \u001b[38;5;241m*\u001b[39m\u001b[38;5;241m*\u001b[39mkwargs,\n\u001b[1;32m    120\u001b[0m )\n\u001b[0;32m--> 122\u001b[0m \u001b[38;5;28;01mreturn\u001b[39;00m \u001b[38;5;28;43mcls\u001b[39;49m\u001b[43m(\u001b[49m\n\u001b[1;32m    123\u001b[0m \u001b[43m    \u001b[49m\u001b[43mnodes\u001b[49m\u001b[38;5;241;43m=\u001b[39;49m\u001b[43mnodes\u001b[49m\u001b[43m,\u001b[49m\n\u001b[1;32m    124\u001b[0m \u001b[43m    \u001b[49m\u001b[43mstorage_context\u001b[49m\u001b[38;5;241;43m=\u001b[39;49m\u001b[43mstorage_context\u001b[49m\u001b[43m,\u001b[49m\n\u001b[1;32m    125\u001b[0m \u001b[43m    \u001b[49m\u001b[43mcallback_manager\u001b[49m\u001b[38;5;241;43m=\u001b[39;49m\u001b[43mcallback_manager\u001b[49m\u001b[43m,\u001b[49m\n\u001b[1;32m    126\u001b[0m \u001b[43m    \u001b[49m\u001b[43mshow_progress\u001b[49m\u001b[38;5;241;43m=\u001b[39;49m\u001b[43mshow_progress\u001b[49m\u001b[43m,\u001b[49m\n\u001b[1;32m    127\u001b[0m \u001b[43m    \u001b[49m\u001b[43mtransformations\u001b[49m\u001b[38;5;241;43m=\u001b[39;49m\u001b[43mtransformations\u001b[49m\u001b[43m,\u001b[49m\n\u001b[1;32m    128\u001b[0m \u001b[43m    \u001b[49m\u001b[38;5;241;43m*\u001b[39;49m\u001b[38;5;241;43m*\u001b[39;49m\u001b[43mkwargs\u001b[49m\u001b[43m,\u001b[49m\n\u001b[1;32m    129\u001b[0m \u001b[43m\u001b[49m\u001b[43m)\u001b[49m\n",
      "File \u001b[0;32m~/.pyenv/versions/rag310/lib/python3.10/site-packages/llama_index/core/indices/vector_store/base.py:71\u001b[0m, in \u001b[0;36mVectorStoreIndex.__init__\u001b[0;34m(self, nodes, use_async, store_nodes_override, embed_model, insert_batch_size, objects, index_struct, storage_context, callback_manager, transformations, show_progress, **kwargs)\u001b[0m\n\u001b[1;32m     68\u001b[0m \u001b[38;5;28mself\u001b[39m\u001b[38;5;241m.\u001b[39m_use_async \u001b[38;5;241m=\u001b[39m use_async\n\u001b[1;32m     69\u001b[0m \u001b[38;5;28mself\u001b[39m\u001b[38;5;241m.\u001b[39m_store_nodes_override \u001b[38;5;241m=\u001b[39m store_nodes_override\n\u001b[1;32m     70\u001b[0m \u001b[38;5;28mself\u001b[39m\u001b[38;5;241m.\u001b[39m_embed_model \u001b[38;5;241m=\u001b[39m resolve_embed_model(\n\u001b[0;32m---> 71\u001b[0m     embed_model \u001b[38;5;129;01mor\u001b[39;00m \u001b[43mSettings\u001b[49m\u001b[38;5;241;43m.\u001b[39;49m\u001b[43membed_model\u001b[49m, callback_manager\u001b[38;5;241m=\u001b[39mcallback_manager\n\u001b[1;32m     72\u001b[0m )\n\u001b[1;32m     74\u001b[0m \u001b[38;5;28mself\u001b[39m\u001b[38;5;241m.\u001b[39m_insert_batch_size \u001b[38;5;241m=\u001b[39m insert_batch_size\n\u001b[1;32m     75\u001b[0m \u001b[38;5;28msuper\u001b[39m()\u001b[38;5;241m.\u001b[39m\u001b[38;5;21m__init__\u001b[39m(\n\u001b[1;32m     76\u001b[0m     nodes\u001b[38;5;241m=\u001b[39mnodes,\n\u001b[1;32m     77\u001b[0m     index_struct\u001b[38;5;241m=\u001b[39mindex_struct,\n\u001b[0;32m   (...)\u001b[0m\n\u001b[1;32m     83\u001b[0m     \u001b[38;5;241m*\u001b[39m\u001b[38;5;241m*\u001b[39mkwargs,\n\u001b[1;32m     84\u001b[0m )\n",
      "File \u001b[0;32m~/.pyenv/versions/rag310/lib/python3.10/site-packages/llama_index/core/settings.py:64\u001b[0m, in \u001b[0;36m_Settings.embed_model\u001b[0;34m(self)\u001b[0m\n\u001b[1;32m     62\u001b[0m \u001b[38;5;250m\u001b[39m\u001b[38;5;124;03m\"\"\"Get the embedding model.\"\"\"\u001b[39;00m\n\u001b[1;32m     63\u001b[0m \u001b[38;5;28;01mif\u001b[39;00m \u001b[38;5;28mself\u001b[39m\u001b[38;5;241m.\u001b[39m_embed_model \u001b[38;5;129;01mis\u001b[39;00m \u001b[38;5;28;01mNone\u001b[39;00m:\n\u001b[0;32m---> 64\u001b[0m     \u001b[38;5;28mself\u001b[39m\u001b[38;5;241m.\u001b[39m_embed_model \u001b[38;5;241m=\u001b[39m \u001b[43mresolve_embed_model\u001b[49m\u001b[43m(\u001b[49m\u001b[38;5;124;43m\"\u001b[39;49m\u001b[38;5;124;43mdefault\u001b[39;49m\u001b[38;5;124;43m\"\u001b[39;49m\u001b[43m)\u001b[49m\n\u001b[1;32m     66\u001b[0m \u001b[38;5;28;01mif\u001b[39;00m \u001b[38;5;28mself\u001b[39m\u001b[38;5;241m.\u001b[39m_callback_manager \u001b[38;5;129;01mis\u001b[39;00m \u001b[38;5;129;01mnot\u001b[39;00m \u001b[38;5;28;01mNone\u001b[39;00m:\n\u001b[1;32m     67\u001b[0m     \u001b[38;5;28mself\u001b[39m\u001b[38;5;241m.\u001b[39m_embed_model\u001b[38;5;241m.\u001b[39mcallback_manager \u001b[38;5;241m=\u001b[39m \u001b[38;5;28mself\u001b[39m\u001b[38;5;241m.\u001b[39m_callback_manager\n",
      "File \u001b[0;32m~/.pyenv/versions/rag310/lib/python3.10/site-packages/llama_index/core/embeddings/utils.py:66\u001b[0m, in \u001b[0;36mresolve_embed_model\u001b[0;34m(embed_model, callback_manager)\u001b[0m\n\u001b[1;32m     61\u001b[0m         \u001b[38;5;28;01mraise\u001b[39;00m \u001b[38;5;167;01mImportError\u001b[39;00m(\n\u001b[1;32m     62\u001b[0m             \u001b[38;5;124m\"\u001b[39m\u001b[38;5;124m`llama-index-embeddings-openai` package not found, \u001b[39m\u001b[38;5;124m\"\u001b[39m\n\u001b[1;32m     63\u001b[0m             \u001b[38;5;124m\"\u001b[39m\u001b[38;5;124mplease run `pip install llama-index-embeddings-openai`\u001b[39m\u001b[38;5;124m\"\u001b[39m\n\u001b[1;32m     64\u001b[0m         )\n\u001b[1;32m     65\u001b[0m     \u001b[38;5;28;01mexcept\u001b[39;00m \u001b[38;5;167;01mValueError\u001b[39;00m \u001b[38;5;28;01mas\u001b[39;00m e:\n\u001b[0;32m---> 66\u001b[0m         \u001b[38;5;28;01mraise\u001b[39;00m \u001b[38;5;167;01mValueError\u001b[39;00m(\n\u001b[1;32m     67\u001b[0m             \u001b[38;5;124m\"\u001b[39m\u001b[38;5;130;01m\\n\u001b[39;00m\u001b[38;5;124m******\u001b[39m\u001b[38;5;130;01m\\n\u001b[39;00m\u001b[38;5;124m\"\u001b[39m\n\u001b[1;32m     68\u001b[0m             \u001b[38;5;124m\"\u001b[39m\u001b[38;5;124mCould not load OpenAI embedding model. \u001b[39m\u001b[38;5;124m\"\u001b[39m\n\u001b[1;32m     69\u001b[0m             \u001b[38;5;124m\"\u001b[39m\u001b[38;5;124mIf you intended to use OpenAI, please check your OPENAI_API_KEY.\u001b[39m\u001b[38;5;130;01m\\n\u001b[39;00m\u001b[38;5;124m\"\u001b[39m\n\u001b[1;32m     70\u001b[0m             \u001b[38;5;124m\"\u001b[39m\u001b[38;5;124mOriginal error:\u001b[39m\u001b[38;5;130;01m\\n\u001b[39;00m\u001b[38;5;124m\"\u001b[39m\n\u001b[1;32m     71\u001b[0m             \u001b[38;5;124mf\u001b[39m\u001b[38;5;124m\"\u001b[39m\u001b[38;5;132;01m{\u001b[39;00me\u001b[38;5;132;01m!s}\u001b[39;00m\u001b[38;5;124m\"\u001b[39m\n\u001b[1;32m     72\u001b[0m             \u001b[38;5;124m\"\u001b[39m\u001b[38;5;130;01m\\n\u001b[39;00m\u001b[38;5;124mConsider using embed_model=\u001b[39m\u001b[38;5;124m'\u001b[39m\u001b[38;5;124mlocal\u001b[39m\u001b[38;5;124m'\u001b[39m\u001b[38;5;124m.\u001b[39m\u001b[38;5;130;01m\\n\u001b[39;00m\u001b[38;5;124m\"\u001b[39m\n\u001b[1;32m     73\u001b[0m             \u001b[38;5;124m\"\u001b[39m\u001b[38;5;124mVisit our documentation for more embedding options: \u001b[39m\u001b[38;5;124m\"\u001b[39m\n\u001b[1;32m     74\u001b[0m             \u001b[38;5;124m\"\u001b[39m\u001b[38;5;124mhttps://docs.llamaindex.ai/en/stable/module_guides/models/\u001b[39m\u001b[38;5;124m\"\u001b[39m\n\u001b[1;32m     75\u001b[0m             \u001b[38;5;124m\"\u001b[39m\u001b[38;5;124membeddings.html#modules\u001b[39m\u001b[38;5;124m\"\u001b[39m\n\u001b[1;32m     76\u001b[0m             \u001b[38;5;124m\"\u001b[39m\u001b[38;5;130;01m\\n\u001b[39;00m\u001b[38;5;124m******\u001b[39m\u001b[38;5;124m\"\u001b[39m\n\u001b[1;32m     77\u001b[0m         )\n\u001b[1;32m     78\u001b[0m \u001b[38;5;66;03m# for image multi-modal embeddings\u001b[39;00m\n\u001b[1;32m     79\u001b[0m \u001b[38;5;28;01melif\u001b[39;00m \u001b[38;5;28misinstance\u001b[39m(embed_model, \u001b[38;5;28mstr\u001b[39m) \u001b[38;5;129;01mand\u001b[39;00m embed_model\u001b[38;5;241m.\u001b[39mstartswith(\u001b[38;5;124m\"\u001b[39m\u001b[38;5;124mclip\u001b[39m\u001b[38;5;124m\"\u001b[39m):\n",
      "\u001b[0;31mValueError\u001b[0m: \n******\nCould not load OpenAI embedding model. If you intended to use OpenAI, please check your OPENAI_API_KEY.\nOriginal error:\nNo API key found for OpenAI.\nPlease set either the OPENAI_API_KEY environment variable or openai.api_key prior to initialization.\nAPI keys can be found or created at https://platform.openai.com/account/api-keys\n\nConsider using embed_model='local'.\nVisit our documentation for more embedding options: https://docs.llamaindex.ai/en/stable/module_guides/models/embeddings.html#modules\n******"
     ]
    }
   ],
   "source": [
    "documents = SimpleDirectoryReader(\"data\").load_data()\n",
    "index = VectorStoreIndex.from_documents(documents)\n",
    "query_engine = index.as_query_engine()\n",
    "response = query_engine.query(\"what are in the introduction part?\")\n",
    "print(response)"
   ]
  },
  {
   "cell_type": "code",
   "execution_count": null,
   "id": "86403814",
   "metadata": {},
   "outputs": [
    {
     "name": "stderr",
     "output_type": "stream",
     "text": [
      "2025-09-10 12:12:55,829 - INFO - file_cache is only supported with oauth2client<4.0.0\n"
     ]
    },
    {
     "name": "stderr",
     "output_type": "stream",
     "text": [
      "2025-09-10 12:12:56,848 - INFO - file_cache is only supported with oauth2client<4.0.0\n",
      "2025-09-10 12:12:58,922 - INFO - file_cache is only supported with oauth2client<4.0.0\n"
     ]
    },
    {
     "name": "stdout",
     "output_type": "stream",
     "text": [
      "Loaded 1 documents\n",
      "Found 1 resources\n",
      "Found [Document(id_='1HsRhY1HA8tOd_-eROAVrwiL4NER65KHf', embedding=None, metadata={'page_label': '1', 'file_name': '1HsRhY1HA8tOd_-eROAVrwiL4NER65KHf.pdf', 'file id': '1HsRhY1HA8tOd_-eROAVrwiL4NER65KHf', 'author': 'kenji sugino', 'file path': 'japan visa documents/VISITING US MILITARY PERSONNEL.pdf', 'mime type': 'application/pdf', 'created at': '2025-09-10T01:43:11.251Z', 'modified at': '2025-08-08T17:10:16.000Z'}, excluded_embed_metadata_keys=['file_name', 'file_type', 'file_size', 'creation_date', 'last_modified_date', 'last_accessed_date'], excluded_llm_metadata_keys=['file_name', 'file_type', 'file_size', 'creation_date', 'last_modified_date', 'last_accessed_date'], relationships={}, metadata_template='{key}: {value}', metadata_separator='\\n', text_resource=MediaResource(embeddings=None, data=None, text='VISITING US MIILITALY PERSONNEL \\nApril 2025 \\nA. PURPOSE \\nVisit a US military personnel stationed in Japan or his/her dependent . \\n \\nB. Requirements（Details→https://www.ph.emb-japan.go.jp/itpr top_en/11_000001_00896.html ） \\n \\n  ※ Downloadable from this website   \\n APPLICANT’S REQUIREMENTS \\n(1) Passport（Holder’s signature required ） \\n(2) Photo copy of Passport（Identification page only） \\n(3) Application Form ※（A facial Phot o (4.5×3.5cm) must be attached. ） \\n   (4) Birth Certificate (issued by PSA within 1 year)  \\n   【ADDITIONAL REQUIREMENTS 】 \\n    - If (4) is unreadable, submit Birth certificate issued by Local Civil Registrar. \\n    - If (4) is “LATE REGISTRATION”, submit Baptismal Certificate and School Record ( DepEd:Form 137). \\n    - If there is no r ecord of birth in PSA, submit Birth Certificate issued by Local Civil Registrar and \\nNegative Certificate issued by PSA.  \\n   (5) Marriage Certificate (issued by PSA within 1 year. For the married only.)  \\n    【ADDITIONAL REQUIREMENTS】 \\n    - If the certificate is unreadable, submit Marriage certificate issued by Local Civil Registrar.  \\n- If there is no reco rd of marriage in PSA, submit Marriage Certificate issued by Local Civil Registrar \\nand Negative Certificate issued by PSA. \\n(6) Authorization Letter (for purpose of verification of PSA certificate s) ※ \\n \\n【In case that applicant will shoulder part/all of travel expense 】  \\n(7) Bank Certificate   \\n(8) Photocopy of Income Tax Return ( BIR Form) \\n \\n   \\nINVEITER’S REQUIREMENTS  \\n     (9) Invitation Letter ※ \\n     (10) Documents related to the  reason for the invitation (e.g., invitation letter showing the dates of the  \\ngraduation ceremony, wedding , medical certificate, etc.; if the perio d of stay exceeds 30 days, an  \\nexplanation letter is  necessary.). \\n(11) Itinerary in Japan ※ \\n     (12) Statement of Service (including E -mail address of attestant, if possible)  \\n     (13) Photocopy of Inviter’s passport (Pages of ID and stamps in Japan) \\n(14) Proof of Relationship  \\n    - If you are relatives, submit Birth Certificate or Marriage Certificate (issued by  PSA within 1 year).  \\n- If you are friends, submit photos, E -mails, receipt of remittance or parcel, etc.  \\n     \\n  【In case that US military personnel  will shoulder part/all of travel expense 】 \\n    (15) Guarantee Letter ※ \\n(16) US Individual Income Tax Return (IRS: Form 1040 and W-2) \\n \\n ', path=None, url=None, mimetype=None), image_resource=None, audio_resource=None, video_resource=None, text_template='{metadata_str}\\n\\n{content}')] resources\n"
     ]
    }
   ],
   "source": [
    "from llama_index.readers.google import GoogleDriveReader\n",
    "\n",
    "# Initialize the reader\n",
    "reader = GoogleDriveReader(\n",
    "    folder_id=\"1qq125mDOBJ0sNJLh7znrFfFzaQOm7L-m\",\n",
    "    # service_account_key=\"[SERVICE_ACCOUNT_KEY_JSON]\",\n",
    "    credentials_path=\"credentials.json\",\n",
    "    cache_path='./my_cache/'\n",
    ")\n",
    "# Load data\n",
    "documents = reader.load_data()\n",
    "\n",
    "# List resources in the drive\n",
    "resources = reader.list_resources()\n",
    "\n",
    "# Get information about a specific resource\n",
    "# resource_info = reader.get_resource_info(\"file.txt\")\n",
    "\n",
    "# # Load a specific resource\n",
    "# specific_doc = reader.load_resource(\"file.txt\")\n",
    "\n",
    "# # Read file content directly\n",
    "# file_content = reader.read_file_content(\"path/to/file.txt\")\n",
    "\n",
    "print(f\"Loaded {len(documents)} documents\")\n",
    "print(f\"Found {len(resources)} resources\")\n",
    "print(f\"Found {documents} resources\")\n",
    "# print(f\"Resource info: {resource_info}\")\n",
    "# print(f\"Specific document: {specific_doc}\")\n",
    "# print(f\"File content length: {len(file_content)} bytes\")"
   ]
  },
  {
   "cell_type": "code",
   "execution_count": null,
   "id": "926792c5",
   "metadata": {},
   "outputs": [
    {
     "data": {
      "text/plain": [
       "[Document(id_='1HsRhY1HA8tOd_-eROAVrwiL4NER65KHf', embedding=None, metadata={'page_label': '1', 'file_name': '1HsRhY1HA8tOd_-eROAVrwiL4NER65KHf.pdf', 'file id': '1HsRhY1HA8tOd_-eROAVrwiL4NER65KHf', 'author': 'kenji sugino', 'file path': 'japan visa documents/VISITING US MILITARY PERSONNEL.pdf', 'mime type': 'application/pdf', 'created at': '2025-09-10T01:43:11.251Z', 'modified at': '2025-08-08T17:10:16.000Z'}, excluded_embed_metadata_keys=['file_name', 'file_type', 'file_size', 'creation_date', 'last_modified_date', 'last_accessed_date'], excluded_llm_metadata_keys=['file_name', 'file_type', 'file_size', 'creation_date', 'last_modified_date', 'last_accessed_date'], relationships={}, metadata_template='{key}: {value}', metadata_separator='\\n', text_resource=MediaResource(embeddings=None, data=None, text='VISITING US MIILITALY PERSONNEL \\nApril 2025 \\nA. PURPOSE \\nVisit a US military personnel stationed in Japan or his/her dependent . \\n \\nB. Requirements（Details→https://www.ph.emb-japan.go.jp/itpr top_en/11_000001_00896.html ） \\n \\n  ※ Downloadable from this website   \\n APPLICANT’S REQUIREMENTS \\n(1) Passport（Holder’s signature required ） \\n(2) Photo copy of Passport（Identification page only） \\n(3) Application Form ※（A facial Phot o (4.5×3.5cm) must be attached. ） \\n   (4) Birth Certificate (issued by PSA within 1 year)  \\n   【ADDITIONAL REQUIREMENTS 】 \\n    - If (4) is unreadable, submit Birth certificate issued by Local Civil Registrar. \\n    - If (4) is “LATE REGISTRATION”, submit Baptismal Certificate and School Record ( DepEd:Form 137). \\n    - If there is no r ecord of birth in PSA, submit Birth Certificate issued by Local Civil Registrar and \\nNegative Certificate issued by PSA.  \\n   (5) Marriage Certificate (issued by PSA within 1 year. For the married only.)  \\n    【ADDITIONAL REQUIREMENTS】 \\n    - If the certificate is unreadable, submit Marriage certificate issued by Local Civil Registrar.  \\n- If there is no reco rd of marriage in PSA, submit Marriage Certificate issued by Local Civil Registrar \\nand Negative Certificate issued by PSA. \\n(6) Authorization Letter (for purpose of verification of PSA certificate s) ※ \\n \\n【In case that applicant will shoulder part/all of travel expense 】  \\n(7) Bank Certificate   \\n(8) Photocopy of Income Tax Return ( BIR Form) \\n \\n   \\nINVEITER’S REQUIREMENTS  \\n     (9) Invitation Letter ※ \\n     (10) Documents related to the  reason for the invitation (e.g., invitation letter showing the dates of the  \\ngraduation ceremony, wedding , medical certificate, etc.; if the perio d of stay exceeds 30 days, an  \\nexplanation letter is  necessary.). \\n(11) Itinerary in Japan ※ \\n     (12) Statement of Service (including E -mail address of attestant, if possible)  \\n     (13) Photocopy of Inviter’s passport (Pages of ID and stamps in Japan) \\n(14) Proof of Relationship  \\n    - If you are relatives, submit Birth Certificate or Marriage Certificate (issued by  PSA within 1 year).  \\n- If you are friends, submit photos, E -mails, receipt of remittance or parcel, etc.  \\n     \\n  【In case that US military personnel  will shoulder part/all of travel expense 】 \\n    (15) Guarantee Letter ※ \\n(16) US Individual Income Tax Return (IRS: Form 1040 and W-2) \\n \\n ', path=None, url=None, mimetype=None), image_resource=None, audio_resource=None, video_resource=None, text_template='{metadata_str}\\n\\n{content}')]"
      ]
     },
     "execution_count": 7,
     "metadata": {},
     "output_type": "execute_result"
    }
   ],
   "source": [
    "documents"
   ]
  },
  {
   "cell_type": "code",
   "execution_count": null,
   "id": "7a5ecfed",
   "metadata": {},
   "outputs": [],
   "source": [
    "documents[0].metadata['mime type']"
   ]
  },
  {
   "cell_type": "code",
   "execution_count": null,
   "id": "6f5ac970",
   "metadata": {},
   "outputs": [],
   "source": [
    "documents[0].metadata['file path'].split('/')"
   ]
  },
  {
   "cell_type": "code",
   "execution_count": null,
   "id": "6a62d6b0",
   "metadata": {},
   "outputs": [],
   "source": [
    "documents[0].text_resource.text"
   ]
  },
  {
   "cell_type": "code",
   "execution_count": null,
   "id": "c8195b6f",
   "metadata": {},
   "outputs": [],
   "source": [
    "import shutil\n",
    "import os\n",
    "\n",
    "cache_dir = os.path.expanduser(\"~/.llama_index\")\n",
    "if os.path.exists(cache_dir):\n",
    "    shutil.rmtree(cache_dir, ignore_errors=True)\n"
   ]
  },
  {
   "cell_type": "code",
   "execution_count": null,
   "id": "9ae35607",
   "metadata": {},
   "outputs": [
    {
     "name": "stdout",
     "output_type": "stream",
     "text": [
      "nodes_key='nodes' collection='llama_cache' cache=<llama_index.core.storage.kvstore.simple_kvstore.SimpleKVStore object at 0x132435c10>\n"
     ]
    }
   ],
   "source": [
    "from llama_index.core.ingestion import IngestionPipeline, IngestionCache\n",
    "\n",
    "cache = IngestionCache()\n",
    "# pipeline = IngestionPipeline(cache=cache)\n",
    "\n",
    "print(cache) # This might work in some older versions"
   ]
  }
 ],
 "metadata": {
  "kernelspec": {
   "display_name": "rag310",
   "language": "python",
   "name": "python3"
  },
  "language_info": {
   "codemirror_mode": {
    "name": "ipython",
    "version": 3
   },
   "file_extension": ".py",
   "mimetype": "text/x-python",
   "name": "python",
   "nbconvert_exporter": "python",
   "pygments_lexer": "ipython3",
   "version": "3.10.15"
  }
 },
 "nbformat": 4,
 "nbformat_minor": 5
}
