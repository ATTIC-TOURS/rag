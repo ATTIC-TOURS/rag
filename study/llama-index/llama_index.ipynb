{
 "cells": [
  {
   "cell_type": "code",
   "execution_count": null,
   "id": "4dab2324",
   "metadata": {},
   "outputs": [],
   "source": [
    "from llama_index.core import VectorStoreIndex, SimpleDirectoryReader"
   ]
  },
  {
   "cell_type": "code",
   "execution_count": null,
   "id": "0e08a9fb",
   "metadata": {},
   "outputs": [],
   "source": [
    "documents = SimpleDirectoryReader(\"data\").load_data()\n",
    "index = VectorStoreIndex.from_documents(documents)\n",
    "query_engine = index.as_query_engine()\n",
    "response = query_engine.query(\"what are in the introduction part?\")\n",
    "print(response)"
   ]
  },
  {
   "cell_type": "code",
   "execution_count": 6,
   "id": "86403814",
   "metadata": {},
   "outputs": [
    {
     "name": "stderr",
     "output_type": "stream",
     "text": [
      "2025-09-10 12:12:55,829 - INFO - file_cache is only supported with oauth2client<4.0.0\n"
     ]
    },
    {
     "name": "stderr",
     "output_type": "stream",
     "text": [
      "2025-09-10 12:12:56,848 - INFO - file_cache is only supported with oauth2client<4.0.0\n",
      "2025-09-10 12:12:58,922 - INFO - file_cache is only supported with oauth2client<4.0.0\n"
     ]
    },
    {
     "name": "stdout",
     "output_type": "stream",
     "text": [
      "Loaded 1 documents\n",
      "Found 1 resources\n",
      "Found [Document(id_='1HsRhY1HA8tOd_-eROAVrwiL4NER65KHf', embedding=None, metadata={'page_label': '1', 'file_name': '1HsRhY1HA8tOd_-eROAVrwiL4NER65KHf.pdf', 'file id': '1HsRhY1HA8tOd_-eROAVrwiL4NER65KHf', 'author': 'kenji sugino', 'file path': 'japan visa documents/VISITING US MILITARY PERSONNEL.pdf', 'mime type': 'application/pdf', 'created at': '2025-09-10T01:43:11.251Z', 'modified at': '2025-08-08T17:10:16.000Z'}, excluded_embed_metadata_keys=['file_name', 'file_type', 'file_size', 'creation_date', 'last_modified_date', 'last_accessed_date'], excluded_llm_metadata_keys=['file_name', 'file_type', 'file_size', 'creation_date', 'last_modified_date', 'last_accessed_date'], relationships={}, metadata_template='{key}: {value}', metadata_separator='\\n', text_resource=MediaResource(embeddings=None, data=None, text='VISITING US MIILITALY PERSONNEL \\nApril 2025 \\nA. PURPOSE \\nVisit a US military personnel stationed in Japan or his/her dependent . \\n \\nB. Requirements（Details→https://www.ph.emb-japan.go.jp/itpr top_en/11_000001_00896.html ） \\n \\n  ※ Downloadable from this website   \\n APPLICANT’S REQUIREMENTS \\n(1) Passport（Holder’s signature required ） \\n(2) Photo copy of Passport（Identification page only） \\n(3) Application Form ※（A facial Phot o (4.5×3.5cm) must be attached. ） \\n   (4) Birth Certificate (issued by PSA within 1 year)  \\n   【ADDITIONAL REQUIREMENTS 】 \\n    - If (4) is unreadable, submit Birth certificate issued by Local Civil Registrar. \\n    - If (4) is “LATE REGISTRATION”, submit Baptismal Certificate and School Record ( DepEd:Form 137). \\n    - If there is no r ecord of birth in PSA, submit Birth Certificate issued by Local Civil Registrar and \\nNegative Certificate issued by PSA.  \\n   (5) Marriage Certificate (issued by PSA within 1 year. For the married only.)  \\n    【ADDITIONAL REQUIREMENTS】 \\n    - If the certificate is unreadable, submit Marriage certificate issued by Local Civil Registrar.  \\n- If there is no reco rd of marriage in PSA, submit Marriage Certificate issued by Local Civil Registrar \\nand Negative Certificate issued by PSA. \\n(6) Authorization Letter (for purpose of verification of PSA certificate s) ※ \\n \\n【In case that applicant will shoulder part/all of travel expense 】  \\n(7) Bank Certificate   \\n(8) Photocopy of Income Tax Return ( BIR Form) \\n \\n   \\nINVEITER’S REQUIREMENTS  \\n     (9) Invitation Letter ※ \\n     (10) Documents related to the  reason for the invitation (e.g., invitation letter showing the dates of the  \\ngraduation ceremony, wedding , medical certificate, etc.; if the perio d of stay exceeds 30 days, an  \\nexplanation letter is  necessary.). \\n(11) Itinerary in Japan ※ \\n     (12) Statement of Service (including E -mail address of attestant, if possible)  \\n     (13) Photocopy of Inviter’s passport (Pages of ID and stamps in Japan) \\n(14) Proof of Relationship  \\n    - If you are relatives, submit Birth Certificate or Marriage Certificate (issued by  PSA within 1 year).  \\n- If you are friends, submit photos, E -mails, receipt of remittance or parcel, etc.  \\n     \\n  【In case that US military personnel  will shoulder part/all of travel expense 】 \\n    (15) Guarantee Letter ※ \\n(16) US Individual Income Tax Return (IRS: Form 1040 and W-2) \\n \\n ', path=None, url=None, mimetype=None), image_resource=None, audio_resource=None, video_resource=None, text_template='{metadata_str}\\n\\n{content}')] resources\n"
     ]
    }
   ],
   "source": [
    "from llama_index.readers.google import GoogleDriveReader\n",
    "\n",
    "# Initialize the reader\n",
    "reader = GoogleDriveReader(\n",
    "    folder_id=\"1qq125mDOBJ0sNJLh7znrFfFzaQOm7L-m\",\n",
    "    # service_account_key=\"[SERVICE_ACCOUNT_KEY_JSON]\",\n",
    "    credentials_path=\"credentials.json\",\n",
    "    cache_path='./my_cache/'\n",
    ")\n",
    "# Load data\n",
    "documents = reader.load_data()\n",
    "\n",
    "# List resources in the drive\n",
    "resources = reader.list_resources()\n",
    "\n",
    "# Get information about a specific resource\n",
    "# resource_info = reader.get_resource_info(\"file.txt\")\n",
    "\n",
    "# # Load a specific resource\n",
    "# specific_doc = reader.load_resource(\"file.txt\")\n",
    "\n",
    "# # Read file content directly\n",
    "# file_content = reader.read_file_content(\"path/to/file.txt\")\n",
    "\n",
    "print(f\"Loaded {len(documents)} documents\")\n",
    "print(f\"Found {len(resources)} resources\")\n",
    "print(f\"Found {documents} resources\")\n",
    "# print(f\"Resource info: {resource_info}\")\n",
    "# print(f\"Specific document: {specific_doc}\")\n",
    "# print(f\"File content length: {len(file_content)} bytes\")"
   ]
  },
  {
   "cell_type": "code",
   "execution_count": 7,
   "id": "926792c5",
   "metadata": {},
   "outputs": [
    {
     "data": {
      "text/plain": [
       "[Document(id_='1HsRhY1HA8tOd_-eROAVrwiL4NER65KHf', embedding=None, metadata={'page_label': '1', 'file_name': '1HsRhY1HA8tOd_-eROAVrwiL4NER65KHf.pdf', 'file id': '1HsRhY1HA8tOd_-eROAVrwiL4NER65KHf', 'author': 'kenji sugino', 'file path': 'japan visa documents/VISITING US MILITARY PERSONNEL.pdf', 'mime type': 'application/pdf', 'created at': '2025-09-10T01:43:11.251Z', 'modified at': '2025-08-08T17:10:16.000Z'}, excluded_embed_metadata_keys=['file_name', 'file_type', 'file_size', 'creation_date', 'last_modified_date', 'last_accessed_date'], excluded_llm_metadata_keys=['file_name', 'file_type', 'file_size', 'creation_date', 'last_modified_date', 'last_accessed_date'], relationships={}, metadata_template='{key}: {value}', metadata_separator='\\n', text_resource=MediaResource(embeddings=None, data=None, text='VISITING US MIILITALY PERSONNEL \\nApril 2025 \\nA. PURPOSE \\nVisit a US military personnel stationed in Japan or his/her dependent . \\n \\nB. Requirements（Details→https://www.ph.emb-japan.go.jp/itpr top_en/11_000001_00896.html ） \\n \\n  ※ Downloadable from this website   \\n APPLICANT’S REQUIREMENTS \\n(1) Passport（Holder’s signature required ） \\n(2) Photo copy of Passport（Identification page only） \\n(3) Application Form ※（A facial Phot o (4.5×3.5cm) must be attached. ） \\n   (4) Birth Certificate (issued by PSA within 1 year)  \\n   【ADDITIONAL REQUIREMENTS 】 \\n    - If (4) is unreadable, submit Birth certificate issued by Local Civil Registrar. \\n    - If (4) is “LATE REGISTRATION”, submit Baptismal Certificate and School Record ( DepEd:Form 137). \\n    - If there is no r ecord of birth in PSA, submit Birth Certificate issued by Local Civil Registrar and \\nNegative Certificate issued by PSA.  \\n   (5) Marriage Certificate (issued by PSA within 1 year. For the married only.)  \\n    【ADDITIONAL REQUIREMENTS】 \\n    - If the certificate is unreadable, submit Marriage certificate issued by Local Civil Registrar.  \\n- If there is no reco rd of marriage in PSA, submit Marriage Certificate issued by Local Civil Registrar \\nand Negative Certificate issued by PSA. \\n(6) Authorization Letter (for purpose of verification of PSA certificate s) ※ \\n \\n【In case that applicant will shoulder part/all of travel expense 】  \\n(7) Bank Certificate   \\n(8) Photocopy of Income Tax Return ( BIR Form) \\n \\n   \\nINVEITER’S REQUIREMENTS  \\n     (9) Invitation Letter ※ \\n     (10) Documents related to the  reason for the invitation (e.g., invitation letter showing the dates of the  \\ngraduation ceremony, wedding , medical certificate, etc.; if the perio d of stay exceeds 30 days, an  \\nexplanation letter is  necessary.). \\n(11) Itinerary in Japan ※ \\n     (12) Statement of Service (including E -mail address of attestant, if possible)  \\n     (13) Photocopy of Inviter’s passport (Pages of ID and stamps in Japan) \\n(14) Proof of Relationship  \\n    - If you are relatives, submit Birth Certificate or Marriage Certificate (issued by  PSA within 1 year).  \\n- If you are friends, submit photos, E -mails, receipt of remittance or parcel, etc.  \\n     \\n  【In case that US military personnel  will shoulder part/all of travel expense 】 \\n    (15) Guarantee Letter ※ \\n(16) US Individual Income Tax Return (IRS: Form 1040 and W-2) \\n \\n ', path=None, url=None, mimetype=None), image_resource=None, audio_resource=None, video_resource=None, text_template='{metadata_str}\\n\\n{content}')]"
      ]
     },
     "execution_count": 7,
     "metadata": {},
     "output_type": "execute_result"
    }
   ],
   "source": [
    "documents"
   ]
  },
  {
   "cell_type": "code",
   "execution_count": null,
   "id": "7a5ecfed",
   "metadata": {},
   "outputs": [],
   "source": [
    "documents[0].metadata['mime type']"
   ]
  },
  {
   "cell_type": "code",
   "execution_count": null,
   "id": "6f5ac970",
   "metadata": {},
   "outputs": [],
   "source": [
    "documents[0].metadata['file path'].split('/')"
   ]
  },
  {
   "cell_type": "code",
   "execution_count": null,
   "id": "6a62d6b0",
   "metadata": {},
   "outputs": [],
   "source": [
    "documents[0].text_resource.text"
   ]
  },
  {
   "cell_type": "code",
   "execution_count": 3,
   "id": "c8195b6f",
   "metadata": {},
   "outputs": [],
   "source": [
    "import shutil\n",
    "import os\n",
    "\n",
    "cache_dir = os.path.expanduser(\"~/.llama_index\")\n",
    "if os.path.exists(cache_dir):\n",
    "    shutil.rmtree(cache_dir, ignore_errors=True)\n"
   ]
  },
  {
   "cell_type": "code",
   "execution_count": 11,
   "id": "9ae35607",
   "metadata": {},
   "outputs": [
    {
     "name": "stdout",
     "output_type": "stream",
     "text": [
      "nodes_key='nodes' collection='llama_cache' cache=<llama_index.core.storage.kvstore.simple_kvstore.SimpleKVStore object at 0x132435c10>\n"
     ]
    }
   ],
   "source": [
    "from llama_index.core.ingestion import IngestionPipeline, IngestionCache\n",
    "\n",
    "cache = IngestionCache()\n",
    "# pipeline = IngestionPipeline(cache=cache)\n",
    "\n",
    "print(cache) # This might work in some older versions"
   ]
  }
 ],
 "metadata": {
  "kernelspec": {
   "display_name": ".venv",
   "language": "python",
   "name": "python3"
  },
  "language_info": {
   "codemirror_mode": {
    "name": "ipython",
    "version": 3
   },
   "file_extension": ".py",
   "mimetype": "text/x-python",
   "name": "python",
   "nbconvert_exporter": "python",
   "pygments_lexer": "ipython3",
   "version": "3.11.1"
  }
 },
 "nbformat": 4,
 "nbformat_minor": 5
}
