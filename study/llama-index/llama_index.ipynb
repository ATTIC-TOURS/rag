{
 "cells": [
  {
   "cell_type": "code",
   "execution_count": 1,
   "id": "7f2a303d",
   "metadata": {},
   "outputs": [],
   "source": [
    "import logging\n",
    "import sys\n",
    "from llama_index.core.response.notebook_utils import display_response\n",
    "\n",
    "logging.basicConfig(stream=sys.stdout, level=logging.INFO)\n",
    "logging.getLogger().addHandler(logging.StreamHandler(stream=sys.stdout))"
   ]
  },
  {
   "cell_type": "markdown",
   "id": "dce49955",
   "metadata": {},
   "source": [
    "Load the PDF"
   ]
  },
  {
   "cell_type": "code",
   "execution_count": 2,
   "id": "be536f23",
   "metadata": {},
   "outputs": [
    {
     "name": "stderr",
     "output_type": "stream",
     "text": [
      "/Users/krimssmirk/.pyenv/versions/rag310/lib/python3.10/site-packages/tqdm/auto.py:21: TqdmWarning: IProgress not found. Please update jupyter and ipywidgets. See https://ipywidgets.readthedocs.io/en/stable/user_install.html\n",
      "  from .autonotebook import tqdm as notebook_tqdm\n"
     ]
    },
    {
     "name": "stdout",
     "output_type": "stream",
     "text": [
      "INFO:pikepdf._core:pikepdf C++ to Python logger bridge initialized\n",
      "pikepdf C++ to Python logger bridge initialized\n",
      "Warning: No languages specified, defaulting to English.\n",
      "WARNING:root:'doc_id' is deprecated and 'id_' will be used instead\n",
      "'doc_id' is deprecated and 'id_' will be used instead\n",
      "Warning: No languages specified, defaulting to English.\n",
      "WARNING:root:'doc_id' is deprecated and 'id_' will be used instead\n",
      "'doc_id' is deprecated and 'id_' will be used instead\n"
     ]
    },
    {
     "data": {
      "text/plain": [
       "[Document(id_='2bb98ea3-2eae-4385-8f2b-a0dfcc84a424', embedding=None, metadata={'source_path': 'New Thesis Manuscript Guidelines.pdf'}, excluded_embed_metadata_keys=[], excluded_llm_metadata_keys=[], relationships={}, metadata_template='{key}: {value}', metadata_separator='\\n', text_resource=MediaResource(embeddings=None, data=None, text='Guidelines Format of the Thesis Study\\n\\nGENERAL FORMAT\\n\\nPaper Size\\n\\nManuscripts shall be printed in “A4” size: 297mm x 210mm white bond paper and a weight not less than 80 grams per square meter (gsm).\\n\\nPage Margin\\n\\nThe measurement of margins shall be reckoned from the edge of the page. The following margins shall apply:\\n\\nTop: 1 inch (2.54 cm) Bottom: 1 inch (2.54 cm) Right: 1 inch (2.54 cm) Left: 1.5 inches (3.81 cm)\\n\\nFont Characteristics\\n\\nThe following font characteristics shall be applied to the whole manuscript (including page numbers):\\n\\nFace: Size: Line Spacing: Double Color: Alignment: Style: Scale: Spacing: Position: Page number\\n\\nTimes New Roman 12\\n\\nBlack Justified Regular 100% Normal Normal\\n\\n(NOT “bold”, “italicized” nor “underlined”)\\n\\n(NOT \" e x p a n d e d \" nor \"condensed\") (NOT \"raised\" nor \"lowered\")\\n\\nPreliminary Pages Main Body Display Every Paragraph: Indent\\n\\nSmall roman numerals (i, ii, iii,…) Arabic numbers (1, 2, 3, …) Centered bottom of the page\\n\\nEXTERNAL DESIGN AND STRUCTURE\\n\\nManuscript Binding\\n\\nThesis manuscripts shall be hardbound before submission.\\n\\nCover Color and Covering\\n\\nThesis manuscripts shall be covered with dark blue hardbound book cover. Crocodile-skin covers shall not be used and shall be covered with transparent plastic for added protection.\\n\\nLetter Color\\n\\nAll letters to be engraved in the manuscript spine and front cover shall be gold in color, pressed against the dark blue cover.\\n\\nDesign and Layout of the Front Cover\\n\\nThe front cover page shall contain the following information:\\n\\nFull thesis title Full name of the authors Degree and specialization Date of manuscript submission\\n\\nThe title shall be in uppercase letters, center-aligned in the page and shall be laid out in an inverse pyramid manner. The first line of the title should be spaced about two (2) inches below the top edge of the front cover.\\n\\nThe author’s name shall be written in full, first name first, followed by middle name (not middle initial), and then surname. It shall be presented in uppercase letters, center-aligned in the page, first name is sorted in ascending order, and per line. The author’s name should be positioned five (5) inches below the top edge of the front cover.\\n\\nThe degree shall be written in full, (e.g. BACHELOR OF SCIENCE IN COMPUTER SCIENCE), in uppercase letters, center-aligned in the page, and in single line only. The degree should be positioned about 3.5 inches above the bottom edge of the front cover.\\n\\nThe specialization shall be written below the degree, in title case (i.e. the first letter of all significant words capitalized), and center-aligned in the page. The specialization shall be enclosed in parenthesis and shall be introduced by the phrase “Specialization in” followed by the specialization.\\n\\nThe date of manuscript submission shall correspond to the month and year when the students submitted their thesis to their thesis professor. It shall be written in uppercase letters and center- aligned in the page (e.g. for second semester: MARCH 2025). This date should be positioned about two (2) inches above the bottom edge of the front cover.\\n\\nPattern\\n\\n2 in\\n\\nNATIONAL UNIVERSITY Manila\\n\\nTITLE IN UPPERCASE AND INVERSE PYRAMID STYLE\\n\\nA THESIS PRESENTED TO THE FACULTY COLLEGE OF COMPUTING AND INFORMATION TECHNOLOGIES\\n\\nBACHELOR OF SCIENCE IN COMPUTER SCIENCE with specialization in <your specialization>\\n\\nList of Author’s Name\\n\\nFEBRUARY 2023\\n\\n2 in\\n\\nExample\\n\\nNATIONAL UNIVERSITY Manila\\n\\nTHE CLASSIFICAITON TECHNIQUE FOR FACE SPOOF DETECTION IN ARTIFICIAL NEURAL NETWORKS USING CONCEPT OF MACHINE LEARNING\\n\\nCOLLEGE OF COMPUTING AND INFORMATION TECHNOLOGIES\\n\\nBACHELOR OF SCIENCE IN COMPUTER SCIENCE with specialization in Machine Learning\\n\\nDONALD ANGELES DUCK HELLO SAMSON KITTY MICKY SALAZAR MOUSE SLEEPING ARTEMIS BEAUTY WINNIE CRUZ THE POOH\\n\\nMARCH 2025\\n\\n2 in\\n\\nDesign and Layout of the Manuscript Spine\\n\\nThe manuscript spine shall contain of the following information all are in capital:\\n\\nFirst letter of the author’s surname Thesis title Acronym of the degree Date submitted (month in 3 char)\\n\\nPattern\\n\\nAuthor’s Surname Initial\\n\\nThesis Title\\n\\nProgram Date\\n\\nExample\\n\\nBDKMP\\n\\nTHE CLASSIFICATION TECHNIQUE FOR FACE SPOOF DETECTION IN ARTIFICIAL NEURAL NETWORKS USING CONCEPT OF MACHINE LEARNING\\n\\nBSCS-ML MAR 2025\\n\\nCONTENTS OF THE PRELIMINARY PAGES\\n\\nThe preliminary pages for thesis manuscripts (arranged according to their order of presentation in the text) include the following:\\n\\nTITLE PAGE APPROVAL PAGE ACKNOWLEDGMENT TABLE OF CONTENTS LIST OF FIGURES LIST OF TABLES ABSTRACT\\n\\nTitle Page\\n\\nAlmost the same format in your external design and structure. Make necessary spacing adjustments if needed.\\n\\nTHE CLASSIFICATION TECHNIQUE FOR FACE SPOOF DETECTION IN\\n\\nARTIFICIAL NEURAL NETWORKS USING CONCEPT OF\\n\\nMACHINE LEARNING\\n\\nA Thesis Submitted in Partial Fulfillment of the Requirements\\n\\nfor the degree of Bachelor of Science with\\n\\nspecialization in Machine Language\\n\\nPresented by:\\n\\nDonald Angeles Duck Hello Samson Kitty Mickey Salazar Mouse Sleeping Artemis Beauty Winnie Cruz Pooh\\n\\nAdviser: <Adviser Name>\\n\\nProfessor: Prof. Susan S. Caluya, MSc\\n\\nApproval Page\\n\\nThe approval page shall be introduced by a paragraph stating that the manuscript is accepted by a hierarchy of signatories. The said paragraph shall contain the following information, presented in uppercase and bold letters: Full thesis title Full name of the authors Degree\\n\\nThe paragraph shall be in double space and justified.\\n\\nPattern\\n\\nThis thesis entitled “<Thesis title in uppercase>” prepared and submitted by “<list of author’s\\n\\nfull name>” in partial fulfillment of the requirements for the degree of “<full title degree in\\n\\nuppercase>” has been examined, accepted and recommended for oral examination.\\n\\nAPPROVAL SHEET\\n\\nThis thesis entitled “THE CLASSIFICATION TECHNIQUE FOR FACE SPOOF DETECTION IN\\n\\nARTIFICIAL NEURAL NETWORKS USING CONCEPT OF MACHINE LEARNING” prepared and\\n\\nsubmitted by DONALD ANGELES DUCK, HELLO SAMSON KITTY, MICKY SALAZAR MOUSE,\\n\\nSLEEPING ARTEMIS BEAUTY, and WINNIE CRUZ THE POOH in partial fulfillment of the requirements\\n\\nfor the degree of BACHELOR OF SCIENCE IN COMPUTER SCIENCE with specialization in Machine\\n\\nLearning has been examined, accepted and recommended for oral examination.\\n\\n_________________________\\n\\nAdviser\\n\\nPANEL OF EXAMINERS\\n\\nApproved by the committee on oral examination with a grade of _____ on _______________.\\n\\n_________________________ Panel Chair\\n\\n__________________ Panel Member\\n\\n_____________________ Panel Member\\n\\n__________________ CS Chair\\n\\n_____________________ OIC Dean, CCIT\\n\\nAcknowledgement\\n\\nThe title “ACKNOWLEDGMENT” shall be positioned at the topmost line of the page, center aligned and in uppercase and bold letters. Three (3) spaces shall be maintained between the title and the first line of the first paragraph. It shall be double space and the font size and page alignment (justified) shall be maintained.\\n\\nThe acknowledgment shall be limited to three (3) pages only. Preferably, the acknowledgment should be in pure English. However, Filipino words may be used, if they will be italicized or enclosed in quotation marks as they appear in the text. The following shall not appear or be included in the body: words or phrases in bold or underline, pictures or figures of any kind, and inappropriate colloquial words are not permitted.\\n\\nExample\\n\\nACKNOWLEDGEMENT\\n\\nI would like to express my deepest gratitude to my thesis advisor, Professor [Advisor\\'s Full Name], for the continuous support, guidance, and patience throughout the entire research process. Your valuable insights and constructive feedback have greatly contributed to the refinement of this work. I am also thankful for the assistance provided by my committee members, Dr. [Committee Member 1], and Dr. [Committee Member 2]. Their expertise and thoughtful suggestions significantly enhanced the quality of this thesis. Special thanks go to my family for their unwavering encouragement and understanding during the demanding periods of this academic pursuit. Your belief in my abilities has been a constant source of motivation. I am grateful to my friends and peers who have been a source of inspiration and moral support. Their encouragement and camaraderie made this journey more enjoyable. Additionally, I would like to acknowledge the [Any Funding Organization] for their financial support, which facilitated the execution of the research. Finally, I extend my gratitude to all those who, directly or indirectly, contributed to the successful completion of this thesis. Your collective support has been instrumental in this academic achievement.\\n\\nTable of Contents\\n\\nThe title “TABLE OF CONTENTS” shall be positioned at the topmost line of the page, center aligned and in uppercase and bold letters. Two (2) columns shall be created where the items and their corresponding page numbers are listed. The first column shall contain the list of the items to be included and such column shall not contain any heading. All the contents of the first column shall be flushed to the left margin. The second column shall contain the heading “PAGE”, underlined and in uppercase letters. This heading shall be four (4) spaces below the line containing the title “TABLE OF CONTENTS.” The first item in the list (e.g. TITLE PAGE) shall be three (3) spaces below the line containing the heading “PAGE”. Dots or dashes connecting the items to their\\n\\ncorresponding page numbers shall be omitted. Page numbers shall be listed under and “centered” relative to the heading “PAGE”.\\n\\nPattern\\n\\nTABLE OF CONTENTS\\n\\nPage\\n\\nTITLE PAGE\\n\\ni\\n\\nAPPROVAL PAGE\\n\\nii\\n\\nABSTRACT\\n\\niii\\n\\nACKNOWLEDGEMENT\\n\\niv\\n\\nTABLE OF CONTENT\\n\\n…\\n\\nLIST OF TABLES\\n\\n…\\n\\nLIST OF FIGURES\\n\\n…\\n\\nAPPENDICES\\n\\n…\\n\\nRESEARCHERS CONTACT INFORMATION\\n\\n…\\n\\nCHAPTER\\n\\nI.\\n\\nINTRODUCTION\\n\\nBackground of the Study\\n\\nStatement of the Problem\\n\\nObjectives of the Study\\n\\nGeneral Objective\\n\\nSpecific Objectives\\n\\nII.\\n\\nIII.\\n\\nIV.\\n\\nV.\\n\\nScope and Limitations\\n\\nDefinition of Terms\\n\\nSignificance of the Study\\n\\nRELATED LITERATURE AND STUDIES\\n\\nIntroduction\\n\\nRelated Literature\\n\\nRelated Studies\\n\\nSynthesis\\n\\nRESEARCH DESIGN AND METHODOLOGY\\n\\nIntroduction\\n\\nResearch Design\\n\\nData Collection\\n\\nData Analysis\\n\\nRespondents of the Study\\n\\nEthical Considerations\\n\\nRESULT AND DISCUSSION\\n\\nIntroduction\\n\\nPresentation of Data\\n\\nDescriptive Statistics\\n\\nDiscussion of Findings\\n\\nCONCLUSION AND RECOMMENDATIONS\\n\\nIntroduction\\n\\nSummary of Findings\\n\\nConclusion\\n\\nRecommendations\\n\\nAPPENDICES\\n\\nA. Raw Data\\n\\nB. Survey Questionnaires\\n\\nC. Interview Transcripts\\n\\nD. Technical Details\\n\\nE. Photograph or Images\\n\\nF. Permission and Consent Forms\\n\\nG. Supplementary Materials\\n\\nH. Researchers CV\\n\\nREFERENCES\\n\\nAbstract\\n\\nThe title “ABSTRACT” or “EXECUTIVE SUMMARY” shall be positioned at the topmost line of the page, center aligned and in uppercase and bold letters. It shall not be more than 250 words and shall be written in third person point of view. Abstract or executive summary shall be double- spaced and limited to one paragraph only. The first line of the paragraph shall be indented 1/2 inch to the right.\\n\\nA good abstract is a concise summary of the entire project: introduction, problem statement, work accomplished, result conclusions and recommendations. This requires efficiency of words and phrases.\\n\\nKeywords shall be written in left side page after 3 spaces from the end of abstract body, and in bold letters. It serves as a metadata providing a brief overview of the context and aiding in the categorization and retrieval of documents in academic and scientific contexts.\\n\\nExample\\n\\nABSTRACT\\n\\nThis research investigates the effects of integrating renewable energy sources, specifically\\n\\nwind and solar power, into conventional power grids. The study employs advanced simulation\\n\\nmodels to assess the impact on grid stability, analyzing factors such as frequency deviations,\\n\\nvoltage fluctuations, and transient stability. Results indicate that while renewable energy\\n\\nintegration enhances environmental sustainability, it introduces challenges related to grid stability.\\n\\nMitigation strategies, including the implementation of energy storage systems and advanced\\n\\ncontrol algorithms, are proposed to address these challenges. The findings contribute to the\\n\\nongoing discourse on the transition to sustainable energy systems.\\n\\nKeywords: Renewable energy, power grid stability, wind power, solar power, frequency deviations, voltage fluctuations, transient stability, energy storage, control algorithms, sustainable energy systems.\\n\\nTEXTUAL PRESENTATION\\n\\nGeneral Rules:\\n\\nThe first line of every paragraph shall be indented. The paragraph shall be justified. Double space shall be maintained between lines and between paragraphs.\\n\\nThe main heading shall be printed in bold, uppercase, and centered align. Subsections shall be in bold printed in left side.\\n\\nPattern\\n\\nChapter I. INTRODUCTION\\n\\nBackground of the Study\\n\\nThe landscape of education has undergone a transformative shift in recent years with the\\n\\nadvent and widespread adoption of online learning platforms. The integration of technology into\\n\\neducation has ushered in a new era, reshaping traditional teaching methods and providing students\\n\\nwith alternative avenues for acquiring knowledge. As the use of online learning platforms becomes\\n\\nincreasingly prevalent, it is imperative to critically examine their impact on student academic\\n\\nperformance.\\n\\nChapter II: RELATED LITERATURE AND STUDIES\\n\\nChapter III: METHODOLOGY\\n\\nChapter IV: RESULT AND DISCUSSION\\n\\nChapter V: CONCLUSION AND RECOMMENDATIONS\\n\\nResearchers Contact Information (2 researcher / page)\\n\\nPicture Contact Information: Name Email Address\\n\\nEducation:\\n\\nDegree\\n\\nTraining/Seminars Attended (for the past 5 years) Skills: References:', path=None, url=None, mimetype=None), image_resource=None, audio_resource=None, video_resource=None, text_template='{metadata_str}\\n\\n{content}'),\n",
       " Document(id_='046c5dbc-0015-449c-8010-4d2153d65e70', embedding=None, metadata={'source_path': 'ATTIC TOURS SM FAIRVIEW.pdf'}, excluded_embed_metadata_keys=[], excluded_llm_metadata_keys=[], relationships={}, metadata_template='{key}: {value}', metadata_separator='\\n', text_resource=MediaResource(embeddings=None, data=None, text='ATTIC TOURS SM FAIRVIEW\\n\\nAttic Tours SM Fairview is currently located on the Upper Ground Level Parkway Building within SM City Fairview. The office will be open when the mall hours are available from 10am – 9pm except holidays when the SM Fairview is close. The Attic Tours SM Fairview does not have specific slots need to be filled within the day but have a cut off until 1pm.\\n\\nWhen entering the Attic Tours SM Fairview the first thing that you need to do is get your queuing number and wait for your number to be called and if ever your number is already called and you’re not in the area your number might get skip and you need to get a new queuing number.\\n\\nAt least one of the applicants will be applying for Japan Visa, no authorization is allowed when applying for visa, it is also applicable when getting your passport. All the documents should be provided the same day you’re applying because Attic Tours does not accept pending documents and if you can’t provide the documents that are needed you need to provide an explanation letter.\\n\\nEvery Attic Tours have a Japanese that can read your documents to have an accurate translation in your application. Japanese in the Attic Tours does not translate documents that are not included in the documents for applying for Japanese Visa.\\n\\nThe processing of your visa application might take 1-2 weeks but not guaranteed since some applications may took 2-3 days or longer than 2 weeks. Processing fee is 1680 per person then if you want to apply for multiple you need to add 500 pesos, so it will be 2180 per persons. If your application is already on the process you can wait for our call or text if ever you need send some additional documents or you can already pick up your passport. If you want to know an update in your application you can contact us in this number 0916 618 6165 or Facebook Page ATTIC TOURS SM FAIRVIEW.\\n\\nIf your application got denied you can re-apply for the same category after 6 months, however if you apply for different categories you can try to apply again but still it’s not guaranteed because this is still be decided by the embassy.\\n\\nEmbassy does not give specific reason for your denial.\\n\\nEmbassy does not give specific amount on your bank account but you should have bank certificate with ADB (Average Daily Balance) for 6 months, if you can’t present a bank certificate with ADB (Average Daily Balance) 6 months you should attach a bank statement with ADB (Average Daily Balance) 6 months, however if your bank certificate does have ADB/YTD (Average Daily Balance / Year to Date) it will be acceptable. Your bank certificate should be wet signed, if your bank certificate is e-signed it should have explanation letter or have a word that it is a e-signature\\n\\nYou need to have a original PSA issued within 1 year if you are a first timer, however if you have a previous it is not applicable. If your guarantor does not have a previous in Japan you both need a new PSA, if you’re first timer in Japan and your guarantor have previous you still both need a new PSA. If you and your guarantor does have previous in the Japan you need to provide a copy even though it is not issued within year.\\n\\nGuarantor should provide their bank certificate, COE (Certificate of Employment) and ITR (Income Tax Return) 2316 if employed, if under business property either 1701 or 1702.\\n\\nAvailing ticket before applying for visa is not applicable because it is not guaranteed if you will be approved or denied, wait for your visa before applying.\\n\\nWhen applying for multiple you need to have your own financial documents with or without guarantor. You also need to provide the multiple request form and check all the applicable to your application.\\n\\nThe documents is still available in Japan within 3 months of the issuance and it should be A4 size. Other documents like bank certificate, certificate of employment and itr can be used even though it is not A4 size.\\n\\nAppearance is not applicable in the Japan Embassy but you need to have an appearance when you apply to the Attic Tours because at least one of the applicants should be applying for the Japan Visa.\\n\\nThe validity of Single Entry visa is 3 months, for Multiple Entry is either 5 years or 10 years. It is still be the discretion of the embassy. Your multiple entry may not be granted and can be Single Entry.\\n\\nPassport is a very important document that need to provide. You need to sign your passport when applying for visa. If your old passport that have Japan Visa is lost you need to still acknowledge it but it will be a lost passport in your application.\\n\\nAll the payments that have been done is not refundable even if you are not granted a Multiple Entry.\\n\\nResults cannot be done over the phone, the results will only be known when the applicants pick up their passports.\\n\\nIf you want to apply for long term in Japan the person you know may help you process a Certificate of Eligibility in the Japan.\\n\\nAll Japanese documents can be a original or scanned copy but make sure that the details are readable. It can be black and white or colored.\\n\\nIf you have a boyfriend/girlfriend/fiancé you can apply for Japan Visa under Visiting Friends/Fiance. They can also be your guarantor when you go to Japan.\\n\\nYou might check the nearest Attic Tours Branch :\\n\\nMain Office where in Roxas Boulevard next to Japan Embassy\\n\\nContact us : 0917 631 0845\\n\\nSM Mall of Asia Branch - Unit 126 Level 1, South parking building, Marina Way, Mall of Asia Complex, Pasay, Metro Manila\\n\\nContact us : 0917 631 0848\\n\\nSM Megamall Branch - 5th Floor, Bldg. B, SM Megamall, Doña Julia Vargas Ave. cor. EDSA Wack-Wack Village, Mandaluyong City 1555.\\n\\nContact us : 0906 516 3246\\n\\nSM North Edsa Branch - Ground Floor, The Block, SM City North EDSA, Quezon City\\n\\nContact us : 0917 898 0905\\n\\nSM Southmall Branch - 343, 3/F, SM Southmall, Almanza Uno, Las Piñas City\\n\\nContact us : 0917 186 6853\\n\\nSM Fairview Branch - Upper Ground Level Parkway Building within SM City Fairview\\n\\nContact us : 0916 618 6165\\n\\nSM Clark Branch - Annex 3 Upper Ground Floor, Parkway Building, SM City Fairview, Novaliches, Quezon City, Metro Manila\\n\\nContact us : 0917 305 4292\\n\\nSM Cebu Branch - Lower Ground Floor, SM City Cebu, Cebu City, 6000 Cebu\\n\\nContact us : 0956 551 9834\\n\\nSM Davao Branch - 109 G/F Court View Inn Bldg Quimpo Blvd, Cor Guillermo E. Torres St, Davao City, Davao del Sur\\n\\nContact us : 0917 321 1328', path=None, url=None, mimetype=None), image_resource=None, audio_resource=None, video_resource=None, text_template='{metadata_str}\\n\\n{content}')]"
      ]
     },
     "execution_count": 2,
     "metadata": {},
     "output_type": "execute_result"
    }
   ],
   "source": [
    "from llama_index.core import VectorStoreIndex, SimpleDirectoryReader\n",
    "from llama_index.readers.file import UnstructuredReader\n",
    "import uuid\n",
    "import os\n",
    "\n",
    "\n",
    "input_dir = \"./data\"\n",
    "reader = UnstructuredReader()\n",
    "documents = []\n",
    "\n",
    "for root, dirs, files in os.walk(input_dir):\n",
    "    for file in files:\n",
    "        if file.lower().endswith(\".pdf\"):\n",
    "            file_path = os.path.join(root, file)\n",
    "            # read the PDF text\n",
    "            text = reader.load_data(file_path)  # returns a list of Documents\n",
    "            for doc in text:\n",
    "                doc.doc_id = str(uuid.uuid4())\n",
    "                # Save only the PDF file name\n",
    "                doc.extra_info = {\"source_path\": file}\n",
    "                documents.append(doc)\n",
    "\n",
    "documents"
   ]
  },
  {
   "cell_type": "code",
   "execution_count": 3,
   "id": "33a2555b",
   "metadata": {},
   "outputs": [
    {
     "name": "stdout",
     "output_type": "stream",
     "text": [
      "INFO:sentence_transformers.SentenceTransformer:Use pytorch device_name: cpu\n",
      "Use pytorch device_name: cpu\n",
      "INFO:sentence_transformers.SentenceTransformer:Load pretrained SentenceTransformer: all-MiniLM-L6-v2\n",
      "Load pretrained SentenceTransformer: all-MiniLM-L6-v2\n",
      "LLM is explicitly disabled. Using MockLLM.\n"
     ]
    }
   ],
   "source": [
    "from sentence_transformers import SentenceTransformer\n",
    "from llama_index.core.embeddings import BaseEmbedding\n",
    "from llama_index.core import StorageContext, Settings\n",
    "from pydantic import PrivateAttr\n",
    "\n",
    "\n",
    "class MyEmbeddings(BaseEmbedding):\n",
    "    _model: any = PrivateAttr()\n",
    "\n",
    "    def __init__(self, model):\n",
    "        super().__init__()\n",
    "        self._model = model  # HuggingFace model\n",
    "\n",
    "    def _get_text_embedding(self, text: str):\n",
    "        return self._model.encode(text).tolist()\n",
    "\n",
    "    def _get_query_embedding(self, query: str):\n",
    "        return self._model.encode(query).tolist()\n",
    "\n",
    "    async def _aget_text_embedding(self, text: str):\n",
    "        return self._get_text_embedding(text)\n",
    "\n",
    "    async def _aget_query_embedding(self, query: str):\n",
    "        return self._get_query_embedding(query)\n",
    "    \n",
    "hf_model = SentenceTransformer(\"all-MiniLM-L6-v2\")\n",
    "embed_model = MyEmbeddings(hf_model)\n",
    "\n",
    "# register your embedding model globally\n",
    "Settings.embed_model = embed_model\n",
    "# Explicitly disable LLM usage\n",
    "Settings.llm = None"
   ]
  },
  {
   "cell_type": "code",
   "execution_count": 4,
   "id": "5a383530",
   "metadata": {},
   "outputs": [],
   "source": [
    "from langchain.text_splitter import RecursiveCharacterTextSplitter\n",
    "\n",
    "class PdfBasedCustomSplitter:\n",
    "    \"\"\"\n",
    "    Custom text splitter for PDF documents that splits text recursively\n",
    "    using a combination of separators and a maximum token limit with overlap.\n",
    "    \"\"\"\n",
    "    def __init__(self, chunk_overlap_rate: float, max_tokens: int = 1000, separators: list[str] | None = None):\n",
    "        \"\"\"\n",
    "        :param chunk_overlap_rate: Fraction of overlap between chunks (0.0 - 1.0)\n",
    "        :param max_tokens: Approximate maximum number of tokens per chunk\n",
    "        :param separators: List of separators for recursive splitting\n",
    "        \"\"\"\n",
    "        self.chunk_overlap_rate = chunk_overlap_rate\n",
    "        self.max_tokens = max_tokens\n",
    "        self.separators = separators or [\"\\n\\n\", \"\\n\", \" \", \"\"]\n",
    "\n",
    "    def split_text(self, text: str) -> list[str]:\n",
    "        # Estimate number of splits based on tokens\n",
    "        tokens = text.split()\n",
    "        num_splits = (len(tokens) // self.max_tokens) + 1\n",
    "        chunk_size = max(1, len(text) // num_splits)\n",
    "        chunk_overlap = int(chunk_size * self.chunk_overlap_rate)\n",
    "\n",
    "        splitter = RecursiveCharacterTextSplitter(\n",
    "            chunk_size=chunk_size,\n",
    "            chunk_overlap=chunk_overlap,\n",
    "            separators=self.separators,\n",
    "        )\n",
    "        return splitter.split_text(text)\n"
   ]
  },
  {
   "cell_type": "markdown",
   "id": "d97d0998",
   "metadata": {},
   "source": [
    "Context Augmented"
   ]
  },
  {
   "cell_type": "code",
   "execution_count": 5,
   "id": "8caf1083",
   "metadata": {},
   "outputs": [],
   "source": [
    "from llama_index.core.schema import TextNode\n",
    "\n",
    "\n",
    "class ContextAugmentNodeProcessor:\n",
    "    def __init__(self, whole_text: str):\n",
    "        self.whole_text = whole_text\n",
    "\n",
    "    def process_node(self, node: TextNode) -> TextNode:\n",
    "        # Store the local chunk in metadata\n",
    "        node.metadata[\"chunk_text\"] = node.text\n",
    "        # Augment the node text with the whole PDF context\n",
    "        node.text = self.whole_text + \"\\n\\n\" + node.text\n",
    "        return node"
   ]
  },
  {
   "cell_type": "code",
   "execution_count": 6,
   "id": "f82396f2",
   "metadata": {},
   "outputs": [],
   "source": [
    "splitter = PdfBasedCustomSplitter(chunk_overlap_rate=0.1, max_tokens=500)\n",
    "nodes = []\n",
    "for doc in documents:\n",
    "    chunks = splitter.split_text(doc.text)\n",
    "    \n",
    "    postprocessor = ContextAugmentNodeProcessor(doc.text)\n",
    "    nodes.extend([postprocessor.process_node(TextNode(text=chunk)) for chunk in chunks])\n"
   ]
  },
  {
   "cell_type": "code",
   "execution_count": 7,
   "id": "4ed01e16",
   "metadata": {},
   "outputs": [
    {
     "name": "stdout",
     "output_type": "stream",
     "text": [
      "INFO:httpx:HTTP Request: GET http://localhost:8080/v1/meta \"HTTP/1.1 200 OK\"\n",
      "HTTP Request: GET http://localhost:8080/v1/meta \"HTTP/1.1 200 OK\"\n",
      "INFO:httpx:HTTP Request: GET http://localhost:8080/v1/schema \"HTTP/1.1 200 OK\"\n",
      "HTTP Request: GET http://localhost:8080/v1/schema \"HTTP/1.1 200 OK\"\n",
      "INFO:httpx:HTTP Request: DELETE http://localhost:8080/v1/schema/DocumentChunk \"HTTP/1.1 200 OK\"\n",
      "HTTP Request: DELETE http://localhost:8080/v1/schema/DocumentChunk \"HTTP/1.1 200 OK\"\n",
      "INFO:httpx:HTTP Request: GET http://localhost:8080/v1/schema/DocumentChunk \"HTTP/1.1 404 Not Found\"\n",
      "HTTP Request: GET http://localhost:8080/v1/schema/DocumentChunk \"HTTP/1.1 404 Not Found\"\n",
      "INFO:httpx:HTTP Request: POST http://localhost:8080/v1/schema \"HTTP/1.1 200 OK\"\n",
      "HTTP Request: POST http://localhost:8080/v1/schema \"HTTP/1.1 200 OK\"\n"
     ]
    },
    {
     "name": "stderr",
     "output_type": "stream",
     "text": [
      "Batches: 100%|██████████| 1/1 [00:00<00:00,  3.66it/s]\n",
      "Batches: 100%|██████████| 1/1 [00:00<00:00, 12.33it/s]\n",
      "Batches: 100%|██████████| 1/1 [00:00<00:00, 14.13it/s]\n",
      "Batches: 100%|██████████| 1/1 [00:00<00:00, 12.57it/s]\n",
      "Batches: 100%|██████████| 1/1 [00:00<00:00, 12.22it/s]\n",
      "Batches: 100%|██████████| 1/1 [00:00<00:00, 16.60it/s]\n",
      "Batches: 100%|██████████| 1/1 [00:00<00:00, 19.87it/s]\n",
      "Batches: 100%|██████████| 1/1 [00:00<00:00, 23.17it/s]\n",
      "Batches: 100%|██████████| 1/1 [00:00<00:00, 19.43it/s]\n",
      "Batches: 100%|██████████| 1/1 [00:00<00:00, 23.10it/s]"
     ]
    },
    {
     "name": "stdout",
     "output_type": "stream",
     "text": [
      "INFO:httpx:HTTP Request: GET http://localhost:8080/v1/schema \"HTTP/1.1 200 OK\"\n",
      "HTTP Request: GET http://localhost:8080/v1/schema \"HTTP/1.1 200 OK\"\n",
      "INFO:httpx:HTTP Request: GET http://localhost:8080/v1/nodes \"HTTP/1.1 200 OK\"\n",
      "HTTP Request: GET http://localhost:8080/v1/nodes \"HTTP/1.1 200 OK\"\n"
     ]
    },
    {
     "name": "stderr",
     "output_type": "stream",
     "text": [
      "\n"
     ]
    },
    {
     "name": "stdout",
     "output_type": "stream",
     "text": [
      "INFO:httpx:HTTP Request: GET http://localhost:8080/v1/nodes \"HTTP/1.1 200 OK\"\n",
      "HTTP Request: GET http://localhost:8080/v1/nodes \"HTTP/1.1 200 OK\"\n"
     ]
    }
   ],
   "source": [
    "import weaviate\n",
    "from llama_index.vector_stores.weaviate import WeaviateVectorStore\n",
    "\n",
    "\n",
    "connection_config = {\"port\": 8080, \"grpc_port\": 50051, \"skip_init_checks\": True}\n",
    "client = weaviate.connect_to_local(**connection_config)\n",
    "client.collections.delete_all()\n",
    "vector_store = WeaviateVectorStore(weaviate_client=client, index_name=\"DocumentChunk\")\n",
    "storage_context = StorageContext.from_defaults(vector_store=vector_store)\n",
    "\n",
    "index = VectorStoreIndex(nodes=nodes, storage_context=storage_context)"
   ]
  },
  {
   "cell_type": "code",
   "execution_count": 8,
   "id": "e4f48ef6",
   "metadata": {},
   "outputs": [],
   "source": [
    "from llama_index.llms.ollama import Ollama\n",
    "\n",
    "\n",
    "# Example: using llama3 model locally\n",
    "llm = Ollama(model=\"gemma3:1b\", base_url=\"http://localhost:11434\",request_timeout=300)\n",
    "\n"
   ]
  },
  {
   "cell_type": "code",
   "execution_count": 9,
   "id": "22143d4d",
   "metadata": {},
   "outputs": [
    {
     "name": "stdout",
     "output_type": "stream",
     "text": [
      "INFO:httpx:HTTP Request: POST http://localhost:11434/api/show \"HTTP/1.1 200 OK\"\n",
      "HTTP Request: POST http://localhost:11434/api/show \"HTTP/1.1 200 OK\"\n",
      "INFO:llama_index.core.chat_engine.condense_question:Querying with: Tell me about Japan visa\n",
      "Querying with: Tell me about Japan visa\n"
     ]
    },
    {
     "name": "stderr",
     "output_type": "stream",
     "text": [
      "Batches: 100%|██████████| 1/1 [00:00<00:00, 69.40it/s]"
     ]
    },
    {
     "name": "stdout",
     "output_type": "stream",
     "text": [
      "\n",
      "--- Streaming Answer ---\n",
      "\n"
     ]
    },
    {
     "name": "stderr",
     "output_type": "stream",
     "text": [
      "\n"
     ]
    },
    {
     "name": "stdout",
     "output_type": "stream",
     "text": [
      "INFO:httpx:HTTP Request: POST http://localhost:11434/api/chat \"HTTP/1.1 200 OK\"\n",
      "HTTP Request: POST http://localhost:11434/api/chat \"HTTP/1.1 200 OK\"\n",
      "The validity of Single Entry visa is 3 months, for Multiple Entry is either 5 years or 10 years. It is still be the discretion of the embassy. Your multiple entry may not be granted and can be Single Entry. Passport is a very important document that need to provide. You need to sign your passport when applying for visa. If your old passport that have Japan Visa is lost you need to still acknowledge it but it will be a lost passport in your application.\n",
      "\n",
      "All the payments that have been done is not refundable even if you are not granted a Multiple Entry.\n",
      "\n",
      "Results cannot be done over the phone, the results will only be known when the applicants pick up their passports.\n",
      "\n",
      "If you want to apply for long term in Japan the person you know may help you process a Certificate of Eligibility in the Japan.\n",
      "\n",
      "All Japanese documents can be a original or scanned copy but make sure that the details are readable. It can be black and white or colored.\n",
      "\n",
      "If your application got denied you can re-apply for the same category after 6 months, however if you apply for different categories you can try to apply again but still it’s not guaranteed because this is still be decided by the embassy.\n",
      "\n",
      "Embassy does not give specific reason for your denial.\n",
      "\n",
      "Embassy does not give specific amount on your bank account but you should have bank certificate with ADB (Average Daily Balance) for 6 months, if you can’t present a bank certificate with ADB (Average Daily Balance) 6 months you should attach a bank statement with ADB (Average Daily Balance) 6 months, however if your bank certificate does have ADB/YTD (Average Daily Balance / Year to Date) it will be acceptable. Your bank certificate should be wet signed, if your bank certificate is e-signed it should have explanation letter or have a word that it is a e-signature\n",
      "\n",
      "You need to have a original PSA issued within 1 year if you are a first timer, however if you have a previous it is not applicable. If your guarantor does not have a previous in Japan you both need a new PSA, if you’re first timer in Japan and your guarantor have previous you still both need a new PSA. If you and your guarantor does have previous in the Japan you need to provide a copy even though it is not issued within year.\n",
      "\n",
      "Guarantor should provide their bank certificate, COE (Certificate of Employment) and ITR (Income Tax Return) 2316 if employed, if under business property either 1701 or 1702.\n",
      "\n",
      "Availing ticket before applying for visa is not applicable because it is not guaranteed if you will be approved or denied, wait for your visa before applying.\n",
      "\n",
      "When applying for multiple you need to have your own financial documents with or without guarantor. You also need to provide the multiple request form and check all the applicable to your application.\n",
      "\n",
      "The documents is still available in Japan within 3 months of the issuance and it should be A4 size. Other documents like bank certificate, certificate of employment and itr can be used even though it is not A4 size.\n",
      "\n",
      "Appearance is not applicable in the Japan Embassy but you need to have an appearance when you apply to the Attic Tours because at least one of the applicants should be applying for the Japan Visa.\n",
      "\n",
      "\n",
      "✅ Done\n"
     ]
    }
   ],
   "source": [
    "from llama_index.core.chat_engine import CondenseQuestionChatEngine\n",
    "\n",
    "# First build a query engine\n",
    "query_engine = index.as_query_engine(\n",
    "    llm=llm,\n",
    "    similarity_top_k=2\n",
    ")\n",
    "\n",
    "# Then wrap it with chat engine (streaming enabled)\n",
    "chat_engine = CondenseQuestionChatEngine.from_defaults(\n",
    "    query_engine=query_engine,\n",
    "    llm=llm,\n",
    "    streaming=True\n",
    ")\n",
    "\n",
    "# Run streaming chat\n",
    "response_stream = chat_engine.stream_chat(\"Tell me about Japan visa\")\n",
    "\n",
    "print(\"\\n--- Streaming Answer ---\\n\")\n",
    "for token in response_stream.response_gen:\n",
    "    print(token, end=\"\", flush=True)\n",
    "\n",
    "print(\"\\n\\n✅ Done\")\n"
   ]
  },
  {
   "cell_type": "code",
   "execution_count": 10,
   "id": "26faf755",
   "metadata": {},
   "outputs": [
    {
     "name": "stdout",
     "output_type": "stream",
     "text": [
      "Saved 10 chunks to weaviate_chunks.json\n"
     ]
    }
   ],
   "source": [
    "import json\n",
    "\n",
    "\n",
    "# Specify the class name\n",
    "class_name = \"DocumentChunk\"\n",
    "\n",
    "# Access the collection\n",
    "collection = client.collections.use(class_name)\n",
    "\n",
    "# Initialize a list to store all chunks\n",
    "all_chunks = []\n",
    "\n",
    "# Iterate over all objects in the collection\n",
    "for obj in collection.iterator():\n",
    "    all_chunks.append({\n",
    "        \"doc_id\": str(obj.properties.get(\"doc_id\")),\n",
    "        \"text\": obj.properties.get(\"text\"),\n",
    "        \"source\": obj.properties.get(\"source\"),\n",
    "        \"chunk_text\": obj.properties.get(\"chunk_text\")\n",
    "    })\n",
    "\n",
    "# Save the chunks to a JSON file\n",
    "with open(\"weaviate_chunks.json\", \"w\", encoding=\"utf-8\") as f:\n",
    "    json.dump(all_chunks, f, ensure_ascii=False, indent=2)\n",
    "\n",
    "print(f\"Saved {len(all_chunks)} chunks to weaviate_chunks.json\")\n"
   ]
  },
  {
   "cell_type": "code",
   "execution_count": 11,
   "id": "3b518438",
   "metadata": {},
   "outputs": [
    {
     "name": "stdout",
     "output_type": "stream",
     "text": [
      "LLM is explicitly disabled. Using MockLLM.\n"
     ]
    },
    {
     "name": "stderr",
     "output_type": "stream",
     "text": [
      "Batches: 100%|██████████| 1/1 [00:00<00:00, 13.94it/s]\n"
     ]
    },
    {
     "data": {
      "text/plain": [
       "[NodeWithScore(node=TextNode(id_='7caaf97c-366f-4cd1-a3ed-1a4fcffd0dfb', embedding=[-0.009340844117105007, -0.04449395835399628, -0.006907307077199221, 0.00946510024368763, -0.030002763494849205, -0.01704428158700466, -0.029617222025990486, 0.013412820175290108, -0.033597636967897415, 0.038043685257434845, 0.02901093102991581, -0.011669104918837547, -0.08081034570932388, 0.0025478550232946873, 0.024813009425997734, 0.009965886361896992, 0.014109374023973942, -0.05593471601605415, -0.03745715692639351, 0.04233357682824135, 0.0657731145620346, -0.06729663908481598, -0.032790228724479675, 0.016060587018728256, -0.03519478812813759, -0.0814952626824379, -0.04516886547207832, 0.06121789291501045, -0.06065722182393074, -0.07139606028795242, 0.037777744233608246, 0.05656404048204422, -0.002618806902319193, 0.006189359817653894, 0.1027594730257988, -0.04652105271816254, -0.034342531114816666, -0.04316895455121994, 0.0032359270844608545, -0.11129771173000336, 0.0285821370780468, 0.04216476529836655, -0.002366581466048956, 0.007525220047682524, -0.03725028410553932, -0.02859417349100113, -0.018133239820599556, -0.00824380200356245, 0.0009310953319072723, 0.05596929043531418, -0.04918950796127319, -0.030813055112957954, -0.015613224357366562, 0.03874295577406883, -0.0069099534302949905, 0.07269095629453659, -0.003914016764611006, -0.07596898823976517, -0.019024787470698357, -0.023627666756510735, -0.03575409948825836, -0.0497952364385128, -0.08470510691404343, -0.023989472538232803, -0.003921622410416603, -0.013530169613659382, -0.05429016053676605, 0.04538962244987488, 0.0945620983839035, -0.11767438054084778, 0.010068761184811592, -0.05071840435266495, 0.05961348116397858, 0.03622245416045189, 0.0767989456653595, 0.074918232858181, 0.004922293592244387, -0.015042075887322426, 0.05982217192649841, -0.08380556106567383, -0.027415884658694267, 0.037868451327085495, -0.03830045089125633, -0.0021117287687957287, -0.014565194956958294, 0.03258523717522621, -0.03365936130285263, 0.09103076159954071, 0.03435583412647247, 0.03664020448923111, 0.08806455135345459, 0.16850833594799042, -0.14480237662792206, -0.07323843985795975, 0.006953711621463299, -0.03847916051745415, -0.04580659419298172, 0.033795926719903946, -0.017663806676864624, 0.0469544343650341, 0.08626767247915268, 0.0502241849899292, 0.0915391594171524, -0.08266080915927887, -0.052480462938547134, -0.016045743599534035, 0.06345043331384659, -0.00855637900531292, -0.12560173869132996, -0.04401182755827904, 0.023643294349312782, -0.02593553066253662, 0.004896416794508696, -0.05457589402794838, -0.023255087435245514, 0.027244066819548607, 0.03400463983416557, 0.02742251753807068, -0.01630261540412903, -0.03878774121403694, -0.04817204549908638, -0.0112694026902318, 0.01652972400188446, -0.09257740527391434, -0.027200374752283096, -0.015687182545661926, -0.043218109756708145, 1.324707342548647e-32, -0.030138961970806122, 0.0037852355744689703, -0.023623334243893623, -0.028249355033040047, 0.12843692302703857, -0.06960112601518631, -0.03111215867102146, -0.028553707525134087, -0.025632407516241074, 0.07668441534042358, -0.023031489923596382, -0.052558720111846924, -0.00015558674931526184, -0.14188942313194275, 0.010527837090194225, -0.08344881981611252, 0.06824647635221481, -0.024817125871777534, -0.10328423976898193, -0.02951471135020256, 0.02142246626317501, -0.10729822516441345, -0.05947794020175934, -0.060263779014348984, 0.04222889617085457, 0.06669419258832932, 0.059887342154979706, 0.009181734174489975, 0.05121621489524841, 0.029011476784944534, 0.016594840213656425, 0.018952621147036552, 0.04419685900211334, -0.02927022986114025, -0.009740590117871761, 0.08202631026506424, -0.031182780861854553, -0.038809072226285934, -0.039782341569662094, -0.005476007238030434, 0.0072020008228719234, -0.03800441697239876, 0.022296613082289696, 0.07352184504270554, 0.024570243433117867, -0.017857780680060387, 0.01751082018017769, -0.008152099326252937, 0.11284569650888443, 0.06787911802530289, 0.025740625336766243, -0.08482751250267029, -0.01528937742114067, -0.029495375230908394, 0.031433023512363434, 0.055999282747507095, -0.02593272179365158, -0.011971155181527138, 0.047699909657239914, 0.02245509810745716, 0.0002170471561839804, 0.022747984156012535, -0.1326030194759369, 0.055071279406547546, 0.0016816849820315838, -0.011756759136915207, -2.1444997400976717e-05, -0.03236163780093193, 0.03305691108107567, -0.06522270292043686, 0.012268110178411007, -0.05866182968020439, 0.04573800787329674, 0.009535068646073341, -0.02382265217602253, 0.006993885152041912, -0.0657319501042366, 0.09631142765283585, -0.0026075579226017, 0.03736810013651848, -0.05468866601586342, 0.05044309049844742, -0.023314494639635086, 0.07850616425275803, 0.06921413540840149, -0.060617562383413315, 0.041814908385276794, -0.03715691342949867, -0.02174907736480236, -0.03723931685090065, 0.022733144462108612, -0.01239568181335926, 0.020407790318131447, 0.042411498725414276, -0.005035562440752983, -1.2030527873197591e-32, 0.02267307974398136, -0.0657997578382492, 0.06284264475107193, 0.014570841565728188, -0.002575428457930684, 0.002236207714304328, -0.0445793978869915, -0.0630260780453682, 0.03738588094711304, -0.00336208613589406, -0.06920433044433594, 0.07790679484605789, -0.004832257516682148, -0.06080474704504013, 0.08218470960855484, 0.003964255563914776, 0.1072222962975502, 0.01985279843211174, -0.00469969492405653, 0.04657085984945297, 0.03940853103995323, 0.1163688525557518, 0.0069296834990382195, 0.009250602684915066, -0.007245198357850313, -0.0023901788517832756, 0.08051353693008423, 0.012702837586402893, 0.06297123432159424, 0.04878564178943634, -0.013829254545271397, -0.018599670380353928, -0.03927116096019745, 0.0007016801391728222, -0.025847764685750008, -0.11068157851696014, 0.11316682398319244, 0.02841108851134777, -0.020615609362721443, 0.11042534559965134, 0.04990741237998009, 0.02202111855149269, 0.023084599524736404, 0.033630095422267914, -0.03465084359049797, 0.0024545371998101473, 0.02517077885568142, -0.11476491391658783, -0.04656658321619034, -0.08397775888442993, 0.0014819359639659524, -0.0008821662049740553, -0.041089534759521484, 0.019850825890898705, 0.07410410046577454, 0.05437195301055908, 0.03198070824146271, -0.02209067903459072, 0.011127067729830742, -0.03802735358476639, 0.020712366327643394, -0.055887337774038315, -0.04948951303958893, 0.039734892547130585, 0.03382669761776924, -0.0025999092031270266, -0.019776422530412674, -0.049498315900564194, -0.009289898909628391, -0.04419415071606636, -0.050161249935626984, -0.0061670634895563126, -0.07658717036247253, -0.07689935714006424, -0.03951221704483032, 0.04577779397368431, 0.041292257606983185, 0.07629548013210297, 0.014673501253128052, 0.010921347886323929, 0.04194478690624237, -0.05818551406264305, -0.05480216071009636, 0.024454645812511444, 0.023460133001208305, -0.04726005345582962, 0.007863731123507023, -0.05298589915037155, -0.026179293170571327, 0.0033474555239081383, -0.045483656227588654, -0.006377541925758123, 0.02613811567425728, 0.0968213602900505, -0.05744254216551781, -5.530790048169365e-08, -0.03653605282306671, 0.11564042419195175, 0.007003282196819782, 0.09392385184764862, 0.026108182966709137, -0.024557074531912804, 0.016428565606474876, 0.028469784185290337, 0.017011141404509544, 0.0513802208006382, -0.029801947996020317, -0.02382834441959858, -0.012142516672611237, -0.02716200426220894, -0.0009877642150968313, 0.006716966163367033, -0.012575178407132626, 0.06003063544631004, -0.016824131831526756, 0.09951905161142349, -0.014656191691756248, 0.04121863469481468, 0.036042291671037674, 0.015688396990299225, -0.09821952879428864, 0.051997821778059006, -0.02040739543735981, -0.007106935605406761, 0.03467369079589844, -0.009899280034005642, 0.010968870483338833, 0.0837690681219101, 0.06542114913463593, -0.016538070514798164, -0.036749694496393204, -0.06784171611070633, -0.010622789151966572, -0.019620630890130997, 0.045061103999614716, 0.11579561233520508, 0.0248040109872818, -0.12125056982040405, 0.04716517776250839, 0.006797846406698227, -0.00255555915646255, -0.00048200556193478405, -0.015367088839411736, 0.0569133386015892, -0.03849302604794502, -0.024300385266542435, -0.057064805179834366, 0.010601568967103958, -0.036168113350868225, -0.055247217416763306, -0.012616792693734169, 0.03348516672849655, 0.12979036569595337, -0.00694264005869627, -0.04979462921619415, 0.04336949810385704, 0.10554801672697067, 0.009152703918516636, -0.12601594626903534, 0.024520212784409523], metadata={'chunk_text': 'SM Southmall Branch - 343, 3/F, SM Southmall, Almanza Uno, Las Piñas City\\n\\nContact us : 0917 186 6853\\n\\nSM Fairview Branch - Upper Ground Level Parkway Building within SM City Fairview\\n\\nContact us : 0916 618 6165\\n\\nSM Clark Branch - Annex 3 Upper Ground Floor, Parkway Building, SM City Fairview, Novaliches, Quezon City, Metro Manila\\n\\nContact us : 0917 305 4292\\n\\nSM Cebu Branch - Lower Ground Floor, SM City Cebu, Cebu City, 6000 Cebu\\n\\nContact us : 0956 551 9834\\n\\nSM Davao Branch - 109 G/F Court View Inn Bldg Quimpo Blvd, Cor Guillermo E. Torres St, Davao City, Davao del Sur\\n\\nContact us : 0917 321 1328'}, excluded_embed_metadata_keys=[], excluded_llm_metadata_keys=[], relationships={}, metadata_template='{key}: {value}', metadata_separator='\\n', text='ATTIC TOURS SM FAIRVIEW\\n\\nAttic Tours SM Fairview is currently located on the Upper Ground Level Parkway Building within SM City Fairview. The office will be open when the mall hours are available from 10am – 9pm except holidays when the SM Fairview is close. The Attic Tours SM Fairview does not have specific slots need to be filled within the day but have a cut off until 1pm.\\n\\nWhen entering the Attic Tours SM Fairview the first thing that you need to do is get your queuing number and wait for your number to be called and if ever your number is already called and you’re not in the area your number might get skip and you need to get a new queuing number.\\n\\nAt least one of the applicants will be applying for Japan Visa, no authorization is allowed when applying for visa, it is also applicable when getting your passport. All the documents should be provided the same day you’re applying because Attic Tours does not accept pending documents and if you can’t provide the documents that are needed you need to provide an explanation letter.\\n\\nEvery Attic Tours have a Japanese that can read your documents to have an accurate translation in your application. Japanese in the Attic Tours does not translate documents that are not included in the documents for applying for Japanese Visa.\\n\\nThe processing of your visa application might take 1-2 weeks but not guaranteed since some applications may took 2-3 days or longer than 2 weeks. Processing fee is 1680 per person then if you want to apply for multiple you need to add 500 pesos, so it will be 2180 per persons. If your application is already on the process you can wait for our call or text if ever you need send some additional documents or you can already pick up your passport. If you want to know an update in your application you can contact us in this number 0916 618 6165 or Facebook Page ATTIC TOURS SM FAIRVIEW.\\n\\nIf your application got denied you can re-apply for the same category after 6 months, however if you apply for different categories you can try to apply again but still it’s not guaranteed because this is still be decided by the embassy.\\n\\nEmbassy does not give specific reason for your denial.\\n\\nEmbassy does not give specific amount on your bank account but you should have bank certificate with ADB (Average Daily Balance) for 6 months, if you can’t present a bank certificate with ADB (Average Daily Balance) 6 months you should attach a bank statement with ADB (Average Daily Balance) 6 months, however if your bank certificate does have ADB/YTD (Average Daily Balance / Year to Date) it will be acceptable. Your bank certificate should be wet signed, if your bank certificate is e-signed it should have explanation letter or have a word that it is a e-signature\\n\\nYou need to have a original PSA issued within 1 year if you are a first timer, however if you have a previous it is not applicable. If your guarantor does not have a previous in Japan you both need a new PSA, if you’re first timer in Japan and your guarantor have previous you still both need a new PSA. If you and your guarantor does have previous in the Japan you need to provide a copy even though it is not issued within year.\\n\\nGuarantor should provide their bank certificate, COE (Certificate of Employment) and ITR (Income Tax Return) 2316 if employed, if under business property either 1701 or 1702.\\n\\nAvailing ticket before applying for visa is not applicable because it is not guaranteed if you will be approved or denied, wait for your visa before applying.\\n\\nWhen applying for multiple you need to have your own financial documents with or without guarantor. You also need to provide the multiple request form and check all the applicable to your application.\\n\\nThe documents is still available in Japan within 3 months of the issuance and it should be A4 size. Other documents like bank certificate, certificate of employment and itr can be used even though it is not A4 size.\\n\\nAppearance is not applicable in the Japan Embassy but you need to have an appearance when you apply to the Attic Tours because at least one of the applicants should be applying for the Japan Visa.\\n\\nThe validity of Single Entry visa is 3 months, for Multiple Entry is either 5 years or 10 years. It is still be the discretion of the embassy. Your multiple entry may not be granted and can be Single Entry.\\n\\nPassport is a very important document that need to provide. You need to sign your passport when applying for visa. If your old passport that have Japan Visa is lost you need to still acknowledge it but it will be a lost passport in your application.\\n\\nAll the payments that have been done is not refundable even if you are not granted a Multiple Entry.\\n\\nResults cannot be done over the phone, the results will only be known when the applicants pick up their passports.\\n\\nIf you want to apply for long term in Japan the person you know may help you process a Certificate of Eligibility in the Japan.\\n\\nAll Japanese documents can be a original or scanned copy but make sure that the details are readable. It can be black and white or colored.\\n\\nIf you have a boyfriend/girlfriend/fiancé you can apply for Japan Visa under Visiting Friends/Fiance. They can also be your guarantor when you go to Japan.\\n\\nYou might check the nearest Attic Tours Branch :\\n\\nMain Office where in Roxas Boulevard next to Japan Embassy\\n\\nContact us : 0917 631 0845\\n\\nSM Mall of Asia Branch - Unit 126 Level 1, South parking building, Marina Way, Mall of Asia Complex, Pasay, Metro Manila\\n\\nContact us : 0917 631 0848\\n\\nSM Megamall Branch - 5th Floor, Bldg. B, SM Megamall, Doña Julia Vargas Ave. cor. EDSA Wack-Wack Village, Mandaluyong City 1555.\\n\\nContact us : 0906 516 3246\\n\\nSM North Edsa Branch - Ground Floor, The Block, SM City North EDSA, Quezon City\\n\\nContact us : 0917 898 0905\\n\\nSM Southmall Branch - 343, 3/F, SM Southmall, Almanza Uno, Las Piñas City\\n\\nContact us : 0917 186 6853\\n\\nSM Fairview Branch - Upper Ground Level Parkway Building within SM City Fairview\\n\\nContact us : 0916 618 6165\\n\\nSM Clark Branch - Annex 3 Upper Ground Floor, Parkway Building, SM City Fairview, Novaliches, Quezon City, Metro Manila\\n\\nContact us : 0917 305 4292\\n\\nSM Cebu Branch - Lower Ground Floor, SM City Cebu, Cebu City, 6000 Cebu\\n\\nContact us : 0956 551 9834\\n\\nSM Davao Branch - 109 G/F Court View Inn Bldg Quimpo Blvd, Cor Guillermo E. Torres St, Davao City, Davao del Sur\\n\\nContact us : 0917 321 1328\\n\\nSM Southmall Branch - 343, 3/F, SM Southmall, Almanza Uno, Las Piñas City\\n\\nContact us : 0917 186 6853\\n\\nSM Fairview Branch - Upper Ground Level Parkway Building within SM City Fairview\\n\\nContact us : 0916 618 6165\\n\\nSM Clark Branch - Annex 3 Upper Ground Floor, Parkway Building, SM City Fairview, Novaliches, Quezon City, Metro Manila\\n\\nContact us : 0917 305 4292\\n\\nSM Cebu Branch - Lower Ground Floor, SM City Cebu, Cebu City, 6000 Cebu\\n\\nContact us : 0956 551 9834\\n\\nSM Davao Branch - 109 G/F Court View Inn Bldg Quimpo Blvd, Cor Guillermo E. Torres St, Davao City, Davao del Sur\\n\\nContact us : 0917 321 1328', mimetype='text/plain', start_char_idx=None, end_char_idx=None, metadata_seperator='\\n', text_template='{metadata_str}\\n\\n{content}'), score=0.9128876328468323),\n",
       " NodeWithScore(node=TextNode(id_='791b9e3b-9d42-4ec4-80e4-7a45e3a6c20f', embedding=[-0.01526036486029625, -0.041801419109106064, 0.05265386402606964, -0.048520784825086594, -0.0017531760968267918, -0.006832351442426443, 0.04061651602387428, -0.04783857613801956, -0.03605321794748306, 0.021258164197206497, 0.009462201036512852, 0.010115538723766804, -0.037267863750457764, 0.050122909247875214, 0.016456086188554764, -0.025393221527338028, 0.03575575351715088, -0.07011796534061432, -0.008584026247262955, 0.023388544097542763, 0.06783836334943771, -0.054996829479932785, -0.03337497264146805, -0.013897058553993702, 0.01229886058717966, 0.02883843146264553, 0.008148740977048874, 0.007154828403145075, -0.019847888499498367, 0.007225675042718649, 0.035059988498687744, 0.050980664789676666, -0.014048260636627674, -0.010806472040712833, 0.14483271539211273, 0.028093019500374794, -0.04192344844341278, -0.03558113053441048, -0.04325283318758011, -0.0994226261973381, 0.037882931530475616, 0.02157665230333805, 0.018902631476521492, -0.012476162984967232, -0.00040791730862110853, -0.043399207293987274, 0.06486586481332779, -0.03102460689842701, 0.0006081487517803907, 0.07301678508520126, -0.06300997734069824, -0.02193794772028923, -0.002414544578641653, -0.008190630935132504, -0.00708454055711627, 0.06905192881822586, 0.017224034294486046, -0.05501057580113411, -0.10755733400583267, -0.018086764961481094, -0.08236616849899292, -0.0679335817694664, -0.05125346779823303, -0.024497807025909424, 0.0046885451301932335, -0.0196774210780859, -0.09327318519353867, 0.05191963165998459, 0.11745578795671463, -0.10112036764621735, 0.030986348167061806, 0.019731996580958366, 0.051528602838516235, 0.016957229003310204, -0.022187693044543266, -0.010644434951245785, -0.051943760365247726, 0.015274086967110634, 0.09142859280109406, -0.07053454965353012, -0.06557177752256393, -0.0273145642131567, 0.00798643846064806, -0.011876466684043407, 0.0006636912585236132, 0.0032924190163612366, -0.02097463421523571, 0.05562249571084976, 0.018670793622732162, 0.1145884171128273, 0.13422082364559174, 0.063028983771801, -0.07219119369983673, -0.04324160888791084, -0.014856498688459396, -0.008458868600428104, -0.06839611381292343, 0.05522174388170242, -0.017641961574554443, 0.02811451628804207, 0.09120649099349976, 0.03247220069169998, 0.057944368571043015, -0.05515139549970627, -0.042492035776376724, -0.049238983541727066, 0.05360838770866394, -0.03154059126973152, -0.08179697394371033, 0.010947351343929768, 0.03429587185382843, -0.025814911350607872, 0.029158703982830048, 0.04053126648068428, -0.05924772843718529, 0.05007734149694443, 0.0883808434009552, 0.03011440299451351, 0.024966275319457054, 0.007263173349201679, -0.03012680634856224, 0.028570057824254036, 0.08149851113557816, -0.08920460194349289, -0.03127145394682884, 0.05943971127271652, -0.03335253521800041, 4.038393944518676e-33, -0.03404944762587547, 0.010278581641614437, -0.029203956946730614, -0.024757524952292442, 0.06582242250442505, -0.11137992888689041, -0.054150283336639404, -0.00401238352060318, 0.03173770755529404, 0.00107469130307436, -0.022755006328225136, -0.0448315292596817, 0.02411891147494316, -0.13370603322982788, -0.03750624880194664, -0.024368472397327423, 0.03140876814723015, 0.008321552537381649, 0.017716776579618454, -0.00998014211654663, 0.10192066431045532, -0.12475872784852982, -0.0461299754679203, -0.004701078869402409, 0.040411997586488724, -0.008607618510723114, 0.014273100532591343, -0.023644357919692993, -0.004896336700767279, 0.06437581032514572, 0.04431087523698807, -0.019864950329065323, 0.017353156581521034, -0.023041676729917526, 0.04418307542800903, 0.07655098289251328, -0.010530279017984867, -0.02493874356150627, -0.03340822830796242, -0.02700839564204216, -0.026144277304410934, -0.09067350625991821, -0.04242909699678421, 0.07507605105638504, 0.040717724710702896, 0.0034588566049933434, 0.06276417523622513, 0.0035902303643524647, 0.07491191476583481, 0.0967220664024353, -0.03538072854280472, -0.07710062712430954, 0.02176028862595558, -0.08965826034545898, 0.005879429634660482, 0.033837851136922836, 0.07271773368120193, 0.015456275083124638, 0.01435299962759018, -0.006098064128309488, -0.028871826827526093, 0.003854922018945217, -0.14168681204319, 0.06875308603048325, 0.030537249520421028, -0.032407764345407486, 0.020293409004807472, -0.07691681385040283, -0.01930624432861805, -0.06800608336925507, 0.03954026475548744, -0.048492182046175, 0.04099087789654732, 0.02537577971816063, -0.01862221583724022, 0.0018375853542238474, -0.041888121515512466, 0.07129458338022232, -0.0028486817609518766, 0.04066940397024155, -0.011953465640544891, 0.015584909357130527, -0.06157384440302849, 0.059280384331941605, 0.06894383579492569, 0.03929748013615608, 0.09727118909358978, -0.005592671688646078, 0.030535457655787468, -0.06881199777126312, 0.09922865033149719, 0.010746169835329056, 0.006443564780056477, 0.019803470000624657, -0.013285213150084019, -3.70804807318495e-33, 0.00443912111222744, -0.07999075949192047, 0.0682419091463089, -0.016420111060142517, 0.010876401327550411, 0.018732329830527306, -0.008999776095151901, 0.013769540004432201, 0.048477668315172195, -0.07350862771272659, -0.09366434812545776, 0.045181699097156525, 0.0056079719215631485, -0.03166220709681511, 0.014174983836710453, -0.04727926850318909, 0.1254129558801651, 0.03612932935357094, 0.03978173807263374, 0.10014136135578156, 0.014180827885866165, 0.047081951051950455, -0.041809648275375366, 0.028545863926410675, 0.004841805435717106, -0.0016977284103631973, 0.10401546210050583, 0.019660724326968193, 0.04927246272563934, 0.04834900423884392, -0.021463418379426003, -0.04032643884420395, -0.05178786441683769, -0.009896494448184967, -0.023104477673768997, -0.08672504872083664, 0.09890685975551605, 0.0546998493373394, -0.05557769536972046, 0.12169203907251358, -0.0072793057188391685, -0.020716896280646324, -0.005773507058620453, 0.0051325848326087, -0.08222778141498566, -0.019047776237130165, -0.0472666397690773, -0.024687636643648148, -0.10785873979330063, -0.1035408154129982, 0.005381597671657801, -0.00931795034557581, 0.01961560733616352, 0.018815454095602036, 0.06426090002059937, 0.025784891098737717, 0.0006251806044019759, -0.0030298964120447636, 0.05100399628281593, 0.005866827443242073, -0.010429655201733112, -0.10052520036697388, -0.02033158577978611, -0.004583397880196571, 0.02151423878967762, -0.06774646788835526, 0.046285755932331085, -0.0293447133153677, -0.020350603386759758, -0.00105484074447304, -0.08759721368551254, -0.07088085263967514, -0.00435230927541852, -0.012966522015631199, 0.0009557760204188526, -0.009076566435396671, 0.06814780831336975, 0.0986972376704216, 0.029263054952025414, -0.027776727452874184, 0.00960035901516676, 0.051908332854509354, -0.051535461097955704, -0.037899650633335114, 0.07480166107416153, -0.01683386228978634, 0.04053036496043205, -0.029392268508672714, 0.017408229410648346, 0.005815119482576847, -0.00626952201128006, 0.007447111885994673, 0.02666521444916725, 0.09214162081480026, -0.12414739280939102, -4.7205528375116046e-08, -0.03747139498591423, -0.013022612780332565, 0.00938746239989996, 0.01993914321064949, -0.025853145867586136, -0.05684885382652283, 0.007431670557707548, 0.004414163064211607, 0.057746343314647675, 0.028885232284665108, 0.029595421627163887, 0.01026427187025547, -0.03188608959317207, 0.016522984951734543, -0.027517857030034065, 0.015976842492818832, 0.023164747282862663, 0.016735315322875977, -0.018938880413770676, 0.03973248600959778, -0.06123870983719826, 0.026768330484628677, 0.04456985369324684, 0.01025684829801321, -0.01473118457943201, 0.1243254691362381, -0.049548134207725525, -0.051935795694589615, 0.05433950573205948, -0.04639658331871033, -0.05193578451871872, 0.0637454092502594, 0.05341434106230736, -9.734945342643186e-05, -0.14735844731330872, -0.05366423726081848, 0.023517895489931107, -0.10143784433603287, 0.016581306234002113, 0.09965219348669052, 0.050454191863536835, -0.07243037223815918, 0.024587200954556465, -0.016943054273724556, 0.030843818560242653, 0.004696348682045937, 0.006460920441895723, 0.022454408928751945, -0.042831093072891235, -0.053373511880636215, -0.028202898800373077, -0.014156402088701725, 0.005095033440738916, -0.03242817521095276, -0.01858820766210556, 0.04088107869029045, 0.10500194877386093, -0.06736267358064651, 0.03652752563357353, 0.05750969052314758, 0.10077875107526779, 0.04126344993710518, -0.13369320333003998, -0.031183747574687004], metadata={'chunk_text': 'ATTIC TOURS SM FAIRVIEW\\n\\nAttic Tours SM Fairview is currently located on the Upper Ground Level Parkway Building within SM City Fairview. The office will be open when the mall hours are available from 10am – 9pm except holidays when the SM Fairview is close. The Attic Tours SM Fairview does not have specific slots need to be filled within the day but have a cut off until 1pm.\\n\\nWhen entering the Attic Tours SM Fairview the first thing that you need to do is get your queuing number and wait for your number to be called and if ever your number is already called and you’re not in the area your number might get skip and you need to get a new queuing number.\\n\\nAt least one of the applicants will be applying for Japan Visa, no authorization is allowed when applying for visa, it is also applicable when getting your passport. All the documents should be provided the same day you’re applying because Attic Tours does not accept pending documents and if you can’t provide the documents that are needed you need to provide an explanation letter.\\n\\nEvery Attic Tours have a Japanese that can read your documents to have an accurate translation in your application. Japanese in the Attic Tours does not translate documents that are not included in the documents for applying for Japanese Visa.\\n\\nThe processing of your visa application might take 1-2 weeks but not guaranteed since some applications may took 2-3 days or longer than 2 weeks. Processing fee is 1680 per person then if you want to apply for multiple you need to add 500 pesos, so it will be 2180 per persons. If your application is already on the process you can wait for our call or text if ever you need send some additional documents or you can already pick up your passport. If you want to know an update in your application you can contact us in this number 0916 618 6165 or Facebook Page ATTIC TOURS SM FAIRVIEW.\\n\\nIf your application got denied you can re-apply for the same category after 6 months, however if you apply for different categories you can try to apply again but still it’s not guaranteed because this is still be decided by the embassy.'}, excluded_embed_metadata_keys=[], excluded_llm_metadata_keys=[], relationships={}, metadata_template='{key}: {value}', metadata_separator='\\n', text='ATTIC TOURS SM FAIRVIEW\\n\\nAttic Tours SM Fairview is currently located on the Upper Ground Level Parkway Building within SM City Fairview. The office will be open when the mall hours are available from 10am – 9pm except holidays when the SM Fairview is close. The Attic Tours SM Fairview does not have specific slots need to be filled within the day but have a cut off until 1pm.\\n\\nWhen entering the Attic Tours SM Fairview the first thing that you need to do is get your queuing number and wait for your number to be called and if ever your number is already called and you’re not in the area your number might get skip and you need to get a new queuing number.\\n\\nAt least one of the applicants will be applying for Japan Visa, no authorization is allowed when applying for visa, it is also applicable when getting your passport. All the documents should be provided the same day you’re applying because Attic Tours does not accept pending documents and if you can’t provide the documents that are needed you need to provide an explanation letter.\\n\\nEvery Attic Tours have a Japanese that can read your documents to have an accurate translation in your application. Japanese in the Attic Tours does not translate documents that are not included in the documents for applying for Japanese Visa.\\n\\nThe processing of your visa application might take 1-2 weeks but not guaranteed since some applications may took 2-3 days or longer than 2 weeks. Processing fee is 1680 per person then if you want to apply for multiple you need to add 500 pesos, so it will be 2180 per persons. If your application is already on the process you can wait for our call or text if ever you need send some additional documents or you can already pick up your passport. If you want to know an update in your application you can contact us in this number 0916 618 6165 or Facebook Page ATTIC TOURS SM FAIRVIEW.\\n\\nIf your application got denied you can re-apply for the same category after 6 months, however if you apply for different categories you can try to apply again but still it’s not guaranteed because this is still be decided by the embassy.\\n\\nEmbassy does not give specific reason for your denial.\\n\\nEmbassy does not give specific amount on your bank account but you should have bank certificate with ADB (Average Daily Balance) for 6 months, if you can’t present a bank certificate with ADB (Average Daily Balance) 6 months you should attach a bank statement with ADB (Average Daily Balance) 6 months, however if your bank certificate does have ADB/YTD (Average Daily Balance / Year to Date) it will be acceptable. Your bank certificate should be wet signed, if your bank certificate is e-signed it should have explanation letter or have a word that it is a e-signature\\n\\nYou need to have a original PSA issued within 1 year if you are a first timer, however if you have a previous it is not applicable. If your guarantor does not have a previous in Japan you both need a new PSA, if you’re first timer in Japan and your guarantor have previous you still both need a new PSA. If you and your guarantor does have previous in the Japan you need to provide a copy even though it is not issued within year.\\n\\nGuarantor should provide their bank certificate, COE (Certificate of Employment) and ITR (Income Tax Return) 2316 if employed, if under business property either 1701 or 1702.\\n\\nAvailing ticket before applying for visa is not applicable because it is not guaranteed if you will be approved or denied, wait for your visa before applying.\\n\\nWhen applying for multiple you need to have your own financial documents with or without guarantor. You also need to provide the multiple request form and check all the applicable to your application.\\n\\nThe documents is still available in Japan within 3 months of the issuance and it should be A4 size. Other documents like bank certificate, certificate of employment and itr can be used even though it is not A4 size.\\n\\nAppearance is not applicable in the Japan Embassy but you need to have an appearance when you apply to the Attic Tours because at least one of the applicants should be applying for the Japan Visa.\\n\\nThe validity of Single Entry visa is 3 months, for Multiple Entry is either 5 years or 10 years. It is still be the discretion of the embassy. Your multiple entry may not be granted and can be Single Entry.\\n\\nPassport is a very important document that need to provide. You need to sign your passport when applying for visa. If your old passport that have Japan Visa is lost you need to still acknowledge it but it will be a lost passport in your application.\\n\\nAll the payments that have been done is not refundable even if you are not granted a Multiple Entry.\\n\\nResults cannot be done over the phone, the results will only be known when the applicants pick up their passports.\\n\\nIf you want to apply for long term in Japan the person you know may help you process a Certificate of Eligibility in the Japan.\\n\\nAll Japanese documents can be a original or scanned copy but make sure that the details are readable. It can be black and white or colored.\\n\\nIf you have a boyfriend/girlfriend/fiancé you can apply for Japan Visa under Visiting Friends/Fiance. They can also be your guarantor when you go to Japan.\\n\\nYou might check the nearest Attic Tours Branch :\\n\\nMain Office where in Roxas Boulevard next to Japan Embassy\\n\\nContact us : 0917 631 0845\\n\\nSM Mall of Asia Branch - Unit 126 Level 1, South parking building, Marina Way, Mall of Asia Complex, Pasay, Metro Manila\\n\\nContact us : 0917 631 0848\\n\\nSM Megamall Branch - 5th Floor, Bldg. B, SM Megamall, Doña Julia Vargas Ave. cor. EDSA Wack-Wack Village, Mandaluyong City 1555.\\n\\nContact us : 0906 516 3246\\n\\nSM North Edsa Branch - Ground Floor, The Block, SM City North EDSA, Quezon City\\n\\nContact us : 0917 898 0905\\n\\nSM Southmall Branch - 343, 3/F, SM Southmall, Almanza Uno, Las Piñas City\\n\\nContact us : 0917 186 6853\\n\\nSM Fairview Branch - Upper Ground Level Parkway Building within SM City Fairview\\n\\nContact us : 0916 618 6165\\n\\nSM Clark Branch - Annex 3 Upper Ground Floor, Parkway Building, SM City Fairview, Novaliches, Quezon City, Metro Manila\\n\\nContact us : 0917 305 4292\\n\\nSM Cebu Branch - Lower Ground Floor, SM City Cebu, Cebu City, 6000 Cebu\\n\\nContact us : 0956 551 9834\\n\\nSM Davao Branch - 109 G/F Court View Inn Bldg Quimpo Blvd, Cor Guillermo E. Torres St, Davao City, Davao del Sur\\n\\nContact us : 0917 321 1328\\n\\nATTIC TOURS SM FAIRVIEW\\n\\nAttic Tours SM Fairview is currently located on the Upper Ground Level Parkway Building within SM City Fairview. The office will be open when the mall hours are available from 10am – 9pm except holidays when the SM Fairview is close. The Attic Tours SM Fairview does not have specific slots need to be filled within the day but have a cut off until 1pm.\\n\\nWhen entering the Attic Tours SM Fairview the first thing that you need to do is get your queuing number and wait for your number to be called and if ever your number is already called and you’re not in the area your number might get skip and you need to get a new queuing number.\\n\\nAt least one of the applicants will be applying for Japan Visa, no authorization is allowed when applying for visa, it is also applicable when getting your passport. All the documents should be provided the same day you’re applying because Attic Tours does not accept pending documents and if you can’t provide the documents that are needed you need to provide an explanation letter.\\n\\nEvery Attic Tours have a Japanese that can read your documents to have an accurate translation in your application. Japanese in the Attic Tours does not translate documents that are not included in the documents for applying for Japanese Visa.\\n\\nThe processing of your visa application might take 1-2 weeks but not guaranteed since some applications may took 2-3 days or longer than 2 weeks. Processing fee is 1680 per person then if you want to apply for multiple you need to add 500 pesos, so it will be 2180 per persons. If your application is already on the process you can wait for our call or text if ever you need send some additional documents or you can already pick up your passport. If you want to know an update in your application you can contact us in this number 0916 618 6165 or Facebook Page ATTIC TOURS SM FAIRVIEW.\\n\\nIf your application got denied you can re-apply for the same category after 6 months, however if you apply for different categories you can try to apply again but still it’s not guaranteed because this is still be decided by the embassy.', mimetype='text/plain', start_char_idx=None, end_char_idx=None, metadata_seperator='\\n', text_template='{metadata_str}\\n\\n{content}'), score=0.867352306842804)]"
      ]
     },
     "execution_count": 11,
     "metadata": {},
     "output_type": "execute_result"
    }
   ],
   "source": [
    "Settings.llm = None\n",
    "\n",
    "query_engine = index.as_retriever(\n",
    "    vector_store_query_mode=\"hybrid\", similarity_top_k=2, llm=None\n",
    ")\n",
    "response = query_engine.retrieve(\n",
    "    \"fairview\",\n",
    ")\n",
    "response"
   ]
  }
 ],
 "metadata": {
  "kernelspec": {
   "display_name": "rag310",
   "language": "python",
   "name": "python3"
  },
  "language_info": {
   "codemirror_mode": {
    "name": "ipython",
    "version": 3
   },
   "file_extension": ".py",
   "mimetype": "text/x-python",
   "name": "python",
   "nbconvert_exporter": "python",
   "pygments_lexer": "ipython3",
   "version": "3.10.15"
  }
 },
 "nbformat": 4,
 "nbformat_minor": 5
}
