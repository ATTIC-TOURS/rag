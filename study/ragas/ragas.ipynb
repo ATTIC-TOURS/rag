{
 "cells": [
  {
   "cell_type": "markdown",
   "id": "5f2abfcd",
   "metadata": {},
   "source": [
    "# How to evaluate in RAGAS"
   ]
  },
  {
   "cell_type": "code",
   "execution_count": 1,
   "id": "53cdcc27",
   "metadata": {},
   "outputs": [
    {
     "data": {
      "text/plain": [
       "True"
      ]
     },
     "execution_count": 1,
     "metadata": {},
     "output_type": "execute_result"
    }
   ],
   "source": [
    "from dotenv import load_dotenv\n",
    "\n",
    "load_dotenv()"
   ]
  },
  {
   "cell_type": "markdown",
   "id": "2dcc9d3d",
   "metadata": {},
   "source": [
    "## Setup"
   ]
  },
  {
   "cell_type": "markdown",
   "id": "affd79b3",
   "metadata": {},
   "source": [
    "libraries"
   ]
  },
  {
   "cell_type": "code",
   "execution_count": 2,
   "id": "50daff20",
   "metadata": {},
   "outputs": [
    {
     "name": "stderr",
     "output_type": "stream",
     "text": [
      "/Users/krimssmirk/.pyenv/versions/rag310/lib/python3.10/site-packages/tqdm/auto.py:21: TqdmWarning: IProgress not found. Please update jupyter and ipywidgets. See https://ipywidgets.readthedocs.io/en/stable/user_install.html\n",
      "  from .autonotebook import tqdm as notebook_tqdm\n"
     ]
    }
   ],
   "source": [
    "\n",
    "from ragas.llms import LangchainLLMWrapper\n",
    "from langchain_openai import ChatOpenAI\n",
    "from langchain_openai import OpenAIEmbeddings\n",
    "# from ragas.embeddings import OpenAIEmbeddings"
   ]
  },
  {
   "cell_type": "markdown",
   "id": "06bb680b",
   "metadata": {},
   "source": [
    "LLM + Embeddings (Evaluator)"
   ]
  },
  {
   "cell_type": "code",
   "execution_count": 3,
   "id": "24e20b0c",
   "metadata": {},
   "outputs": [],
   "source": [
    "langchain_llm = ChatOpenAI(model=\"gpt-4o-mini\", temperature=0.0)\n",
    "evaluator_llm = LangchainLLMWrapper(langchain_llm=langchain_llm)"
   ]
  },
  {
   "cell_type": "code",
   "execution_count": 7,
   "id": "c0c6f02a",
   "metadata": {},
   "outputs": [],
   "source": [
    "evaluator_embeddings = OpenAIEmbeddings(model=\"text-embedding-3-small\")"
   ]
  },
  {
   "cell_type": "markdown",
   "id": "9008831c",
   "metadata": {},
   "source": [
    "## Sample Dataset"
   ]
  },
  {
   "cell_type": "code",
   "execution_count": 4,
   "id": "99937c7b",
   "metadata": {},
   "outputs": [],
   "source": [
    "from ragas import EvaluationDataset"
   ]
  },
  {
   "cell_type": "code",
   "execution_count": 5,
   "id": "45a4ec1b",
   "metadata": {},
   "outputs": [],
   "source": [
    "sample = [\n",
    "    {\n",
    "        \"user_input\": \"Ano ang mga requirements pag mag tourist sa Japan?\",\n",
    "        \"retrieved_contexts\": [\n",
    "            \"The document details requirements for Japanese visa applicants with significant income, focusing on temporary visitor status for tourism, business, or visiting relatives, and requiring specific documentation like a passport, bank statements, and tax certificates. multiple-entry temporary visitor visa philippine nationals with considerable financial capacity april 2025 a. purpose applicants with considerably high income who intend to visit japan several times as temporary visitor for tourism, business or visiting relatives, etc. ☞ the period of each stay in japan must be within 90 days. b. requirements（details→https://www.ph.emb-japan.go.jp/itprtop_en/11_000001_00896.html） ※ downloadable from this website common requirements 1 passport（holder’s signature required） 2 photocopy of passportidentification page only 3 application form ※（a facial photo 4.5×3.5cm must be attached.） 4 request for multiple-entry visa ※ * in case those with sufficient financial capacity is checked, the embassy examine and determine whether the applicant falls under multiple-entry visa for temporary visitor or multiple-entry visa temporary visitor visa for philippine nationals with considerable financial capacity. 5 psa issued birth certificate and marriage certificate for married applicants, issued within 1 year ☞unnecessary if there is used japan visa on passport. 【additional requirements】 - if 5is unreadable, submit birth/marriage certificate issued by local civil registrar. - if birth certificate is “late registration”, submit baptismal certificate and school record form 137. - if there is no record of birth/marriage in psa, submit birth certificate issued by local civil registrar and negative certificate issued by psa. 6 itinerary in japan ※ conditions and specific requirements i. applicant with considerably high income 1 applicant’s bank certificate balance within the last six months must be shown if the average daily balance adb in the last six months is not indicated, bank statement must be submitted to prove transactions within the last six months. 2 applicant’s tax payment certificate issued by bureau of internal revenue copy acceptable form 2316, must have signature of the employer and employee for business owners, proof of actual payment of tax must be submitted in addition to the bir tax payment certificate form copy acceptable 3 applicant’s employment certificate must indicate period of employment, salary and position for business owners, department of trade and industry “certificate of business name registration” and mayor’s permit from the city hall must be submitted. * if for any reason other than being a retiree, full-time housewife or unemployed, applicant is unable to submit 2 and 3 above, a letter of explanation about the reason must be submitted. for students, a copy of school id or certificate of enrollment in school must be submitted ii. spouse or child of i 1 proof of relationship with i above psa issued birth certificate and marriage certificate, if applicable 2 passport and multiple entry visa copy or documents of i above.\"\n",
    "        ],\n",
    "        \"response\": \"Okay, here’s a breakdown of the requirements for Japanese visa applicants with significant income, based on the provided text:\\n\\n**Here's a summarized list of requirements:**\\n\\n**1. Documents Required:**\\n\\n*   **Passport:** Holder's signature required.\\n*   **Passport Identification Page Photocopy:** (4.5x3.5cm)\\n*   **Application Form:** (Facial photo, 4.5x3.5cm required)\\n*   **Request for Multiple-Entry Visa:** (Important for temporary visitor status).\\n*   **Psa (Birth Certificate & Marriage Certificate) - for married applicants:** Issued within 1 year.\\n*   **Tax Payment Certificate (2316):**  Must have employer and employee signatures for business owners, proof of tax payment submitted.\\n*   **Employment Certificate:**  Must indicate employment, salary, and position for business owners.\\n*   **Business Name Registration Certificate:** From the department of trade and industry.\\n*   **Mayor's Permit:** From the city hall.\\n\\n**2. Specifics for Income Applicants:**\\n\\n*   **Bank Certificate Balance:** Must be within the last six months (average daily balance ADB).\\n*   **Tax Payment Certificate:** Accepted form 2316.\\n*   **Proof of Relationship:** Birth/Marriage Certificate (if applicable) for spouses or children.\\n\\n**3. Additional Requirements (If applicable):**\\n\\n*   **Itinerary:**  A detailed plan for your visit.\\n*   **Letter of Explanation:** If you cannot provide all required documents.\\n\\n**Do you have any specific questions about a particular requirement? Would you like me to elaborate on anything?**\",\n",
    "        \"reference\": \"Kung mag-aapply ka ng tourist visa sa Japan, ito ang mga general requirements na kailangan ihanda (depende sa iyong status: employed, business owner, student, retiree, etc.): General Requirements (Lahat ng aplikante): Philippine Passport (original) – valid pa ng at least 6 months, may pirma sa page 3 (kung 13 yrs. old pataas), at colored photocopy ng latest used Japan visa kung meron na dati. Colored Photocopy ng Bio Page ng Passport. Authorization Letter (2 copies) – depende kung family, friend, or group application. Visa Application Form – dapat typewritten, may wet ink signature, walang erasures, walang blank item (lagyan ng [N/A] kung di applicable). 1 pc. Picture (45mm x 35mm) – white background, may pangalan at birthday sa likod. Authorization Letter for PSA – para sa 1st-time applicant (kasama valid ID ng parent kung minor). PSA Birth Certificate (original, issued within 1 year) – may special cases kung late registered, unreadable, or no record. PSA Marriage Certificate (original, issued within 1 year) – kung married. May special case kung unreadable/no record. Daily Schedule / Itinerary – dapat kumpleto ang araw-araw na plano (entry/exit date, flight info, hotel details). Personal Bank Certificate + Bank Statement – dapat nakalagay ang Average Daily Balance (ADB) ng last 6 months. Kung joint account, nakalagay ang parehong pangalan. Kung may business: Company Bank Certificate + DTI/SEC + Mayor’s/Business Permit. Dagdag na Requirements Depende sa Status: Kung Employed: Employment Certificate (original o e-signed na may “digitally signed/system generated”). Tax Certificate Form 2316 (signed ng employer at employee). Kung Business Owner: DTI/SEC + Mayor’s Permit/Business Permit + GIS (SEC). Proof of actual tax payment + BIR Tax Form 1701/1702. Kung Student: School ID o Certificate of Enrollment. Kung Retiree, Housewife, Unemployed, Freelance: Letter of Explanation kung bakit walang employment at tax certificate. Kung OFW o Other Nationality: Bank Statement (last 6 months). Employment Certificate. Tax Certificate (Revenue/Form 1040, W2 kung nasa US). Optional / Special Cases: Multiple Visa Request Form – kung gusto mag-apply ng multiple entry. Guarantee Letter Form + Proof of Relationship – kung may guarantor. Old Used Japan Visa – kung meron ka na dati, pwede hindi na mag-submit ng Birth/Marriage Certificate (pero kung may guarantor, kailangan pa rin ang proof of relationship). PRC/IBP ID – para sa mga professionals (doctor, lawyer, etc.). Sa madaling sabi: Passport + Picture + Visa Application Form + Bank Certificate/Statement + PSA documents (birth/marriage as applicable) + Itinerary ang basic set ng requirements. Dagdagan lang depende kung employed, business owner, student, unemployed, o OFW ka.\",\n",
    "    }\n",
    "]\n",
    "\n",
    "sample_dataset = EvaluationDataset.from_list(sample)"
   ]
  },
  {
   "cell_type": "code",
   "execution_count": 6,
   "id": "742e65f3",
   "metadata": {},
   "outputs": [
    {
     "data": {
      "text/plain": [
       "EvaluationDataset(features=['user_input', 'retrieved_contexts', 'response', 'reference'], len=1)"
      ]
     },
     "execution_count": 6,
     "metadata": {},
     "output_type": "execute_result"
    }
   ],
   "source": [
    "sample_dataset"
   ]
  },
  {
   "cell_type": "markdown",
   "id": "4f6dea8e",
   "metadata": {},
   "source": [
    "## Evaluations"
   ]
  },
  {
   "cell_type": "code",
   "execution_count": 7,
   "id": "ab27738d",
   "metadata": {},
   "outputs": [],
   "source": [
    "from ragas import evaluate"
   ]
  },
  {
   "cell_type": "markdown",
   "id": "ea10e118",
   "metadata": {},
   "source": [
    "### Metric #1: Faithfullness\n",
    "\n",
    "to quantify whether the LLM hallucinates or not"
   ]
  },
  {
   "cell_type": "code",
   "execution_count": 8,
   "id": "2033b9f4",
   "metadata": {},
   "outputs": [],
   "source": [
    "from ragas.metrics import Faithfulness"
   ]
  },
  {
   "cell_type": "code",
   "execution_count": 9,
   "id": "6baea10a",
   "metadata": {},
   "outputs": [
    {
     "name": "stderr",
     "output_type": "stream",
     "text": [
      "Evaluating: 100%|██████████| 1/1 [00:31<00:00, 31.72s/it]\n"
     ]
    }
   ],
   "source": [
    "result = evaluate(\n",
    "    dataset=sample_dataset,\n",
    "    metrics=[Faithfulness()],\n",
    "    llm=evaluator_llm,\n",
    ")"
   ]
  },
  {
   "cell_type": "code",
   "execution_count": 25,
   "id": "1f9085a4",
   "metadata": {},
   "outputs": [
    {
     "data": {
      "text/plain": [
       "{'faithfulness': 1.0}"
      ]
     },
     "execution_count": 25,
     "metadata": {},
     "output_type": "execute_result"
    }
   ],
   "source": [
    "result.to_pandas().describe().loc[\"mean\"].to_dict()"
   ]
  },
  {
   "cell_type": "markdown",
   "id": "7aba052a",
   "metadata": {},
   "source": [
    "### Metric #2: Response Relevancy\n",
    "\n",
    "to quantify whether the reponse is relevant to user input"
   ]
  },
  {
   "cell_type": "code",
   "execution_count": 58,
   "id": "1c5f0a67",
   "metadata": {},
   "outputs": [],
   "source": [
    "from ragas.metrics import ResponseRelevancy"
   ]
  },
  {
   "cell_type": "code",
   "execution_count": 59,
   "id": "b648c4c2",
   "metadata": {},
   "outputs": [
    {
     "name": "stderr",
     "output_type": "stream",
     "text": [
      "Evaluating: 100%|██████████| 1/1 [00:06<00:00,  6.84s/it]\n"
     ]
    }
   ],
   "source": [
    "result = evaluate(\n",
    "    dataset=sample_dataset,\n",
    "    metrics=[ResponseRelevancy()],\n",
    "    llm=evaluator_llm,\n",
    "    embeddings=evaluator_embeddings\n",
    ")"
   ]
  },
  {
   "cell_type": "code",
   "execution_count": 60,
   "id": "cc4a3c89",
   "metadata": {},
   "outputs": [
    {
     "data": {
      "text/plain": [
       "{'answer_relevancy': 0.0}"
      ]
     },
     "execution_count": 60,
     "metadata": {},
     "output_type": "execute_result"
    }
   ],
   "source": [
    "result.to_pandas().describe().loc[\"mean\"].to_dict()"
   ]
  },
  {
   "cell_type": "markdown",
   "id": "db92cfae",
   "metadata": {},
   "source": [
    "### Metric #3: Context Precision\n",
    "\n",
    "it assesses the degree to which relevant chunks in the retrieved context are placed at the top of the ranking."
   ]
  },
  {
   "cell_type": "code",
   "execution_count": 42,
   "id": "b53ca657",
   "metadata": {},
   "outputs": [],
   "source": [
    "from ragas.metrics import LLMContextPrecisionWithReference"
   ]
  },
  {
   "cell_type": "code",
   "execution_count": 43,
   "id": "1b24e59d",
   "metadata": {},
   "outputs": [
    {
     "name": "stderr",
     "output_type": "stream",
     "text": [
      "Evaluating: 100%|██████████| 1/1 [00:04<00:00,  4.66s/it]\n"
     ]
    }
   ],
   "source": [
    "result = evaluate(\n",
    "    dataset=sample_dataset,\n",
    "    metrics=[LLMContextPrecisionWithReference()],\n",
    "    llm=evaluator_llm,\n",
    ")"
   ]
  },
  {
   "cell_type": "code",
   "execution_count": 44,
   "id": "fad7ade6",
   "metadata": {},
   "outputs": [
    {
     "data": {
      "text/plain": [
       "{'llm_context_precision_with_reference': 0.9999999999}"
      ]
     },
     "execution_count": 44,
     "metadata": {},
     "output_type": "execute_result"
    }
   ],
   "source": [
    "result.to_pandas().describe().loc[\"mean\"].to_dict()"
   ]
  },
  {
   "cell_type": "markdown",
   "id": "327d2dc4",
   "metadata": {},
   "source": [
    "### Metric #4: Context Recall\n",
    "\n",
    "Higher recall means fewer relevant documents were left out."
   ]
  },
  {
   "cell_type": "code",
   "execution_count": 45,
   "id": "f33438af",
   "metadata": {},
   "outputs": [],
   "source": [
    "from ragas.metrics import LLMContextRecall"
   ]
  },
  {
   "cell_type": "code",
   "execution_count": 46,
   "id": "ce62ab85",
   "metadata": {},
   "outputs": [
    {
     "name": "stderr",
     "output_type": "stream",
     "text": [
      "Evaluating: 100%|██████████| 1/1 [00:19<00:00, 19.64s/it]\n"
     ]
    }
   ],
   "source": [
    "result = evaluate(\n",
    "    dataset=sample_dataset,\n",
    "    metrics=[LLMContextRecall()],\n",
    "    llm=evaluator_llm,\n",
    ")"
   ]
  },
  {
   "cell_type": "code",
   "execution_count": 47,
   "id": "ab2f79d6",
   "metadata": {},
   "outputs": [
    {
     "data": {
      "text/plain": [
       "{'context_recall': 0.18181818181818182}"
      ]
     },
     "execution_count": 47,
     "metadata": {},
     "output_type": "execute_result"
    }
   ],
   "source": [
    "result.to_pandas().describe().loc[\"mean\"].to_dict()"
   ]
  },
  {
   "cell_type": "markdown",
   "id": "700918fa",
   "metadata": {},
   "source": [
    "### Metric #5: Answer Accuracy\n",
    "\n",
    "Higher scores indicate that the model’s answer closely matches the reference"
   ]
  },
  {
   "cell_type": "code",
   "execution_count": 48,
   "id": "db5a860f",
   "metadata": {},
   "outputs": [],
   "source": [
    "from ragas.metrics import AnswerAccuracy"
   ]
  },
  {
   "cell_type": "code",
   "execution_count": 49,
   "id": "c001a7eb",
   "metadata": {},
   "outputs": [
    {
     "name": "stderr",
     "output_type": "stream",
     "text": [
      "Evaluating: 100%|██████████| 1/1 [00:05<00:00,  5.08s/it]\n"
     ]
    }
   ],
   "source": [
    "result = evaluate(\n",
    "    dataset=sample_dataset,\n",
    "    metrics=[AnswerAccuracy()],\n",
    "    llm=evaluator_llm,\n",
    ")"
   ]
  },
  {
   "cell_type": "code",
   "execution_count": 50,
   "id": "754c4948",
   "metadata": {},
   "outputs": [
    {
     "data": {
      "text/plain": [
       "{'nv_accuracy': 0.25}"
      ]
     },
     "execution_count": 50,
     "metadata": {},
     "output_type": "execute_result"
    }
   ],
   "source": [
    "result.to_pandas().describe().loc[\"mean\"].to_dict()"
   ]
  }
 ],
 "metadata": {
  "kernelspec": {
   "display_name": "rag310",
   "language": "python",
   "name": "python3"
  },
  "language_info": {
   "codemirror_mode": {
    "name": "ipython",
    "version": 3
   },
   "file_extension": ".py",
   "mimetype": "text/x-python",
   "name": "python",
   "nbconvert_exporter": "python",
   "pygments_lexer": "ipython3",
   "version": "3.10.15"
  }
 },
 "nbformat": 4,
 "nbformat_minor": 5
}
