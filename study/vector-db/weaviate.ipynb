{
 "cells": [
  {
   "cell_type": "markdown",
   "id": "494b7474",
   "metadata": {},
   "source": [
    "# How to Use Weaviate Vector Database\n",
    "\n",
    "1. Create new collection\n",
    "2. Add new data (vector)\n",
    "3. Retrieve data (hybrid)"
   ]
  },
  {
   "cell_type": "markdown",
   "id": "b579690f",
   "metadata": {},
   "source": [
    "## Setup"
   ]
  },
  {
   "cell_type": "code",
   "execution_count": 47,
   "id": "088aa1f6",
   "metadata": {},
   "outputs": [],
   "source": [
    "import os\n",
    "from dotenv import load_dotenv\n",
    "load_dotenv()\n",
    "import weaviate\n",
    "from weaviate.classes.init import Auth\n",
    "import weaviate.classes.config as wc\n",
    "from pprint import pprint"
   ]
  },
  {
   "cell_type": "code",
   "execution_count": 42,
   "id": "2febb1c1",
   "metadata": {},
   "outputs": [],
   "source": [
    "weaviate_url = os.environ[\"WEAVIATE_URL\"]\n",
    "weaviate_api_key = os.environ[\"WEAVIATE_API_KEY\"]"
   ]
  },
  {
   "cell_type": "code",
   "execution_count": 45,
   "id": "0c255566",
   "metadata": {},
   "outputs": [
    {
     "name": "stdout",
     "output_type": "stream",
     "text": [
      "True\n"
     ]
    }
   ],
   "source": [
    "client = weaviate.connect_to_weaviate_cloud(\n",
    "    cluster_url=weaviate_url,\n",
    "    auth_credentials=Auth.api_key(weaviate_api_key),\n",
    ")\n",
    "\n",
    "print(client.is_ready())"
   ]
  },
  {
   "cell_type": "code",
   "execution_count": 46,
   "id": "4b5332ba",
   "metadata": {},
   "outputs": [],
   "source": [
    "client.close()"
   ]
  },
  {
   "cell_type": "markdown",
   "id": "c0e0d868",
   "metadata": {},
   "source": [
    "## 1. Create new collection"
   ]
  },
  {
   "cell_type": "code",
   "execution_count": null,
   "id": "9c9f461a",
   "metadata": {},
   "outputs": [],
   "source": [
    "\n",
    "\n",
    "\n",
    "\n",
    "\n",
    "CONNECTION_CONFIG = {\"port\": 8080, \"grpc_port\": 50051, \"skip_init_checks\": True}\n",
    "\n",
    "\n",
    "def add_collection(name, connection_config=CONNECTION_CONFIG):\n",
    "    name = name.capitalize()\n",
    "\n",
    "    client = None\n",
    "    try:\n",
    "        client = weaviate.connect_to_local(**connection_config)\n",
    "\n",
    "        collection = client.collections.create(\n",
    "            name=name,\n",
    "            vector_config=[\n",
    "                wc.Configure.Vectors.self_provided(\n",
    "                    name=\"custom_vector\",\n",
    "                    vector_index_config=wc.Configure.VectorIndex.hnsw(\n",
    "                        ef_construction=300,\n",
    "                        distance_metric=wc.VectorDistances.COSINE,\n",
    "                    ),\n",
    "                )\n",
    "            ],\n",
    "            properties=[wc.Property(name=\"text\", data_type=wc.DataType.TEXT)],\n",
    "            inverted_index_config=wc.Configure.inverted_index(  # Optional\n",
    "                bm25_b=0.7,\n",
    "                bm25_k1=1.25,\n",
    "                index_null_state=True,\n",
    "                index_property_length=True,\n",
    "                index_timestamps=True,\n",
    "            ),\n",
    "        )\n",
    "\n",
    "        print(\"New Collection created!\")\n",
    "        print(f\" name: {collection.config.get().name}\")\n",
    "\n",
    "    except Exception as e:\n",
    "        print(e)\n",
    "    finally:\n",
    "        if client:\n",
    "            client.close()\n",
    "\n",
    "\n",
    "def delete_all_collections(connection_config=CONNECTION_CONFIG):\n",
    "    client = None\n",
    "    try:\n",
    "        client = weaviate.connect_to_local(**connection_config)\n",
    "        client.collections.delete_all()\n",
    "        print(\"All collections has been removed!\")\n",
    "    except Exception as e:\n",
    "        print(e)\n",
    "    finally:\n",
    "        if client:\n",
    "            client.close()\n",
    "\n",
    "\n",
    "def delete_collection(collections, connection_config=CONNECTION_CONFIG):\n",
    "    client = None\n",
    "    try:\n",
    "        client = weaviate.connect_to_local(**connection_config)\n",
    "        client.collections.delete(collections)\n",
    "        print(f\"deleted collections: {collections}\")\n",
    "    except Exception as e:\n",
    "        print(e)\n",
    "    finally:\n",
    "        if client:\n",
    "            client.close()\n",
    "\n",
    "\n",
    "def list_collections(connection_config=CONNECTION_CONFIG):\n",
    "    client = None\n",
    "    try:\n",
    "        client = weaviate.connect_to_local(**connection_config)\n",
    "        collections = client.collections.list_all(simple=True)\n",
    "        return list(collections.keys())\n",
    "    except Exception as e:\n",
    "        print(e)\n",
    "    finally:\n",
    "        if client:\n",
    "            client.close()"
   ]
  },
  {
   "cell_type": "code",
   "execution_count": 14,
   "id": "f71a4635",
   "metadata": {},
   "outputs": [],
   "source": [
    "# delete_all_collections()"
   ]
  },
  {
   "cell_type": "code",
   "execution_count": 15,
   "id": "628316e9",
   "metadata": {},
   "outputs": [],
   "source": [
    "# add_collection('document')"
   ]
  },
  {
   "cell_type": "code",
   "execution_count": 16,
   "id": "f788b426",
   "metadata": {},
   "outputs": [
    {
     "data": {
      "text/plain": [
       "['Custom_splitter_hf',\n",
       " 'Custom_splitter_openai',\n",
       " 'Custom_splitter_w_context_hf',\n",
       " 'Custom_splitter_w_context_openai',\n",
       " 'Normal_splitter_hf',\n",
       " 'Normal_splitter_openai',\n",
       " 'Normal_splitter_w_context_hf',\n",
       " 'Normal_splitter_w_context_openai']"
      ]
     },
     "execution_count": 16,
     "metadata": {},
     "output_type": "execute_result"
    }
   ],
   "source": [
    "list_collections()"
   ]
  },
  {
   "cell_type": "markdown",
   "id": "b22dc026",
   "metadata": {},
   "source": [
    "## 2. Add new data (vector)"
   ]
  },
  {
   "cell_type": "code",
   "execution_count": 17,
   "id": "6e7d76a2",
   "metadata": {},
   "outputs": [],
   "source": [
    "from sentence_transformers import SentenceTransformer\n",
    "\n",
    "# Load a multilingual embedding model from HuggingFace Model Hub\n",
    "model = SentenceTransformer(\"intfloat/multilingual-e5-base\")"
   ]
  },
  {
   "cell_type": "code",
   "execution_count": 18,
   "id": "46428300",
   "metadata": {},
   "outputs": [],
   "source": [
    "def add_text(text, collection_name, connection_config=CONNECTION_CONFIG):\n",
    "    client = None\n",
    "    try:\n",
    "        client = weaviate.connect_to_local(**connection_config)\n",
    "        documents = client.collections.get(collection_name)\n",
    "        documents.data.insert(properties={\"text\": text}, vector=model.encode(text))\n",
    "        print('New data is inserted!')\n",
    "        print(f'text: {text}')\n",
    "    except Exception as e:\n",
    "        print(e)\n",
    "    finally:\n",
    "        if client:\n",
    "            client.close()"
   ]
  },
  {
   "cell_type": "code",
   "execution_count": 19,
   "id": "6294c3d0",
   "metadata": {},
   "outputs": [],
   "source": [
    "# add_text('hello world', 'Document')"
   ]
  },
  {
   "cell_type": "code",
   "execution_count": 20,
   "id": "49c41f36",
   "metadata": {},
   "outputs": [],
   "source": [
    "def list_objects(collection_name, connection_config=CONNECTION_CONFIG):\n",
    "    client = None\n",
    "    try:\n",
    "        client = weaviate.connect_to_local(**connection_config)\n",
    "        documents = client.collections.get(collection_name)\n",
    "        for item in documents.iterator(\n",
    "            include_vector=True\n",
    "        ):\n",
    "            pprint(item)\n",
    "    except Exception as e:\n",
    "        print(e)\n",
    "    finally:\n",
    "        if client:\n",
    "            client.close()"
   ]
  },
  {
   "cell_type": "code",
   "execution_count": 21,
   "id": "299ea44b",
   "metadata": {},
   "outputs": [
    {
     "name": "stdout",
     "output_type": "stream",
     "text": [
      "Query call with protocol GRPC search failed with message extract params: no such class with name 'Requirements' found in the schema. Check your schema files for which classes are available.\n"
     ]
    }
   ],
   "source": [
    "list_objects('Requirements')"
   ]
  },
  {
   "cell_type": "markdown",
   "id": "34206c89",
   "metadata": {},
   "source": [
    "## 2. Retrieve data (hybrid)\n",
    "\n",
    "**Hybrid Search** = Keyword Search + Semantic Search\n",
    "- An alpha of 1 is a pure vector search.\n",
    "- An alpha of 0 is a pure keyword search."
   ]
  },
  {
   "cell_type": "code",
   "execution_count": 38,
   "id": "d529fcad",
   "metadata": {},
   "outputs": [],
   "source": [
    "def retrieve_documents(query, collection_name, connection_config=CONNECTION_CONFIG):\n",
    "    client = None\n",
    "    try:\n",
    "        client = weaviate.connect_to_local(**connection_config)\n",
    "        documents = client.collections.get(collection_name)\n",
    "        response = documents.query.hybrid(\n",
    "            query=query,\n",
    "            alpha=1,  # Balance between keyword and vector\n",
    "            target_vector=\"custom_vector\",  # Specify which named vector to use for the vector component\n",
    "            query_properties=[\n",
    "                \"title\",\n",
    "                \"content\",\n",
    "            ],  # Which properties to use for the keyword (BM25) search\n",
    "            # IMPORTANT: If your collection has NO vectorizer_config at the class level\n",
    "            # and only self_provided named vectors, you might need to also provide `vector`\n",
    "            # within the hybrid query to explicitly give the query vector.\n",
    "            # The Weaviate docs indicate `query` is used for both, but if your setup is strict\n",
    "            # with `vectorizer_config=none()`, `query` won't be auto-vectorized.\n",
    "            # In such cases, if you want semantic search as part of hybrid, you must provide the vector.\n",
    "            vector=model.encode(query),  # This would be the vector of 'search_query'\n",
    "            limit=5,\n",
    "            include_vector=True\n",
    "        )\n",
    "        for object in response.objects:\n",
    "            print(len(object.vector['default']))\n",
    "            print(object.properties)\n",
    "\n",
    "        if len(response.objects) == 0:\n",
    "            print(\"there is no similar documents\")\n",
    "    except Exception as e:\n",
    "        print(e)\n",
    "    finally:\n",
    "        if client:\n",
    "            client.close()"
   ]
  },
  {
   "cell_type": "code",
   "execution_count": 39,
   "id": "e0dc2d46",
   "metadata": {},
   "outputs": [],
   "source": [
    "query = 'tourism requirements'"
   ]
  },
  {
   "cell_type": "code",
   "execution_count": 40,
   "id": "92b5e050",
   "metadata": {},
   "outputs": [
    {
     "name": "stdout",
     "output_type": "stream",
     "text": [
      "768\n",
      "{'relationships': None, '_node_type': 'TextNode', 'doc_id': 'None', 'document_id': 'None', 'ref_doc_id': 'None', '_node_content': '{\"id_\": \"ea93acfb-26be-4fc0-a455-e79b59ff3ff4\", \"embedding\": null, \"metadata\": {\"chunk_text\": \"visa \\\\u2013 stay \\\\u2264 90 days for sightseeing, business, conferences, visiting relatives/acquaintances. o not allowed: employment, entertainment, training with allowance, or on-the-job training. o for longer stays or compensated activities: obtain coe and apply for appropriate visa. apply together if two or more applicants have same travel schedule and purpose. \\\\u2022 submission of requirements does not guarantee issuance. \\\\u2022 fake/tampered documents \\\\u2192 visa will not be issued. \\\\u2022 documents will not be returned. \\\\u2022 applicants have 3 months to submit additional requirements; otherwise, application will be terminated. reason for denial will not be disclosed. \\\\u2022 if denied, reapplication for the same purpose is only allowed after 6 months.\"}, \"excluded_embed_metadata_keys\": [], \"excluded_llm_metadata_keys\": [], \"relationships\": {}, \"metadata_template\": \"{key}: {value}\", \"metadata_separator\": \"\\\\n\", \"text\": \"\", \"mimetype\": \"text/plain\", \"start_char_idx\": null, \"end_char_idx\": null, \"metadata_seperator\": \"\\\\n\", \"text_template\": \"{metadata_str}\\\\n\\\\n{content}\", \"class_name\": \"TextNode\"}', 'text': 'Visa application procedures, acceptance channels, processing times, fees, holidays, and important rules to follow. visa – stay ≤ 90 days for sightseeing, business, conferences, visiting relatives/acquaintances. o not allowed: employment, entertainment, training with allowance, or on-the-job training. o for longer stays or compensated activities: obtain coe and apply for appropriate visa. apply together if two or more applicants have same travel schedule and purpose. • submission of requirements does not guarantee issuance. • fake/tampered documents → visa will not be issued. • documents will not be returned. • applicants have 3 months to submit additional requirements; otherwise, application will be terminated. reason for denial will not be disclosed. • if denied, reapplication for the same purpose is only allowed after 6 months.', 'chunk_text': 'visa – stay ≤ 90 days for sightseeing, business, conferences, visiting relatives/acquaintances. o not allowed: employment, entertainment, training with allowance, or on-the-job training. o for longer stays or compensated activities: obtain coe and apply for appropriate visa. apply together if two or more applicants have same travel schedule and purpose. • submission of requirements does not guarantee issuance. • fake/tampered documents → visa will not be issued. • documents will not be returned. • applicants have 3 months to submit additional requirements; otherwise, application will be terminated. reason for denial will not be disclosed. • if denied, reapplication for the same purpose is only allowed after 6 months.', 'node_info': None}\n",
      "768\n",
      "{'relationships': None, '_node_type': 'TextNode', 'doc_id': 'None', 'ref_doc_id': 'None', 'document_id': 'None', '_node_content': '{\"id_\": \"e33e3c51-d1a6-4307-8200-ad77e1c5dfc4\", \"embedding\": null, \"metadata\": {\"chunk_text\": \"general requirements tourist single entry or multiple entry general requirements + for business owner 1. philippine passport original note: valid within 6 months, from 13 years old and above need to signature in page 3, if they have used japan visa must be provided, kindly colored photocopy of latest used japan visa 2. colored photocopy of your bio page in your passport 3. 2 pcs. authorization letter from attic tours scan qr code note: if the group applicants the primarily he/she the one to sign it for immediately family member only example: father, mother, siblings, if the applicants\\\\u2019 friends just provide individual 2 copy. 4. visa application form scan qr code note: must be type written, wet ink signature, and it must be the same signature as in your passport, no erasure, no blank item, if not applicable kindly fill in n/a 1. department of trade and industry dti \\\\u201ccertificate of business name registration\\\\u201d/ security exchange commission sec included the gis general information sheet and mayor\\\\u2019s permit /business permit from the city hall. note: if the applicant or guarantor is unable to submit, they should provide a letter of explanation for the reason must type written and wet ink signature. 2. proof of actual payment of tax must be submitted in addition to the bir tax payment certificate form 1701/1702 copy acceptable note: if the applicant or guarantor is unable to submit, they should provide a letter of explanation for the reason must type written and wet ink signature. general requirements + student 5. 1 pc. of picture 45mm x 35mm passport size white background note: write your full name and date of birth on the back of photo 6. authorization letter of psa scan qr code note: both adult and minor must be submitted, if applicant 17 years old and below parent must be fill up their name, signed and provide copy of valid id. this is applicable for the 1st time applicant 1. a copy of school id or certificate of enrollment in school must be submitted. general requirements + for retirees, full-time housewife, unemployed and freelance. 7. psa birth certificate original issued within 1 year 1. applicant is unable to submit employment certificate and applicant\\\\u2019s tax payment certificate, a letter of explanation about the reason must be submitted. i. if the applicant late registered. a baptismal certificate and form 137 from elementary/high school or if the general requirements + for overseas filipino worker ofw/other nationality unable to submit, they should provide a letter of explanation for the reason must type written and wet ink signature. ii if birth certificate is unreadable\"}, \"excluded_embed_metadata_keys\": [], \"excluded_llm_metadata_keys\": [], \"relationships\": {}, \"metadata_template\": \"{key}: {value}\", \"metadata_separator\": \"\\\\n\", \"text\": \"\", \"mimetype\": \"text/plain\", \"start_char_idx\": null, \"end_char_idx\": null, \"metadata_seperator\": \"\\\\n\", \"text_template\": \"{metadata_str}\\\\n\\\\n{content}\", \"class_name\": \"TextNode\"}', 'text': 'The document outlines visa requirements for different nationalities, focusing on tourist visas, student visas, retiree visas, and business owner visas. It details specific requirements for each visa type, including passport details, documents, and procedures. general requirements tourist single entry or multiple entry general requirements + for business owner 1. philippine passport original note: valid within 6 months, from 13 years old and above need to signature in page 3, if they have used japan visa must be provided, kindly colored photocopy of latest used japan visa 2. colored photocopy of your bio page in your passport 3. 2 pcs. authorization letter from attic tours scan qr code note: if the group applicants the primarily he/she the one to sign it for immediately family member only example: father, mother, siblings, if the applicants’ friends just provide individual 2 copy. 4. visa application form scan qr code note: must be type written, wet ink signature, and it must be the same signature as in your passport, no erasure, no blank item, if not applicable kindly fill in n/a 1. department of trade and industry dti “certificate of business name registration”/ security exchange commission sec included the gis general information sheet and mayor’s permit /business permit from the city hall. note: if the applicant or guarantor is unable to submit, they should provide a letter of explanation for the reason must type written and wet ink signature. 2. proof of actual payment of tax must be submitted in addition to the bir tax payment certificate form 1701/1702 copy acceptable note: if the applicant or guarantor is unable to submit, they should provide a letter of explanation for the reason must type written and wet ink signature. general requirements + student 5. 1 pc. of picture 45mm x 35mm passport size white background note: write your full name and date of birth on the back of photo 6. authorization letter of psa scan qr code note: both adult and minor must be submitted, if applicant 17 years old and below parent must be fill up their name, signed and provide copy of valid id. this is applicable for the 1st time applicant 1. a copy of school id or certificate of enrollment in school must be submitted. general requirements + for retirees, full-time housewife, unemployed and freelance. 7. psa birth certificate original issued within 1 year 1. applicant is unable to submit employment certificate and applicant’s tax payment certificate, a letter of explanation about the reason must be submitted. i. if the applicant late registered. a baptismal certificate and form 137 from elementary/high school or if the general requirements + for overseas filipino worker ofw/other nationality unable to submit, they should provide a letter of explanation for the reason must type written and wet ink signature. ii if birth certificate is unreadable', 'chunk_text': 'general requirements tourist single entry or multiple entry general requirements + for business owner 1. philippine passport original note: valid within 6 months, from 13 years old and above need to signature in page 3, if they have used japan visa must be provided, kindly colored photocopy of latest used japan visa 2. colored photocopy of your bio page in your passport 3. 2 pcs. authorization letter from attic tours scan qr code note: if the group applicants the primarily he/she the one to sign it for immediately family member only example: father, mother, siblings, if the applicants’ friends just provide individual 2 copy. 4. visa application form scan qr code note: must be type written, wet ink signature, and it must be the same signature as in your passport, no erasure, no blank item, if not applicable kindly fill in n/a 1. department of trade and industry dti “certificate of business name registration”/ security exchange commission sec included the gis general information sheet and mayor’s permit /business permit from the city hall. note: if the applicant or guarantor is unable to submit, they should provide a letter of explanation for the reason must type written and wet ink signature. 2. proof of actual payment of tax must be submitted in addition to the bir tax payment certificate form 1701/1702 copy acceptable note: if the applicant or guarantor is unable to submit, they should provide a letter of explanation for the reason must type written and wet ink signature. general requirements + student 5. 1 pc. of picture 45mm x 35mm passport size white background note: write your full name and date of birth on the back of photo 6. authorization letter of psa scan qr code note: both adult and minor must be submitted, if applicant 17 years old and below parent must be fill up their name, signed and provide copy of valid id. this is applicable for the 1st time applicant 1. a copy of school id or certificate of enrollment in school must be submitted. general requirements + for retirees, full-time housewife, unemployed and freelance. 7. psa birth certificate original issued within 1 year 1. applicant is unable to submit employment certificate and applicant’s tax payment certificate, a letter of explanation about the reason must be submitted. i. if the applicant late registered. a baptismal certificate and form 137 from elementary/high school or if the general requirements + for overseas filipino worker ofw/other nationality unable to submit, they should provide a letter of explanation for the reason must type written and wet ink signature. ii if birth certificate is unreadable', 'node_info': None}\n",
      "768\n",
      "{'relationships': None, '_node_type': 'TextNode', 'doc_id': 'None', 'ref_doc_id': 'None', 'document_id': 'None', '_node_content': '{\"id_\": \"08b16b15-33e3-4617-a3fb-50cd0095511e\", \"embedding\": null, \"metadata\": {\"chunk_text\": \"types of visa and requirements choose one of visas below suitable for purpose of your travel to check your requirements and then see \\\\u201cimportant note on the document submission\\\\u201d. 1. temporary visitor for stay within 90 days at maximum 1 tourism nnattention to tourist visa applicantsnn due to the increasing number of applications, it may take several weeks to process an application for a tourist visa. therefore, we recommend that you apply well ahead of your travel date. at the same time, the embassy will continue to make efforts to expedite the process, once the application is submitted by the visa center to the embassy. the above is the standard processing time required and does not guarantee that passports, etc. will be returned by a specific travel date. note please also note that single-entry visa for tourism purposes is valid for travel within \\\\u201c3 months\\\\u201d from the date of issuance, so please be careful not to apply prematurely not earlier than 3 months before the planned date of travel and consult with the visa center when applying for the visa. 2 packaged tour arranged by registered travel agency \\\\\"list of registered travel agency\\\\\" 3 business, conference, cultural exchange, etc. 4 visiting relatives within the third degree 5 visiting friends or distant relatives 6 visiting us military personnel 7 spouse/child of a japanese national in the philippines 8 transit 2. multiple-entry visa for temporary visitor 1 multiple entry-visa for a frequent traveler 2 multiple-entry temporary visitor visa philippine nationals with considerable financial capacity 3 multiple entry-visa for business purpose and cultural or intellectual figures nnattention to tourist visa applicantsnn please note the attention written in \\\\u201ctype of visa and requirements\\\\u201d 11 tourism above. 3. student, worker, dependent and other status for long term stay 1 student, worker and dependent 2 official except for diplomatic visa japan and republic of the philippines have the diplomatic visa exemption arrangements for diplomatic passport holders since oct 1,2024. 3 housekeeper hired by diplomat/official 4 medical stay including temporary stay 5 nikkei-jin japanese descendants 6 filipino parent travelling to japan with jfc japanese- filipino children please consult with the embassy in advance.\"}, \"excluded_embed_metadata_keys\": [], \"excluded_llm_metadata_keys\": [], \"relationships\": {}, \"metadata_template\": \"{key}: {value}\", \"metadata_separator\": \"\\\\n\", \"text\": \"\", \"mimetype\": \"text/plain\", \"start_char_idx\": null, \"end_char_idx\": null, \"metadata_seperator\": \"\\\\n\", \"text_template\": \"{metadata_str}\\\\n\\\\n{content}\", \"class_name\": \"TextNode\"}', 'text': 'The document discusses various visa types suitable for different travel purposes, including tourist visas, long-term visas, and visas for specific nationalities and situations. types of visa and requirements choose one of visas below suitable for purpose of your travel to check your requirements and then see “important note on the document submission”. 1. temporary visitor for stay within 90 days at maximum 1 tourism nnattention to tourist visa applicantsnn due to the increasing number of applications, it may take several weeks to process an application for a tourist visa. therefore, we recommend that you apply well ahead of your travel date. at the same time, the embassy will continue to make efforts to expedite the process, once the application is submitted by the visa center to the embassy. the above is the standard processing time required and does not guarantee that passports, etc. will be returned by a specific travel date. note please also note that single-entry visa for tourism purposes is valid for travel within “3 months” from the date of issuance, so please be careful not to apply prematurely not earlier than 3 months before the planned date of travel and consult with the visa center when applying for the visa. 2 packaged tour arranged by registered travel agency \"list of registered travel agency\" 3 business, conference, cultural exchange, etc. 4 visiting relatives within the third degree 5 visiting friends or distant relatives 6 visiting us military personnel 7 spouse/child of a japanese national in the philippines 8 transit 2. multiple-entry visa for temporary visitor 1 multiple entry-visa for a frequent traveler 2 multiple-entry temporary visitor visa philippine nationals with considerable financial capacity 3 multiple entry-visa for business purpose and cultural or intellectual figures nnattention to tourist visa applicantsnn please note the attention written in “type of visa and requirements” 11 tourism above. 3. student, worker, dependent and other status for long term stay 1 student, worker and dependent 2 official except for diplomatic visa japan and republic of the philippines have the diplomatic visa exemption arrangements for diplomatic passport holders since oct 1,2024. 3 housekeeper hired by diplomat/official 4 medical stay including temporary stay 5 nikkei-jin japanese descendants 6 filipino parent travelling to japan with jfc japanese- filipino children please consult with the embassy in advance.', 'chunk_text': 'types of visa and requirements choose one of visas below suitable for purpose of your travel to check your requirements and then see “important note on the document submission”. 1. temporary visitor for stay within 90 days at maximum 1 tourism nnattention to tourist visa applicantsnn due to the increasing number of applications, it may take several weeks to process an application for a tourist visa. therefore, we recommend that you apply well ahead of your travel date. at the same time, the embassy will continue to make efforts to expedite the process, once the application is submitted by the visa center to the embassy. the above is the standard processing time required and does not guarantee that passports, etc. will be returned by a specific travel date. note please also note that single-entry visa for tourism purposes is valid for travel within “3 months” from the date of issuance, so please be careful not to apply prematurely not earlier than 3 months before the planned date of travel and consult with the visa center when applying for the visa. 2 packaged tour arranged by registered travel agency \"list of registered travel agency\" 3 business, conference, cultural exchange, etc. 4 visiting relatives within the third degree 5 visiting friends or distant relatives 6 visiting us military personnel 7 spouse/child of a japanese national in the philippines 8 transit 2. multiple-entry visa for temporary visitor 1 multiple entry-visa for a frequent traveler 2 multiple-entry temporary visitor visa philippine nationals with considerable financial capacity 3 multiple entry-visa for business purpose and cultural or intellectual figures nnattention to tourist visa applicantsnn please note the attention written in “type of visa and requirements” 11 tourism above. 3. student, worker, dependent and other status for long term stay 1 student, worker and dependent 2 official except for diplomatic visa japan and republic of the philippines have the diplomatic visa exemption arrangements for diplomatic passport holders since oct 1,2024. 3 housekeeper hired by diplomat/official 4 medical stay including temporary stay 5 nikkei-jin japanese descendants 6 filipino parent travelling to japan with jfc japanese- filipino children please consult with the embassy in advance.', 'node_info': None}\n",
      "768\n",
      "{'relationships': None, '_node_type': 'TextNode', 'doc_id': 'None', 'ref_doc_id': 'None', 'document_id': 'None', '_node_content': '{\"id_\": \"ccf7223a-5018-47d5-b20c-1e3335c2dded\", \"embedding\": null, \"metadata\": {\"chunk_text\": \"frequently asked questions visa application date: 2025/06/19 a. visa application q1. in what cases can i apply for a multiple-entry visa? tourists: multiple-entry visa for short-term stay max. validity: 5 years \\\\u2022 cultural or intellectual figures: multiple-entry visa max. validity: 10 years \\\\u2013 from second visit onwards, can be used for tourism or visiting relatives/acquaintances spouse of japanese national: eligible for multiple-entry visa \\\\u2022 refer to relevant \\\\u201ctypes of visa\\\\u201d items for more details. q2. how do i apply for a multiple-entry visa? submit the \\\\\"reason for requesting multiple entry visa\\\\\" form. \\\\u2022 provide additional documents proving eligibility see \\\\u201ctypes of visa\\\\u201d \\\\u2013 items 16 and 17. note: submitting the form does not guarantee issuance. if rejected, you may still apply for a single-entry or double-entry visa with the required documents. q3. can i use my multiple-entry visa for business if it was issued for tourism? yes, if: 1. stay is within the permitted period e.g., 30 days 2. activities fall under \\\\u201ctemporary visitor\\\\u201d scope tourism, visiting relatives, business meetings, etc. you must declare your purpose to immigration upon arrival. \\\\u2022 not allowed: paid or remunerated activities \\\\u2013 apply for proper visa with a certificate of eligibility if required. q4. first-time \\\\u201ctemporary visitor\\\\u201d visa \\\\u2013 is maximum stay only 15 days? period of stay can be 15, 30, or 90 days depending on purpose and schedule. q5. multiple purposes e.g., tourism + business \\\\u2013 how to apply? prepare documents for main purpose. \\\\u2022 if submitting documents for both purposes, examination will cover each, and visa issued if criteria for at least one are met. q6. can i get a visa if i was deported from japan before? deportation does not automatically mean rejection. \\\\u2022 past violations are considered during examination. \\\\u2022 fully disclose history in application form. q7. must i submit original documents? japan-issued documents: photocopy is acceptable. \\\\u2022 other documents: original\"}, \"excluded_embed_metadata_keys\": [], \"excluded_llm_metadata_keys\": [], \"relationships\": {}, \"metadata_template\": \"{key}: {value}\", \"metadata_separator\": \"\\\\n\", \"text\": \"\", \"mimetype\": \"text/plain\", \"start_char_idx\": null, \"end_char_idx\": null, \"metadata_seperator\": \"\\\\n\", \"text_template\": \"{metadata_str}\\\\n\\\\n{content}\", \"class_name\": \"TextNode\"}', 'text': 'The document provides answers to frequently asked questions about applying for a multiple-entry visa. It outlines the requirements, procedures, and potential issues related to this type of visa. frequently asked questions visa application date: 2025/06/19 a. visa application q1. in what cases can i apply for a multiple-entry visa? tourists: multiple-entry visa for short-term stay max. validity: 5 years • cultural or intellectual figures: multiple-entry visa max. validity: 10 years – from second visit onwards, can be used for tourism or visiting relatives/acquaintances spouse of japanese national: eligible for multiple-entry visa • refer to relevant “types of visa” items for more details. q2. how do i apply for a multiple-entry visa? submit the \"reason for requesting multiple entry visa\" form. • provide additional documents proving eligibility see “types of visa” – items 16 and 17. note: submitting the form does not guarantee issuance. if rejected, you may still apply for a single-entry or double-entry visa with the required documents. q3. can i use my multiple-entry visa for business if it was issued for tourism? yes, if: 1. stay is within the permitted period e.g., 30 days 2. activities fall under “temporary visitor” scope tourism, visiting relatives, business meetings, etc. you must declare your purpose to immigration upon arrival. • not allowed: paid or remunerated activities – apply for proper visa with a certificate of eligibility if required. q4. first-time “temporary visitor” visa – is maximum stay only 15 days? period of stay can be 15, 30, or 90 days depending on purpose and schedule. q5. multiple purposes e.g., tourism + business – how to apply? prepare documents for main purpose. • if submitting documents for both purposes, examination will cover each, and visa issued if criteria for at least one are met. q6. can i get a visa if i was deported from japan before? deportation does not automatically mean rejection. • past violations are considered during examination. • fully disclose history in application form. q7. must i submit original documents? japan-issued documents: photocopy is acceptable. • other documents: original', 'chunk_text': 'frequently asked questions visa application date: 2025/06/19 a. visa application q1. in what cases can i apply for a multiple-entry visa? tourists: multiple-entry visa for short-term stay max. validity: 5 years • cultural or intellectual figures: multiple-entry visa max. validity: 10 years – from second visit onwards, can be used for tourism or visiting relatives/acquaintances spouse of japanese national: eligible for multiple-entry visa • refer to relevant “types of visa” items for more details. q2. how do i apply for a multiple-entry visa? submit the \"reason for requesting multiple entry visa\" form. • provide additional documents proving eligibility see “types of visa” – items 16 and 17. note: submitting the form does not guarantee issuance. if rejected, you may still apply for a single-entry or double-entry visa with the required documents. q3. can i use my multiple-entry visa for business if it was issued for tourism? yes, if: 1. stay is within the permitted period e.g., 30 days 2. activities fall under “temporary visitor” scope tourism, visiting relatives, business meetings, etc. you must declare your purpose to immigration upon arrival. • not allowed: paid or remunerated activities – apply for proper visa with a certificate of eligibility if required. q4. first-time “temporary visitor” visa – is maximum stay only 15 days? period of stay can be 15, 30, or 90 days depending on purpose and schedule. q5. multiple purposes e.g., tourism + business – how to apply? prepare documents for main purpose. • if submitting documents for both purposes, examination will cover each, and visa issued if criteria for at least one are met. q6. can i get a visa if i was deported from japan before? deportation does not automatically mean rejection. • past violations are considered during examination. • fully disclose history in application form. q7. must i submit original documents? japan-issued documents: photocopy is acceptable. • other documents: original', 'node_info': None}\n",
      "768\n",
      "{'node_info': None, '_node_type': 'TextNode', 'doc_id': 'None', 'document_id': 'None', 'ref_doc_id': 'None', '_node_content': '{\"id_\": \"2fb190da-33ad-4143-b30e-ab68bfb628fe\", \"embedding\": null, \"metadata\": {\"chunk_text\": \"visiting relatives april 2025 a. purpose visit relatives residing in japan within the third degree. if you visit relatives beyond the third degree, refer the requirements for \\\\u201cvisitng friends and distant relatives\\\\u201d. b. requirements\\\\uff08details\\\\u2192https://www.ph.emb-japan.go.jp/itprtop_en/11_000001_00896.html\\\\uff09 \\\\u203b downloadable from this website applicant\\\\u2019s requirements 1 passport\\\\uff08holder\\\\u2019s signature required\\\\uff09 2 photo copy of passport\\\\uff08identification page only\\\\uff09 3 application form \\\\u203b\\\\uff08a facial photo 4.5\\\\u00d73.5cm must be attached.\\\\uff09 \\\\u261e submit all the relatives\\\\u2019 birth certificate/marriage certificate enough to prove the third degree relationship between applicant and inviter. 4 birth certificate issued by psa within 1 year \\\\u3010additional requirements\\\\u3011 - if 4 is unreadable, submit a birth certificate issued by local civil registrar. - if 4 is \\\\u201clate registration\\\\u201d, submit baptismal certificate and school record deped:form 137. - if there is no record of birth in psa, submit birth certificate issued by local civil registrar and negative certificate issued by psa. 5 marriage certificate issued by psa within 1 year. for the married only. \\\\u3010additional requirements\\\\u3011 - if 5 is unreadable, submit marriage certificate issued by local civil registrar. if there is no record of marriage in psa, submit marriage certificate issued by local civil registrar and negative certificate issued by psa. 6 authorization letter for purpose of verification of psa certificates \\\\u203b \\\\u3010in case that applicant will shoulder part/all of travel expense\\\\u3011 7 bank certificate 8 photocopy of income tax return bir form inveiter\\\\u2019s requirements 9 invitation letter \\\\u203b 10 documents related to the reason for the invitation e.g., invitation letter showing the dates of the graduation ceremony, wedding, medical certificate, etc.; if the period of stay exceeds 30 days, an explanation letter is necessary. 11 itinerary in japan \\\\u203b 12 residence certificate jumin-hyo of inviter and guarantor \\\\u261e jumin-hyo must describe all household members, without omission of description except individual number and jumin-hyo code. \\\\u3010additional requirements\\\\u3011 - if inviter or his/her spouse is japanese, submit his/her koseki-tohon. if inviter/guarantor is not japanese, submit his/her photocopy of residence card both sides. \\\\u3010in case that guarantor will shoulder part/all of travel expense\\\\u3011 13 guarantee letter \\\\u203b 14 one/some of the latest following documents to show guarantor\\\\u2019s precise capability to pay, submission of some of the following is allowed. - income certificate shotoku-shomeisho tax certificate nozei-shomeisho. it must include description of the total amount of income - bank certificate\"}, \"excluded_embed_metadata_keys\": [], \"excluded_llm_metadata_keys\": [], \"relationships\": {}, \"metadata_template\": \"{key}: {value}\", \"metadata_separator\": \"\\\\n\", \"text\": \"\", \"mimetype\": \"text/plain\", \"start_char_idx\": null, \"end_char_idx\": null, \"metadata_seperator\": \"\\\\n\", \"text_template\": \"{metadata_str}\\\\n\\\\n{content}\", \"class_name\": \"TextNode\"}', 'text': 'The document is a guide for visiting relatives residing in Japan, specifically regarding the requirements for establishing a third degree relationship. It outlines the necessary documents, including birth certificates, marriage certificates, and other required paperwork, and clarifies procedures for verifying the relationship. It also addresses travel expenses and the role of the guarantor. visiting relatives april 2025 a. purpose visit relatives residing in japan within the third degree. if you visit relatives beyond the third degree, refer the requirements for “visitng friends and distant relatives”. b. requirements（details→https://www.ph.emb-japan.go.jp/itprtop_en/11_000001_00896.html） ※ downloadable from this website applicant’s requirements 1 passport（holder’s signature required） 2 photo copy of passport（identification page only） 3 application form ※（a facial photo 4.5×3.5cm must be attached.） ☞ submit all the relatives’ birth certificate/marriage certificate enough to prove the third degree relationship between applicant and inviter. 4 birth certificate issued by psa within 1 year 【additional requirements】 - if 4 is unreadable, submit a birth certificate issued by local civil registrar. - if 4 is “late registration”, submit baptismal certificate and school record deped:form 137. - if there is no record of birth in psa, submit birth certificate issued by local civil registrar and negative certificate issued by psa. 5 marriage certificate issued by psa within 1 year. for the married only. 【additional requirements】 - if 5 is unreadable, submit marriage certificate issued by local civil registrar. if there is no record of marriage in psa, submit marriage certificate issued by local civil registrar and negative certificate issued by psa. 6 authorization letter for purpose of verification of psa certificates ※ 【in case that applicant will shoulder part/all of travel expense】 7 bank certificate 8 photocopy of income tax return bir form inveiter’s requirements 9 invitation letter ※ 10 documents related to the reason for the invitation e.g., invitation letter showing the dates of the graduation ceremony, wedding, medical certificate, etc.; if the period of stay exceeds 30 days, an explanation letter is necessary. 11 itinerary in japan ※ 12 residence certificate jumin-hyo of inviter and guarantor ☞ jumin-hyo must describe all household members, without omission of description except individual number and jumin-hyo code. 【additional requirements】 - if inviter or his/her spouse is japanese, submit his/her koseki-tohon. if inviter/guarantor is not japanese, submit his/her photocopy of residence card both sides. 【in case that guarantor will shoulder part/all of travel expense】 13 guarantee letter ※ 14 one/some of the latest following documents to show guarantor’s precise capability to pay, submission of some of the following is allowed. - income certificate shotoku-shomeisho tax certificate nozei-shomeisho. it must include description of the total amount of income - bank certificate', 'chunk_text': 'visiting relatives april 2025 a. purpose visit relatives residing in japan within the third degree. if you visit relatives beyond the third degree, refer the requirements for “visitng friends and distant relatives”. b. requirements（details→https://www.ph.emb-japan.go.jp/itprtop_en/11_000001_00896.html） ※ downloadable from this website applicant’s requirements 1 passport（holder’s signature required） 2 photo copy of passport（identification page only） 3 application form ※（a facial photo 4.5×3.5cm must be attached.） ☞ submit all the relatives’ birth certificate/marriage certificate enough to prove the third degree relationship between applicant and inviter. 4 birth certificate issued by psa within 1 year 【additional requirements】 - if 4 is unreadable, submit a birth certificate issued by local civil registrar. - if 4 is “late registration”, submit baptismal certificate and school record deped:form 137. - if there is no record of birth in psa, submit birth certificate issued by local civil registrar and negative certificate issued by psa. 5 marriage certificate issued by psa within 1 year. for the married only. 【additional requirements】 - if 5 is unreadable, submit marriage certificate issued by local civil registrar. if there is no record of marriage in psa, submit marriage certificate issued by local civil registrar and negative certificate issued by psa. 6 authorization letter for purpose of verification of psa certificates ※ 【in case that applicant will shoulder part/all of travel expense】 7 bank certificate 8 photocopy of income tax return bir form inveiter’s requirements 9 invitation letter ※ 10 documents related to the reason for the invitation e.g., invitation letter showing the dates of the graduation ceremony, wedding, medical certificate, etc.; if the period of stay exceeds 30 days, an explanation letter is necessary. 11 itinerary in japan ※ 12 residence certificate jumin-hyo of inviter and guarantor ☞ jumin-hyo must describe all household members, without omission of description except individual number and jumin-hyo code. 【additional requirements】 - if inviter or his/her spouse is japanese, submit his/her koseki-tohon. if inviter/guarantor is not japanese, submit his/her photocopy of residence card both sides. 【in case that guarantor will shoulder part/all of travel expense】 13 guarantee letter ※ 14 one/some of the latest following documents to show guarantor’s precise capability to pay, submission of some of the following is allowed. - income certificate shotoku-shomeisho tax certificate nozei-shomeisho. it must include description of the total amount of income - bank certificate', 'relationships': None}\n"
     ]
    }
   ],
   "source": [
    "retrieve_documents(f'query: {query}', 'Custom_splitter_w_context_hf')"
   ]
  }
 ],
 "metadata": {
  "kernelspec": {
   "display_name": "rag310",
   "language": "python",
   "name": "python3"
  },
  "language_info": {
   "codemirror_mode": {
    "name": "ipython",
    "version": 3
   },
   "file_extension": ".py",
   "mimetype": "text/x-python",
   "name": "python",
   "nbconvert_exporter": "python",
   "pygments_lexer": "ipython3",
   "version": "3.10.15"
  }
 },
 "nbformat": 4,
 "nbformat_minor": 5
}
